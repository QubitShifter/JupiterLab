{
 "cells": [
  {
   "cell_type": "code",
   "execution_count": 3,
   "id": "078d90d4-aec6-40fe-997f-ce63c962d936",
   "metadata": {},
   "outputs": [],
   "source": [
    "# Write your imports hereimport os\n",
    "import os\n",
    "import numpy as np\n",
    "import pandas as pd\n",
    "import seaborn as sns\n",
    "import matplotlib.pyplot as plt\n",
    "from sklearn.preprocessing import MinMaxScaler\n",
    "\n",
    "\n",
    "from Utils.Functions.func_fix_column_names import snake_case\n",
    "from Utils.Functions.func_convert_units_kg import units_to_kg\n",
    "from Utils.Functions.func_spanish_to_english import translator\n",
    "from Utils.Functions.func_parse_trimesters import parse_trimester\n",
    "from Utils.Dicts.dict_graph_rating_colums import rating_columns\n",
    "from Utils.Lists.stats_Raiting_Columns import statistical_columns\n",
    "from Utils.Functions.func_helper_query_dataset import query_dataframe\n",
    "from Utils.Functions.func_helper_normalize_text import normalize_text\n",
    "from Utils.Dicts.dict_Country_on_Continent import country_to_continent\n",
    "from Utils.Functions.func_helper_normalize_dates import normalize_dates\n",
    "from Utils.Functions.func_helper_normalize_month import normalize_month\n",
    "\n",
    "from Utils.Functions.func_fix_date_multiColumns import convert_date_multiColumns"
   ]
  },
  {
   "cell_type": "markdown",
   "id": "02aa71be-5d01-4efc-85fa-a019fe92a39a",
   "metadata": {},
   "source": [
    "# Data Tidying and Cleaning Lab\n",
    "## Reading, tidying and cleaning data. Preparing data for exploration, mining, analysis and learning"
   ]
  },
  {
   "cell_type": "markdown",
   "id": "259927d3-4ad5-471e-b34b-114f07127a39",
   "metadata": {},
   "source": [
    "In this lab, you'll be working with the Coffee Quality Index dataset, located [here](https://www.kaggle.com/datasets/volpatto/coffee-quality-database-from-cqi). For convenience (and to save trouble in case you can't download files, or someone uploads a newer version), I've provided the dataset in the `data/` folder. The metadata (description) is at the Kaggle link. For this lab, you'll only need `merged_data_cleaned.csv`, as it is the concatenation of the other two datasets.\n",
    "\n",
    "In this (and the following labs), you'll get several questions and problems. Do your analysis, describe it, use any tools and plots you wish, and answer. You can create any amount of cells you'd like.\n",
    "\n",
    "Sometimes, the answers will not be unique, and they will depend on how you decide to approach and solve the problem. This is usual - we're doing science after all!\n",
    "\n",
    "It's a good idea to save your clean dataset after all the work you've done to it."
   ]
  },
  {
   "cell_type": "markdown",
   "id": "4450ac8e-523c-46f8-a410-9ad5af4cfc14",
   "metadata": {},
   "source": [
    "### Problem 1. Read the dataset (1 point)\n",
    "This should be self-explanatory. The first column is the index."
   ]
  },
  {
   "cell_type": "code",
   "execution_count": 20,
   "id": "df50bd71-ea2a-4db9-814d-c49f782ca101",
   "metadata": {},
   "outputs": [],
   "source": [
    "indent = \" \" * 0\n",
    "base_path = os.getcwd()\n",
    "\n",
    "# f = open('output_log.txt', 'w', encoding='utf-8')\n",
    "# sys.stdout = f\n",
    "\n",
    "# Loading dataset config CSV\n",
    "config_path = os.path.join(base_path, \"Utils\", \"Configs\", \"datasets_config.csv\")\n",
    "datasets_df = pd.read_csv(config_path)\n",
    "\n",
    "# Convert CSV config into dictionary with full paths\n",
    "dataset_paths = {\n",
    "    row['name']: os.path.normpath(os.path.join(base_path, row['path']))\n",
    "    for _, row in datasets_df.iterrows()\n",
    "}\n",
    "\n",
    "coffee_dataset_path = dataset_paths.get('coffee_data')\n",
    "coffee_dataset = pd.read_csv(cofee_dataset_path, encoding='ISO-8859-1')"
   ]
  },
  {
   "cell_type": "code",
   "execution_count": 21,
   "id": "b3307ff3-ad94-449d-beb0-59a326559b55",
   "metadata": {},
   "outputs": [
    {
     "name": "stdout",
     "output_type": "stream",
     "text": [
      "       Encoding check:\n",
      "                                                \n",
      "        Filepath: C:\\Users\\georgi.petrov\\DataScience\\04\\lab\\merged_data_cleaned.csv\n",
      "        Encoding: ISO-8859-1\n",
      "        Total lines in file (including header): 1347\n",
      "        Rows loaded in DataFrame: 1339\n",
      "        Warning: Some rows may not have been read.\n",
      "                                                \n",
      "                                                \n",
      "\n",
      "   Dataset Summary:\n",
      "   DataFrame dimensions: (1339, 44)\n",
      "                                                \n",
      "                                                \n",
      "                                                \n",
      "\n",
      "   Missing values per column:\n",
      "                                                \n",
      "Owner                      7\n",
      "Country.of.Origin          1\n",
      "Farm.Name                359\n",
      "Lot.Number              1063\n",
      "Mill                     318\n",
      "ICO.Number               159\n",
      "Company                  209\n",
      "Altitude                 226\n",
      "Region                    59\n",
      "Producer                 232\n",
      "Harvest.Year              47\n",
      "Owner.1                    7\n",
      "Variety                  226\n",
      "Processing.Method        170\n",
      "Quakers                    1\n",
      "Color                    270\n",
      "altitude_low_meters      230\n",
      "altitude_high_meters     230\n",
      "altitude_mean_meters     230\n",
      "dtype: int64\n",
      "                                                \n",
      "                                                \n",
      "                                                \n",
      "\n",
      "   Duplicate rows: 0\n",
      "                                                \n",
      "                                                \n",
      "                                                \n",
      "\n",
      "   \n",
      "    Columns and data types:\n",
      "      - Unnamed: 0: int64\n",
      "      - Species: object\n",
      "      - Owner: object\n",
      "      - Country.of.Origin: object\n",
      "      - Farm.Name: object\n",
      "      - Lot.Number: object\n",
      "      - Mill: object\n",
      "      - ICO.Number: object\n",
      "      - Company: object\n",
      "      - Altitude: object\n",
      "      - Region: object\n",
      "      - Producer: object\n",
      "      - Number.of.Bags: int64\n",
      "      - Bag.Weight: object\n",
      "      - In.Country.Partner: object\n",
      "      - Harvest.Year: object\n",
      "      - Grading.Date: object\n",
      "      - Owner.1: object\n",
      "      - Variety: object\n",
      "      - Processing.Method: object\n",
      "      - Aroma: float64\n",
      "      - Flavor: float64\n",
      "      - Aftertaste: float64\n",
      "      - Acidity: float64\n",
      "      - Body: float64\n",
      "      - Balance: float64\n",
      "      - Uniformity: float64\n",
      "      - Clean.Cup: float64\n",
      "      - Sweetness: float64\n",
      "      - Cupper.Points: float64\n",
      "      - Total.Cup.Points: float64\n",
      "      - Moisture: float64\n",
      "      - Category.One.Defects: int64\n",
      "      - Quakers: float64\n",
      "      - Color: object\n",
      "      - Category.Two.Defects: int64\n",
      "      - Expiration: object\n",
      "      - Certification.Body: object\n",
      "      - Certification.Address: object\n",
      "      - Certification.Contact: object\n",
      "      - unit_of_measurement: object\n",
      "      - altitude_low_meters: float64\n",
      "      - altitude_high_meters: float64\n",
      "      - altitude_mean_meters: float64\n",
      "                                                \n",
      "                                                \n",
      "\n",
      "   Column names (grouped) for easy reading:\n",
      "      ['Unnamed: 0', 'Species', 'Owner', 'Country.of.Origin', 'Farm.Name']\n",
      "      ['Lot.Number', 'Mill', 'ICO.Number', 'Company', 'Altitude']\n",
      "      ['Region', 'Producer', 'Number.of.Bags', 'Bag.Weight', 'In.Country.Partner']\n",
      "      ['Harvest.Year', 'Grading.Date', 'Owner.1', 'Variety', 'Processing.Method']\n",
      "      ['Aroma', 'Flavor', 'Aftertaste', 'Acidity', 'Body']\n",
      "      ['Balance', 'Uniformity', 'Clean.Cup', 'Sweetness', 'Cupper.Points']\n",
      "      ['Total.Cup.Points', 'Moisture', 'Category.One.Defects', 'Quakers', 'Color']\n",
      "      ['Category.Two.Defects', 'Expiration', 'Certification.Body', 'Certification.Address', 'Certification.Contact']\n",
      "      ['unit_of_measurement', 'altitude_low_meters', 'altitude_high_meters', 'altitude_mean_meters']\n",
      "                                                \n",
      "                                                \n",
      "\n",
      "   First 5 rows:\n",
      "   Unnamed: 0  Species                     Owner Country.of.Origin  \\\n",
      "0           0  Arabica                 metad plc          Ethiopia   \n",
      "1           1  Arabica                 metad plc          Ethiopia   \n",
      "2           2  Arabica  grounds for health admin         Guatemala   \n",
      "3           3  Arabica       yidnekachew dabessa          Ethiopia   \n",
      "4           4  Arabica                 metad plc          Ethiopia   \n",
      "\n",
      "                                  Farm.Name Lot.Number       Mill ICO.Number  \\\n",
      "0                                 metad plc        NaN  metad plc  2014/2015   \n",
      "1                                 metad plc        NaN  metad plc  2014/2015   \n",
      "2  san marcos barrancas \"san cristobal cuch        NaN        NaN        NaN   \n",
      "3     yidnekachew dabessa coffee plantation        NaN    wolensu        NaN   \n",
      "4                                 metad plc        NaN  metad plc  2014/2015   \n",
      "\n",
      "                                 Company       Altitude  ...  Color  \\\n",
      "0      metad agricultural developmet plc      1950-2200  ...  Green   \n",
      "1      metad agricultural developmet plc      1950-2200  ...  Green   \n",
      "2                                    NaN  1600 - 1800 m  ...    NaN   \n",
      "3  yidnekachew debessa coffee plantation      1800-2200  ...  Green   \n",
      "4      metad agricultural developmet plc      1950-2200  ...  Green   \n",
      "\n",
      "  Category.Two.Defects        Expiration                  Certification.Body  \\\n",
      "0                    0   April 3rd, 2016  METAD Agricultural Development plc   \n",
      "1                    1   April 3rd, 2016  METAD Agricultural Development plc   \n",
      "2                    0    May 31st, 2011        Specialty Coffee Association   \n",
      "3                    2  March 25th, 2016  METAD Agricultural Development plc   \n",
      "4                    2   April 3rd, 2016  METAD Agricultural Development plc   \n",
      "\n",
      "                      Certification.Address  \\\n",
      "0  309fcf77415a3661ae83e027f7e5f05dad786e44   \n",
      "1  309fcf77415a3661ae83e027f7e5f05dad786e44   \n",
      "2  36d0d00a3724338ba7937c52a378d085f2172daa   \n",
      "3  309fcf77415a3661ae83e027f7e5f05dad786e44   \n",
      "4  309fcf77415a3661ae83e027f7e5f05dad786e44   \n",
      "\n",
      "                      Certification.Contact unit_of_measurement  \\\n",
      "0  19fef5a731de2db57d16da10287413f5f99bc2dd                   m   \n",
      "1  19fef5a731de2db57d16da10287413f5f99bc2dd                   m   \n",
      "2  0878a7d4b9d35ddbf0fe2ce69a2062cceb45a660                   m   \n",
      "3  19fef5a731de2db57d16da10287413f5f99bc2dd                   m   \n",
      "4  19fef5a731de2db57d16da10287413f5f99bc2dd                   m   \n",
      "\n",
      "  altitude_low_meters altitude_high_meters altitude_mean_meters  \n",
      "0              1950.0               2200.0               2075.0  \n",
      "1              1950.0               2200.0               2075.0  \n",
      "2              1600.0               1800.0               1700.0  \n",
      "3              1800.0               2200.0               2000.0  \n",
      "4              1950.0               2200.0               2075.0  \n",
      "\n",
      "[5 rows x 44 columns]\n",
      "                                                \n",
      "\n",
      "   Last 5 rows:\n",
      "      Unnamed: 0  Species          Owner Country.of.Origin        Farm.Name  \\\n",
      "1334        1334  Robusta    luis robles           Ecuador        robustasa   \n",
      "1335        1335  Robusta    luis robles           Ecuador        robustasa   \n",
      "1336        1336  Robusta    james moore     United States  fazenda cazengo   \n",
      "1337        1337  Robusta  cafe politico             India              NaN   \n",
      "1338        1338  Robusta  cafe politico           Vietnam              NaN   \n",
      "\n",
      "     Lot.Number            Mill         ICO.Number                  Company  \\\n",
      "1334   Lavado 1     our own lab                NaN                robustasa   \n",
      "1335   Lavado 3  own laboratory                NaN                robustasa   \n",
      "1336        NaN    cafe cazengo                NaN  global opportunity fund   \n",
      "1337        NaN             NaN  14-1118-2014-0087            cafe politico   \n",
      "1338        NaN             NaN                NaN            cafe politico   \n",
      "\n",
      "        Altitude  ...       Color Category.Two.Defects           Expiration  \\\n",
      "1334         NaN  ...  Blue-Green                    1   January 18th, 2017   \n",
      "1335          40  ...  Blue-Green                    0   January 18th, 2017   \n",
      "1336  795 meters  ...         NaN                    6  December 23rd, 2015   \n",
      "1337         NaN  ...       Green                    1    August 25th, 2015   \n",
      "1338         NaN  ...         NaN                    9    August 25th, 2015   \n",
      "\n",
      "                Certification.Body                     Certification.Address  \\\n",
      "1334  Specialty Coffee Association  ff7c18ad303d4b603ac3f8cff7e611ffc735e720   \n",
      "1335  Specialty Coffee Association  ff7c18ad303d4b603ac3f8cff7e611ffc735e720   \n",
      "1336  Specialty Coffee Association  ff7c18ad303d4b603ac3f8cff7e611ffc735e720   \n",
      "1337  Specialty Coffee Association  ff7c18ad303d4b603ac3f8cff7e611ffc735e720   \n",
      "1338  Specialty Coffee Association  ff7c18ad303d4b603ac3f8cff7e611ffc735e720   \n",
      "\n",
      "                         Certification.Contact unit_of_measurement  \\\n",
      "1334  352d0cf7f3e9be14dad7df644ad65efc27605ae2                   m   \n",
      "1335  352d0cf7f3e9be14dad7df644ad65efc27605ae2                   m   \n",
      "1336  352d0cf7f3e9be14dad7df644ad65efc27605ae2                   m   \n",
      "1337  352d0cf7f3e9be14dad7df644ad65efc27605ae2                   m   \n",
      "1338  352d0cf7f3e9be14dad7df644ad65efc27605ae2                   m   \n",
      "\n",
      "     altitude_low_meters altitude_high_meters altitude_mean_meters  \n",
      "1334                 NaN                  NaN                  NaN  \n",
      "1335                40.0                 40.0                 40.0  \n",
      "1336               795.0                795.0                795.0  \n",
      "1337                 NaN                  NaN                  NaN  \n",
      "1338                 NaN                  NaN                  NaN  \n",
      "\n",
      "[5 rows x 44 columns]\n"
     ]
    }
   ],
   "source": [
    "query_dataframe(coffee_dataset, filepath=coffee_dataset_path , encoding='ISO-8859-1')"
   ]
  },
  {
   "cell_type": "markdown",
   "id": "b278e2a8-56b4-4b1a-ad71-e7b920321e37",
   "metadata": {},
   "source": [
    "### Problem 2. Observations and features (1 point)\n",
    "How many observations are there? How many features? Which features are numerical, and which are categorical?\n",
    "\n",
    "**Note:** Think about the _meaning_, not the data types. The dataset hasn't been thoroughly cleaned."
   ]
  },
  {
   "cell_type": "code",
   "execution_count": 26,
   "id": "e7d17c46-5475-4c33-9c35-b7cf56ac41c3",
   "metadata": {},
   "outputs": [],
   "source": [
    "numerical = list(coffee_dataset.select_dtypes(include=[np.number]).columns)\n",
    "categorical = list(coffee_dataset.select_dtypes(include='object').columns)\n",
    "\n",
    "if 'Unnamed: 0' in numerical:\n",
    "    numerical.remove('Unnamed: 0')"
   ]
  },
  {
   "cell_type": "code",
   "execution_count": 27,
   "id": "d0ea3439-bcfa-4fd9-aefb-68ed981d6483",
   "metadata": {},
   "outputs": [
    {
     "name": "stdout",
     "output_type": "stream",
     "text": [
      "                                                \n",
      "\n",
      "\n",
      "Number of Numerical features: 19\n",
      "\n",
      "Numerical features:\n",
      "['Number.of.Bags', 'Aroma', 'Flavor', 'Aftertaste', 'Acidity']\n",
      "['Body', 'Balance', 'Uniformity', 'Clean.Cup', 'Sweetness']\n",
      "['Cupper.Points', 'Total.Cup.Points', 'Moisture', 'Category.One.Defects', 'Quakers']\n",
      "['Category.Two.Defects', 'altitude_low_meters', 'altitude_high_meters', 'altitude_mean_meters']\n"
     ]
    }
   ],
   "source": [
    "print(f\"{'':48}\\n\" * 1)\n",
    "print(indent + f\"\\nNumber of Numerical features: {len(numerical)}\")\n",
    "print(indent + \"\\nNumerical features:\")\n",
    "for i in range(0, len(numerical), 5):\n",
    "    print(numerical[i:i+5])"
   ]
  },
  {
   "cell_type": "code",
   "execution_count": 28,
   "id": "939927d9-227c-485a-ac86-87c55314cba6",
   "metadata": {},
   "outputs": [
    {
     "name": "stdout",
     "output_type": "stream",
     "text": [
      "\n",
      "Number of Categorical features: 24\n",
      "\n",
      "Categorical features:\n",
      "['Species', 'Owner', 'Country.of.Origin', 'Farm.Name', 'Lot.Number']\n",
      "['Mill', 'ICO.Number', 'Company', 'Altitude', 'Region']\n",
      "['Producer', 'Bag.Weight', 'In.Country.Partner', 'Harvest.Year', 'Grading.Date']\n",
      "['Owner.1', 'Variety', 'Processing.Method', 'Color', 'Expiration']\n",
      "['Certification.Body', 'Certification.Address', 'Certification.Contact', 'unit_of_measurement']\n"
     ]
    }
   ],
   "source": [
    "print(indent + f\"\\nNumber of Categorical features: {len(categorical)}\")\n",
    "print(indent + \"\\nCategorical features:\")\n",
    "for i in range(0, len(categorical), 5):\n",
    "    print(categorical[i:i+5])"
   ]
  },
  {
   "cell_type": "markdown",
   "id": "2b745e68-35eb-4acb-b39f-513137f0ee4b",
   "metadata": {},
   "source": [
    "### Problem 3. Column manipulation (1 point)\n",
    "Make the column names more Pythonic (which helps with the quality and... aesthetics). Convert column names to `snake_case`, i.e. `species`, `country_of_origin`, `ico_number`, etc. Try to not do it manually."
   ]
  },
  {
   "cell_type": "markdown",
   "id": "0feb9626-3b6e-4cfb-8751-3b93036d08ae",
   "metadata": {},
   "source": [
    "### In order to rename columns we will use custom created function 'snake_case' imported in the top of the file with \n",
    "### from Utils.Functions.func_fix_column_names import snake_case"
   ]
  },
  {
   "cell_type": "code",
   "execution_count": 30,
   "id": "301e9f3f-afd6-4a91-a32f-1974584694ca",
   "metadata": {},
   "outputs": [],
   "source": [
    "coffee_dataset_columns_renamed = coffee_dataset.columns.map(snake_case)\n",
    "coffee_dataset_columns_original_names = coffee_dataset.columns.copy()\n",
    "coffee_dataset.columns = coffee_dataset_columns_renamed"
   ]
  },
  {
   "cell_type": "code",
   "execution_count": 32,
   "id": "83957bd6-2958-47f0-ba9c-a411e8781d57",
   "metadata": {},
   "outputs": [
    {
     "name": "stdout",
     "output_type": "stream",
     "text": [
      "Index(['Unnamed: 0', 'Species', 'Owner', 'Country.of.Origin', 'Farm.Name',\n",
      "       'Lot.Number', 'Mill', 'ICO.Number', 'Company', 'Altitude', 'Region',\n",
      "       'Producer', 'Number.of.Bags', 'Bag.Weight', 'In.Country.Partner',\n",
      "       'Harvest.Year', 'Grading.Date', 'Owner.1', 'Variety',\n",
      "       'Processing.Method', 'Aroma', 'Flavor', 'Aftertaste', 'Acidity', 'Body',\n",
      "       'Balance', 'Uniformity', 'Clean.Cup', 'Sweetness', 'Cupper.Points',\n",
      "       'Total.Cup.Points', 'Moisture', 'Category.One.Defects', 'Quakers',\n",
      "       'Color', 'Category.Two.Defects', 'Expiration', 'Certification.Body',\n",
      "       'Certification.Address', 'Certification.Contact', 'unit_of_measurement',\n",
      "       'altitude_low_meters', 'altitude_high_meters', 'altitude_mean_meters'],\n",
      "      dtype='object')\n",
      "                                                \n",
      "\n",
      "DataFrame. Columns after being renamed:\n",
      "\n",
      "Index(['unnamed: 0', 'species', 'owner', 'country_of_origin', 'farm_name',\n",
      "       'lot_number', 'mill', 'ico_number', 'company', 'altitude', 'region',\n",
      "       'producer', 'number_of_bags', 'bag_weight', 'in_country_partner',\n",
      "       'harvest_year', 'grading_date', 'owner_1', 'variety',\n",
      "       'processing_method', 'aroma', 'flavor', 'aftertaste', 'acidity', 'body',\n",
      "       'balance', 'uniformity', 'clean_cup', 'sweetness', 'cupper_points',\n",
      "       'total_cup_points', 'moisture', 'category_one_defects', 'quakers',\n",
      "       'color', 'category_two_defects', 'expiration', 'certification_body',\n",
      "       'certification_address', 'certification_contact', 'unit_of_measurement',\n",
      "       'altitude_low_meters', 'altitude_high_meters', 'altitude_mean_meters'],\n",
      "      dtype='object')\n",
      "                                                \n",
      "\n",
      "Index column for our DataFrame is: unnamed: 0\n",
      "DataFrame. Columns after declaring Index column:\n",
      "\n",
      "Index(['species', 'owner', 'country_of_origin', 'farm_name', 'lot_number',\n",
      "       'mill', 'ico_number', 'company', 'altitude', 'region', 'producer',\n",
      "       'number_of_bags', 'bag_weight', 'in_country_partner', 'harvest_year',\n",
      "       'grading_date', 'owner_1', 'variety', 'processing_method', 'aroma',\n",
      "       'flavor', 'aftertaste', 'acidity', 'body', 'balance', 'uniformity',\n",
      "       'clean_cup', 'sweetness', 'cupper_points', 'total_cup_points',\n",
      "       'moisture', 'category_one_defects', 'quakers', 'color',\n",
      "       'category_two_defects', 'expiration', 'certification_body',\n",
      "       'certification_address', 'certification_contact', 'unit_of_measurement',\n",
      "       'altitude_low_meters', 'altitude_high_meters', 'altitude_mean_meters'],\n",
      "      dtype='object')\n"
     ]
    }
   ],
   "source": [
    "print(coffee_dataset_columns_original_names)\n",
    "print(f\"{'':48}\\n\" * 1)\n",
    "print(\"DataFrame. Columns after being renamed:\\n\")\n",
    "print(coffee_dataset.columns)\n",
    "coffee_dataset.set_index('unnamed: 0', inplace=True)\n",
    "print(f\"{'':48}\\n\" * 1)\n",
    "\n",
    "print(indent + f\"Index column for our DataFrame is: {coffee_dataset.index.name}\")\n",
    "print(\"DataFrame. Columns after declaring Index column:\\n\")\n",
    "print(coffee_dataset.columns)"
   ]
  },
  {
   "cell_type": "markdown",
   "id": "8c53c4c6-6eb9-4c92-bd39-89286fe4c86e",
   "metadata": {},
   "source": [
    "### Problem 4. Bag weight (1 point)\n",
    "What's up with the bag weights? Make all necessary changes to the column values. Don't forget to document your methods and assumptions."
   ]
  },
  {
   "cell_type": "markdown",
   "id": "7d95b3ec-7852-46a3-a85f-9c5c60dd1b16",
   "metadata": {},
   "source": [
    "##  lets observe specified column ->  bag_weights "
   ]
  },
  {
   "cell_type": "code",
   "execution_count": 35,
   "id": "52793b9d-ac77-4bbf-b7bd-107468ce0eda",
   "metadata": {},
   "outputs": [
    {
     "name": "stdout",
     "output_type": "stream",
     "text": [
      "unnamed: 0\n",
      "0       60 kg\n",
      "1       60 kg\n",
      "2           1\n",
      "3       60 kg\n",
      "4       60 kg\n",
      "        ...  \n",
      "1334     2 kg\n",
      "1335     2 kg\n",
      "1336     1 kg\n",
      "1337    5 lbs\n",
      "1338    5 lbs\n",
      "Name: bag_weight, Length: 1339, dtype: object\n"
     ]
    }
   ],
   "source": [
    "print(coffee_dataset[\"bag_weight\"])"
   ]
  },
  {
   "cell_type": "code",
   "execution_count": 36,
   "id": "585fb366-9eb7-4fed-8606-78878f76652e",
   "metadata": {},
   "outputs": [
    {
     "name": "stdout",
     "output_type": "stream",
     "text": [
      "['60 kg' '1' '30 kg' '69 kg' '1 kg' '2 kg,lbs' '6' '3 lbs' '50 kg' '2 lbs'\n",
      " '100 lbs' '15 kg' '2 kg' '2' '70 kg' '19200 kg' '5 lbs' '1 kg,lbs' '6 kg'\n",
      " '0 lbs' '46 kg' '40 kg' '20 kg' '34 kg' '1 lbs' '660 kg' '18975 kg'\n",
      " '12000 kg' '35 kg' '66 kg' '80 kg' '132 lbs' '5 kg' '25 kg' '59 kg'\n",
      " '18000 kg' '150 lbs' '9000 kg' '18 kg' '10 kg' '29 kg' '1218 kg' '4 lbs'\n",
      " '0 kg' '13800 kg' '1500 kg' '24 kg' '80 lbs' '8 kg' '3 kg' '350 kg'\n",
      " '67 kg' '4 kg' '55 lbs' '100 kg' '130 lbs']\n"
     ]
    }
   ],
   "source": [
    "print(coffee_dataset[\"bag_weight\"].unique())"
   ]
  },
  {
   "cell_type": "markdown",
   "id": "2795b551-746c-4343-ab6a-09270992edaf",
   "metadata": {},
   "source": [
    " ##   [Bag.Weight] column contains as many different measurment units as you can possibly think of.\n",
    "     Column should be normalized with a single unit, most likely kilogram as ubiversal SI unit for measuring weight."
   ]
  },
  {
   "cell_type": "markdown",
   "id": "fb278af4-f4d6-4705-9ff3-b47e717684c0",
   "metadata": {},
   "source": [
    "##  First we are going to check if [Bag.Weight] column contains NaN as a values."
   ]
  },
  {
   "cell_type": "code",
   "execution_count": 38,
   "id": "b62f8111-ad68-44a8-bfe4-5afbd074b7a8",
   "metadata": {},
   "outputs": [
    {
     "name": "stdout",
     "output_type": "stream",
     "text": [
      "unnamed: 0\n",
      "0       False\n",
      "1       False\n",
      "2       False\n",
      "3       False\n",
      "4       False\n",
      "        ...  \n",
      "1334    False\n",
      "1335    False\n",
      "1336    False\n",
      "1337    False\n",
      "1338    False\n",
      "Name: bag_weight, Length: 1339, dtype: bool\n"
     ]
    }
   ],
   "source": [
    "print(coffee_dataset[\"bag_weight\"].isna())"
   ]
  },
  {
   "cell_type": "code",
   "execution_count": 39,
   "id": "ed633494-3a24-4689-83bf-a4d5388d00a8",
   "metadata": {},
   "outputs": [
    {
     "name": "stdout",
     "output_type": "stream",
     "text": [
      "False\n"
     ]
    }
   ],
   "source": [
    "print(coffee_dataset[\"bag_weight\"].isna().any())"
   ]
  },
  {
   "cell_type": "code",
   "execution_count": 40,
   "id": "869651bd-8035-4735-9ef7-fc4137bc4bc1",
   "metadata": {},
   "outputs": [
    {
     "name": "stdout",
     "output_type": "stream",
     "text": [
      "           bag_weight  is_missing\n",
      "unnamed: 0                       \n",
      "0               60 kg       False\n",
      "1               60 kg       False\n",
      "2                   1       False\n",
      "3               60 kg       False\n",
      "4               60 kg       False\n",
      "...               ...         ...\n",
      "1334             2 kg       False\n",
      "1335             2 kg       False\n",
      "1336             1 kg       False\n",
      "1337            5 lbs       False\n",
      "1338            5 lbs       False\n",
      "\n",
      "[1339 rows x 2 columns]\n",
      "0\n"
     ]
    }
   ],
   "source": [
    "coffee_dataset[\"is_missing\"] = coffee_dataset[\"bag_weight\"].isna()\n",
    "print(coffee_dataset[[\"bag_weight\", 'is_missing']])\n",
    "print(coffee_dataset[\"bag_weight\"].isna().sum())"
   ]
  },
  {
   "cell_type": "markdown",
   "id": "fdf88635-01ce-4232-87d2-1c0b43998127",
   "metadata": {},
   "source": [
    "##  For our relief and best surprise [bag_weight] column does not have any NaN as a values.\n",
    "##  We can now convert all these different measurement units into a sigle one. THE ONE!!!"
   ]
  },
  {
   "cell_type": "markdown",
   "id": "2bc48bc1-97cf-4bab-864e-680d81b54e22",
   "metadata": {},
   "source": [
    "##  We are going to call a custom made function \"units_to_kg\" which is going to \n",
    "##  convert all different units to a kilogram. Thus it we will be more convinient for us \n",
    "##  if we need to use [bag_weight] for further calculation  "
   ]
  },
  {
   "cell_type": "code",
   "execution_count": 41,
   "id": "b34e8c95-8ebd-44ce-8c8b-275210f0c201",
   "metadata": {},
   "outputs": [
    {
     "name": "stdout",
     "output_type": "stream",
     "text": [
      "           bag_weight  bag_weight [kg]\n",
      "unnamed: 0                            \n",
      "0               60 kg               60\n",
      "1               60 kg               60\n",
      "2                   1                1\n",
      "3               60 kg               60\n",
      "4               60 kg               60\n",
      "5               30 kg               30\n",
      "6               69 kg               69\n",
      "7               60 kg               60\n",
      "8               60 kg               60\n",
      "9               60 kg               60\n"
     ]
    }
   ],
   "source": [
    "coffee_dataset[\"bag_weight [kg]\"] = coffee_dataset[\"bag_weight\"].apply(units_to_kg)\n",
    "print(coffee_dataset[[\"bag_weight\", \"bag_weight [kg]\"]].head(10))"
   ]
  },
  {
   "cell_type": "markdown",
   "id": "d30501e3-a402-4bac-a275-d22ac0835e1f",
   "metadata": {},
   "source": [
    "##  After applying \"units_to_kg\" to [bag_weight] now all values are in same unit - kilogram."
   ]
  },
  {
   "cell_type": "code",
   "execution_count": 42,
   "id": "53d28f84-a773-4314-94c8-995819ea41ea",
   "metadata": {},
   "outputs": [
    {
     "name": "stdout",
     "output_type": "stream",
     "text": [
      "[   60     1    30    69     2     6    50    45    15    70 19200     0\n",
      "    46    40    20    34   660 18975 12000    35    66    80     5    25\n",
      "    59 18000    68  9000    18    10    29  1218 13800  1500    24    36\n",
      "     8     3   350    67     4   100]\n"
     ]
    }
   ],
   "source": [
    "print(coffee_dataset[\"bag_weight [kg]\"].unique())"
   ]
  },
  {
   "cell_type": "markdown",
   "id": "2ff1f817-8e5e-4185-a320-dde7ed2cada1",
   "metadata": {},
   "source": [
    "### Problem 5. Dates (1 point)\n",
    "This should remind you of problem 4 but it's slightly nastier. Fix the harvest years, document the process.\n",
    "\n",
    "While you're here, fix the expiration dates, and grading dates. Unlike the other column, these should be dates (`pd.to_datetime()` is your friend)."
   ]
  },
  {
   "cell_type": "markdown",
   "id": "271efcce-89f4-48f4-8a3d-80674529eb1d",
   "metadata": {},
   "source": [
    "##  Firts we will check the initial values in both [grading_date] and [expiration]\n",
    " ##    columns and based on whats in it, we are going to do some magic  "
   ]
  },
  {
   "cell_type": "code",
   "execution_count": 43,
   "id": "ebfd84d7-b8c3-4558-9c1e-32b20bc49c3e",
   "metadata": {},
   "outputs": [
    {
     "name": "stdout",
     "output_type": "stream",
     "text": [
      "                   grading_date           expiration\n",
      "unnamed: 0                                          \n",
      "0               April 4th, 2015      April 3rd, 2016\n",
      "1               April 4th, 2015      April 3rd, 2016\n",
      "2                May 31st, 2010       May 31st, 2011\n",
      "3              March 26th, 2015     March 25th, 2016\n",
      "4               April 4th, 2015      April 3rd, 2016\n",
      "...                         ...                  ...\n",
      "1334         January 19th, 2016   January 18th, 2017\n",
      "1335         January 19th, 2016   January 18th, 2017\n",
      "1336        December 23rd, 2014  December 23rd, 2015\n",
      "1337          August 25th, 2014    August 25th, 2015\n",
      "1338          August 25th, 2014    August 25th, 2015\n",
      "\n",
      "[1339 rows x 2 columns]\n"
     ]
    }
   ],
   "source": [
    "print(coffee_dataset[[\"grading_date\", \"expiration\"]])"
   ]
  },
  {
   "cell_type": "markdown",
   "id": "70b2ab49-4898-492d-9b6d-4ad57db393b2",
   "metadata": {},
   "source": [
    "##  Both columns contains dates in format that only Chuck Noris can use for further calculation.   \n",
    "##  But we are weak. We need something straightforward like \"%Y-%m-%d\""
   ]
  },
  {
   "cell_type": "markdown",
   "id": "e7ffe211-342c-4858-bf50-73a0d2c14b20",
   "metadata": {},
   "source": [
    "##  We are going to use another custom function - convert_date_multiColumns wich will convert \n",
    "##  data in both [grading_date] and [expiration] columns to \"%Y-%m-%d\""
   ]
  },
  {
   "cell_type": "code",
   "execution_count": 91,
   "id": "878d6a20-ebf6-47d8-8937-61367a1ada02",
   "metadata": {},
   "outputs": [
    {
     "name": "stdout",
     "output_type": "stream",
     "text": [
      "           grading_date  expiration\n",
      "unnamed: 0                         \n",
      "0            2015-04-04  2016-04-03\n",
      "1            2015-04-04  2016-04-03\n",
      "2                   NaN         NaN\n",
      "3            2015-03-26         NaN\n",
      "4            2015-04-04  2016-04-03\n",
      "...                 ...         ...\n",
      "1334         2016-01-19         NaN\n",
      "1335         2016-01-19         NaN\n",
      "1336                NaN  2015-12-23\n",
      "1337         2014-08-25         NaN\n",
      "1338         2014-08-25         NaN\n",
      "\n",
      "[1337 rows x 2 columns]\n",
      "grading_date    True\n",
      "expiration      True\n",
      "dtype: bool\n"
     ]
    }
   ],
   "source": [
    "coffee_data_expiration_dates = convert_date_multiColumns(coffee_dataset, [\"grading_date\", \"expiration\"])\n",
    "print(coffee_data_expiration_dates[[\"grading_date\", \"expiration\"]])\n",
    "print(coffee_data_expiration_dates[[\"grading_date\", \"expiration\"]].isna().any())"
   ]
  },
  {
   "cell_type": "markdown",
   "id": "056c7d21-2fb2-444f-b920-93ac0c36239f",
   "metadata": {},
   "source": [
    "##  Both [grading_date] and [expiration] are now with \"%Y-%m-%d\" as a date format. Looks like there are no any NaNs\n",
    "##  as a values in these columns. So we are good"
   ]
  },
  {
   "cell_type": "markdown",
   "id": "f2502346-fa45-44f3-8aec-415291aaa714",
   "metadata": {},
   "source": [
    "##  Moving on with [harvest_year] column."
   ]
  },
  {
   "cell_type": "code",
   "execution_count": 45,
   "id": "9d033962-d891-4963-a0cb-5c5725b65fff",
   "metadata": {},
   "outputs": [
    {
     "name": "stdout",
     "output_type": "stream",
     "text": [
      "['2014' nan '2013' '2012' 'March 2010' 'Sept 2009 - April 2010'\n",
      " 'May-August' '2009/2010' '2015' '2011' '2016' '2015/2016' '2010'\n",
      " 'Fall 2009' '2017' '2009 / 2010' '2010-2011' '2009-2010' '2009 - 2010'\n",
      " '2013/2014' '2017 / 2018' 'mmm' 'TEST' 'December 2009-March 2010'\n",
      " '2014/2015' '2011/2012' 'January 2011' '4T/10' '2016 / 2017'\n",
      " '23 July 2010' 'January Through April' '1T/2011' '4t/2010' '4T/2010'\n",
      " 'August to December' 'Mayo a Julio' '47/2010' 'Abril - Julio' '4t/2011'\n",
      " 'Abril - Julio /2011' 'Spring 2011 in Colombia.' '3T/2011' '2016/2017'\n",
      " '1t/2011' '2018' '4T72010' '08/09 crop']\n"
     ]
    }
   ],
   "source": [
    "print(coffee_dataset[\"harvest_year\"].unique())"
   ]
  },
  {
   "cell_type": "markdown",
   "id": "a444b6a0-0dd4-4b39-8d93-c5bcd86e35b8",
   "metadata": {},
   "source": [
    "##  This column contains quite a lot different types of date formats. It also have spanish words init. \n",
    "##  It appears that we have to deal not only with years, month to month as a period, but with some trimesters ->\n",
    "##  like \"4T/20100\" as a harvest period."
   ]
  },
  {
   "cell_type": "markdown",
   "id": "24fc4dfa-b8d1-4e5a-84d3-51c05de6c270",
   "metadata": {},
   "source": [
    "##  We will start to clear all differences and inconsistencies one by one. For the beginning we can try \n",
    "##  to translate all spanish words to English. For this purpose  we have custom dictionaty \"dict_Es_to_En\" \n",
    "##  and a suctom function that will use this dictionary to translate what needs to be translated"
   ]
  },
  {
   "cell_type": "markdown",
   "id": "bff1530a-3467-46e3-9ae3-0b6823eded03",
   "metadata": {},
   "source": [
    "##  We will try to convert this trimesters dates into \"%Ъ-%мп-%д\" формат\n",
    "##  again we will use  custom magic functions. function 'translator' for translating spanish to english, \n",
    "## and function ->  normalize_dates to fix this date mess .."
   ]
  },
  {
   "cell_type": "code",
   "execution_count": 47,
   "id": "9eeadd67-f51f-4e74-a5b3-7db0dbe1b7ee",
   "metadata": {},
   "outputs": [
    {
     "name": "stdout",
     "output_type": "stream",
     "text": [
      "['2014' nan '2013' '2012' 'March 2010' 'Sept 2009 - April 2010'\n",
      " 'May-August' '2009/2010' '2015' '2011' '2016' '2015/2016' '2010'\n",
      " 'Fall 2009' '2017' '2009 / 2010' '2010-2011' '2009-2010' '2009 - 2010'\n",
      " '2013/2014' '2017 / 2018' 'mmm' 'TEST' 'December 2009-March 2010'\n",
      " '2014/2015' '2011/2012' 'January 2011' '4T/10' '2016 / 2017'\n",
      " '23 July 2010' 'January Through April' '1T/2011' '4t/2010' '4T/2010'\n",
      " 'August to December' 'may to july' '47/2010' 'april - july' '4t/2011'\n",
      " 'april - july /2011' 'Spring 2011 in Colombia.' '3T/2011' '2016/2017'\n",
      " '1t/2011' '2018' '4T72010' '08/09 crop']\n",
      "                                                \n",
      "           harvest_year harvest_trimester_start harvest_trimester_end\n",
      "unnamed: 0                                                           \n",
      "312               4T/10              2010-10-01            2010-12-31\n",
      "437             1T/2011              2011-01-01            2011-03-31\n",
      "438             4t/2010              2010-10-01            2010-12-31\n",
      "439             4T/2010              2010-10-01            2010-12-31\n",
      "530             4t/2011              2011-10-01            2011-12-31\n",
      "631               4T/10              2010-10-01            2010-12-31\n",
      "704             3T/2011              2011-07-01            2011-09-30\n",
      "776               4T/10              2010-10-01            2010-12-31\n",
      "832             4T/2010              2010-10-01            2010-12-31\n",
      "857             1t/2011              2011-01-01            2011-03-31\n"
     ]
    }
   ],
   "source": [
    "coffee_dataset['harvest_year_original'] = coffee_dataset['harvest_year'].copy()\n",
    "\n",
    "coffee_dataset['harvest_year_en'] = coffee_dataset['harvest_year'].apply(translator)\n",
    "print(coffee_dataset['harvest_year_en'].unique())\n",
    "print(f\"{'':48}\")\n",
    "coffee_dataset['harvest_year'] = coffee_dataset['harvest_year_en']\n",
    "\n",
    "coffee_dataset[[\"harvest_trimester_start\", \"harvest_trimester_end\"]] = (\n",
    "    coffee_dataset[\"harvest_year\"]\n",
    "    .apply(parse_trimester)\n",
    "    .apply(pd.Series)\n",
    ")\n",
    "\n",
    "print(coffee_dataset[[\"harvest_year\", \"harvest_trimester_start\", \"harvest_trimester_end\"]]\n",
    "      .dropna()\n",
    "      .head(10))\n",
    "\n",
    "coffee_dataset['harvest_normalized'] = coffee_dataset['harvest_year'].apply(normalize_dates)"
   ]
  },
  {
   "cell_type": "markdown",
   "id": "473e6b8b-7d7b-42d2-8974-dc1ef4fcb59c",
   "metadata": {},
   "source": [
    "##  Това са нормализираните дати като имана-дата-месец\n",
    "##  добавили сме две нови колони 'harvest_trimester_start'  и 'harvest_trimester_end' за \n",
    "## начяало и край на периода.. "
   ]
  },
  {
   "cell_type": "code",
   "execution_count": 48,
   "id": "06f6a44b-435a-4459-8171-fcce2a8ed82c",
   "metadata": {},
   "outputs": [
    {
     "name": "stdout",
     "output_type": "stream",
     "text": [
      "['2014' '2013' '2012' 'march 2010' 'sept 2009 - april 2010' 'may - august'\n",
      " '2009 / 2010' '2015' '2011' '2016' '2015 / 2016' '2010' 'fall 2009'\n",
      " '2017' '2010 - 2011' '2009 - 2010' '2013 / 2014' '2017 / 2018' 'mmm'\n",
      " 'test' 'december 2009 - march 2010' '2014 / 2015' '2011 / 2012'\n",
      " 'january 2011' '4t / 10' '2016 / 2017' '23 july 2010'\n",
      " 'january through april' '1t / 2011' '4t / 2010' 'august - december'\n",
      " 'may - july' '47 / 2010' 'april - july' '4t / 2011' 'april - july / 2011'\n",
      " 'spring 2011 in colombia.' '3t / 2011' '2018' '4t72010' '08 / 09 crop']\n"
     ]
    }
   ],
   "source": [
    "print(coffee_dataset['harvest_normalized'].dropna().unique())"
   ]
  },
  {
   "cell_type": "markdown",
   "id": "3bd0518e-03ad-41a1-bf82-5e3b5557f028",
   "metadata": {},
   "source": [
    "##  ще се опитаме да премахнем описателния характер в датите като \"january through april\",\n",
    "##  новите дати трябва да са във формат \"January - April\""
   ]
  },
  {
   "cell_type": "markdown",
   "id": "27ed990a-4951-4c4b-9407-3843d76cc3dd",
   "metadata": {},
   "source": [
    "##  Резултатът го запазваме в dataset-a Който ще продължим да обработваме по нататък"
   ]
  },
  {
   "cell_type": "code",
   "execution_count": 52,
   "id": "1f6e965d-e975-47e6-97f6-ab3afd3bdbaf",
   "metadata": {},
   "outputs": [
    {
     "name": "stdout",
     "output_type": "stream",
     "text": [
      "Index(['species', 'owner', 'country_of_origin', 'farm_name', 'lot_number',\n",
      "       'mill', 'ico_number', 'company', 'altitude', 'region', 'producer',\n",
      "       'number_of_bags', 'bag_weight', 'in_country_partner', 'harvest_year',\n",
      "       'grading_date', 'owner_1', 'variety', 'processing_method', 'aroma',\n",
      "       'flavor', 'aftertaste', 'acidity', 'body', 'balance', 'uniformity',\n",
      "       'clean_cup', 'sweetness', 'cupper_points', 'total_cup_points',\n",
      "       'moisture', 'category_one_defects', 'quakers', 'color',\n",
      "       'category_two_defects', 'expiration', 'certification_body',\n",
      "       'certification_address', 'certification_contact', 'unit_of_measurement',\n",
      "       'altitude_low_meters', 'altitude_high_meters', 'altitude_mean_meters',\n",
      "       'is_missing', 'bag_weight [kg]', 'harvest_year_original',\n",
      "       'harvest_year_en', 'harvest_trimester_start', 'harvest_trimester_end',\n",
      "       'harvest_normalized', 'harvest_year_norm', 'harvest_year_clean'],\n",
      "      dtype='object')\n"
     ]
    }
   ],
   "source": [
    "coffee_dataset[\"harvest_year_clean\"] = (coffee_dataset[\"harvest_year\"].apply(translator).apply(normalize_month))\n",
    "coffee_dataset[[\"harvest_trimester_start\", \"harvest_trimester_end\"]] = (coffee_dataset[\"harvest_year_clean\"].apply(parse_trimester).apply(pd.Series))\n",
    "print(coffee_dataset.columns)"
   ]
  },
  {
   "cell_type": "code",
   "execution_count": 53,
   "id": "1bd03568-2c64-4547-8df8-0c0f6cd196c4",
   "metadata": {},
   "outputs": [
    {
     "name": "stdout",
     "output_type": "stream",
     "text": [
      "Index(['species', 'owner', 'country_of_origin', 'farm_name', 'lot_number',\n",
      "       'mill', 'ico_number', 'company', 'altitude', 'region', 'producer',\n",
      "       'number_of_bags', 'bag_weight', 'in_country_partner', 'harvest_year',\n",
      "       'grading_date', 'owner_1', 'variety', 'processing_method', 'aroma',\n",
      "       'flavor', 'aftertaste', 'acidity', 'body', 'balance', 'uniformity',\n",
      "       'clean_cup', 'sweetness', 'cupper_points', 'total_cup_points',\n",
      "       'moisture', 'category_one_defects', 'quakers', 'color',\n",
      "       'category_two_defects', 'expiration', 'certification_body',\n",
      "       'certification_address', 'certification_contact', 'unit_of_measurement',\n",
      "       'altitude_low_meters', 'altitude_high_meters', 'altitude_mean_meters',\n",
      "       'is_missing', 'bag_weight [kg]', 'harvest_year_original',\n",
      "       'harvest_year_en', 'harvest_time_start', 'harvest_time_end',\n",
      "       'harvest_normalized', 'harvest_year_norm', 'harvest_year_clean'],\n",
      "      dtype='object')\n"
     ]
    }
   ],
   "source": [
    "coffee_dataset = coffee_dataset.rename(columns={\n",
    "    \"harvest_trimester_start\": \"harvest_time_start\",\n",
    "    \"harvest_trimester_end\": \"harvest_time_end\"\n",
    "})\n",
    "\n",
    "print(coffee_dataset.columns)"
   ]
  },
  {
   "cell_type": "markdown",
   "id": "7c5465de-baf8-4175-b6cb-e7ddd0570a57",
   "metadata": {},
   "source": [
    "## Добавихме две нови колони които държат датата на стартиране на беритбата и датата на край на беритбата\n",
    "##  на кафето, като са трансформирани тримесечните периоди  "
   ]
  },
  {
   "cell_type": "code",
   "execution_count": 54,
   "id": "3326b5aa-e47f-4c3b-a751-ff8e390a55eb",
   "metadata": {},
   "outputs": [
    {
     "name": "stdout",
     "output_type": "stream",
     "text": [
      "           harvest_year harvest_time_start harvest_time_end\n",
      "unnamed: 0                                                 \n",
      "312               4T/10         2010-10-01       2010-12-31\n",
      "437             1T/2011         2011-01-01       2011-03-31\n",
      "438             4t/2010         2010-10-01       2010-12-31\n",
      "439             4T/2010         2010-10-01       2010-12-31\n",
      "530             4t/2011         2011-10-01       2011-12-31\n",
      "631               4T/10         2010-10-01       2010-12-31\n",
      "704             3T/2011         2011-07-01       2011-09-30\n",
      "776               4T/10         2010-10-01       2010-12-31\n",
      "832             4T/2010         2010-10-01       2010-12-31\n",
      "857             1t/2011         2011-01-01       2011-03-31\n"
     ]
    }
   ],
   "source": [
    "print(coffee_dataset[[\"harvest_year\", \"harvest_time_start\", \"harvest_time_end\"]].dropna().head(10))"
   ]
  },
  {
   "cell_type": "markdown",
   "id": "0dff33b4-c94d-43b3-bab3-97eabb862a37",
   "metadata": {},
   "source": [
    "### Problem 6. Countries (1 point)\n",
    "How many coffees are there with unknown countries of origin? What can you do about them?"
   ]
  },
  {
   "cell_type": "markdown",
   "id": "6cb7da01-6ba0-48ae-bc13-ba0b818c56ca",
   "metadata": {},
   "source": [
    "##  Ще се опитаме да нормализираме данните до малки букви и да премахем всякакви интервали в началото и края"
   ]
  },
  {
   "cell_type": "code",
   "execution_count": 55,
   "id": "38ea630d-6eb2-4b37-bc6d-9a889aaf016a",
   "metadata": {},
   "outputs": [
    {
     "name": "stdout",
     "output_type": "stream",
     "text": [
      "unnamed: 0\n",
      "0            ethiopia\n",
      "1            ethiopia\n",
      "2           guatemala\n",
      "3            ethiopia\n",
      "4            ethiopia\n",
      "            ...      \n",
      "1334          ecuador\n",
      "1335          ecuador\n",
      "1336    united states\n",
      "1337            india\n",
      "1338          vietnam\n",
      "Name: country_of_origin, Length: 1339, dtype: object\n"
     ]
    }
   ],
   "source": [
    "countries = coffee_dataset['country_of_origin'].astype(str).str.strip().str.lower()\n",
    "print(countries)"
   ]
  },
  {
   "cell_type": "markdown",
   "id": "ccc18a1a-7596-4136-8027-13971722a89d",
   "metadata": {},
   "source": [
    "##  Слагаме си маркери като за какво считамне за 'unknown'"
   ]
  },
  {
   "cell_type": "code",
   "execution_count": 57,
   "id": "f77fda2e-1c97-49e5-b70a-78f47fff57f1",
   "metadata": {},
   "outputs": [
    {
     "name": "stdout",
     "output_type": "stream",
     "text": [
      "Number of coffee with unknown countries of origin is: 1\n"
     ]
    }
   ],
   "source": [
    "unknown_markers = ['', 'unknown', 'n/a', 'unk', 'none']\n",
    "unknown_countries = countries.isin(unknown_markers) | coffee_dataset['country_of_origin'].isna()\n",
    "\n",
    "totalUnknownCount = unknown_countries.sum()\n",
    "print(f\"Number of coffee with unknown countries of origin is: {totalUnknownCount}\")"
   ]
  },
  {
   "cell_type": "markdown",
   "id": "f4510345-f4bc-4afc-a4f7-d4f6daf40fb6",
   "metadata": {},
   "source": [
    "##  Според това което получихме има само едно кафе с 'unknown' country_of_origin"
   ]
  },
  {
   "cell_type": "code",
   "execution_count": 59,
   "id": "14b6db19-e5a8-4e80-bdda-e3a8d0049cb0",
   "metadata": {},
   "outputs": [
    {
     "name": "stdout",
     "output_type": "stream",
     "text": [
      "           region producer mill\n",
      "unnamed: 0                     \n",
      "1197          NaN      NaN  NaN\n",
      "---------finding more info for nan's\n",
      "           region producer mill farm_name company\n",
      "unnamed: 0                                       \n",
      "1197          NaN      NaN  NaN       NaN     NaN\n",
      "here we go\n",
      "species                                                   Arabica\n",
      "owner                                          racafe & cia s.c.a\n",
      "country_of_origin                                             NaN\n",
      "farm_name                                                     NaN\n",
      "lot_number                                                    NaN\n",
      "mill                                                          NaN\n",
      "ico_number                                              3-37-1980\n",
      "company                                                       NaN\n",
      "altitude                                                      NaN\n",
      "region                                                        NaN\n",
      "producer                                                      NaN\n",
      "number_of_bags                                                149\n",
      "bag_weight                                                  70 kg\n",
      "in_country_partner                                      AlmacafÃ©\n",
      "harvest_year                                                  NaN\n",
      "grading_date                                      March 1st, 2011\n",
      "owner_1                                        Racafe & Cia S.C.A\n",
      "variety                                                       NaN\n",
      "processing_method                                             NaN\n",
      "aroma                                                        6.75\n",
      "flavor                                                       6.75\n",
      "aftertaste                                                   6.42\n",
      "acidity                                                      6.83\n",
      "body                                                         7.58\n",
      "balance                                                       7.5\n",
      "uniformity                                                   10.0\n",
      "clean_cup                                                    10.0\n",
      "sweetness                                                    10.0\n",
      "cupper_points                                                7.25\n",
      "total_cup_points                                            79.08\n",
      "moisture                                                      0.1\n",
      "category_one_defects                                            0\n",
      "quakers                                                       0.0\n",
      "color                                                         NaN\n",
      "category_two_defects                                            3\n",
      "expiration                                    February 29th, 2012\n",
      "certification_body                                      AlmacafÃ©\n",
      "certification_address    e493c36c2d076bf273064f7ac23ad562af257a25\n",
      "certification_contact    70d3c0c26f89e00fdae6fb39ff54f0d2eb1c38ab\n",
      "unit_of_measurement                                             m\n",
      "altitude_low_meters                                           NaN\n",
      "altitude_high_meters                                          NaN\n",
      "altitude_mean_meters                                          NaN\n",
      "is_missing                                                  False\n",
      "bag_weight [kg]                                                70\n",
      "harvest_year_original                                         NaN\n",
      "harvest_year_en                                               NaN\n",
      "harvest_time_start                                            NaN\n",
      "harvest_time_end                                              NaN\n",
      "harvest_normalized                                            NaN\n",
      "harvest_year_norm                                             NaN\n",
      "harvest_year_clean                                            NaN\n",
      "Name: 1197, dtype: object\n"
     ]
    }
   ],
   "source": [
    "print(coffee_dataset[unknown_countries][['region', 'producer', 'mill']].head(10))\n",
    "print(\"---------finding more info for nan's\")\n",
    "unknown_rows = coffee_dataset[unknown_countries]\n",
    "print(unknown_rows[['region', 'producer', 'mill', 'farm_name', 'company']].head(15))\n",
    "print(\"here we go\")\n",
    "print(coffee_dataset.loc[1197])"
   ]
  },
  {
   "cell_type": "markdown",
   "id": "73541fa1-0c56-4eb8-8dc7-a0422bfd97af",
   "metadata": {},
   "source": [
    "##  According to information that we have gather, we can еither drop tjat line, or we can try to populate \n",
    "##  'country_of_origin' based on the information for 'racafe & cia s.c.a' country of production.  \n",
    "##  Printing everythong for index 1197 to find some meaningful information. We can find some info in owner and  \n",
    "##  owner_1 columns we can see 'Racafe & Cia S.C.A'.\n",
    "##  According to Internet https://drwakefield.com/producer/racafe/ is Columbian coffee brand"
   ]
  },
  {
   "cell_type": "markdown",
   "id": "2cec683f-eac5-4b45-885e-7eec9debb9b1",
   "metadata": {},
   "source": [
    "##  We can either Insert Columbia as a 'country_of_origin' if we are sure about that. \n",
    "##  Or we can just leave it as it is."
   ]
  },
  {
   "cell_type": "code",
   "execution_count": null,
   "id": "ac1d6c44-35ca-4717-a526-c0e440ccf50d",
   "metadata": {},
   "outputs": [],
   "source": []
  },
  {
   "cell_type": "markdown",
   "id": "d0aa6f30-4b93-4f23-95e0-2cafb7152c6c",
   "metadata": {},
   "source": [
    "### Problem 7. Owners (1 point)\n",
    "There are two suspicious columns, named `Owner`, and `Owner.1` (they're likely called something different after you solved problem 3). Do something about them. Is there any link to `Producer`?"
   ]
  },
  {
   "cell_type": "markdown",
   "id": "62276955-0dc9-46b3-93c5-d759fa76f06f",
   "metadata": {},
   "source": [
    "## Нека първо сравним двете колони, какво има в тях като данни, има ли някакви видими разлики?"
   ]
  },
  {
   "cell_type": "code",
   "execution_count": 60,
   "id": "af3a09da-8be8-4f5d-9b5a-95dba9cb6c7c",
   "metadata": {},
   "outputs": [],
   "source": [
    "owners_column_diff = coffee_dataset[['country_of_origin', 'region', 'producer', 'aroma', 'flavor', 'owner', 'owner_1']]\n",
    "diff_owners = owners_column_diff[owners_column_diff['owner'] != owners_column_diff['owner_1']]"
   ]
  },
  {
   "cell_type": "markdown",
   "id": "f28bb5f1-089e-45e1-8805-c3aa00454c90",
   "metadata": {},
   "source": [
    "column comparison of 'owner' and 'owner_1' differ"
   ]
  },
  {
   "cell_type": "code",
   "execution_count": 61,
   "id": "625ef66f-6646-4cfd-a5c1-7c935f7a7b5c",
   "metadata": {},
   "outputs": [
    {
     "name": "stdout",
     "output_type": "stream",
     "text": [
      "                 country_of_origin                       region  \\\n",
      "unnamed: 0                                                        \n",
      "2                        Guatemala                          NaN   \n",
      "3                         Ethiopia                       oromia   \n",
      "5                           Brazil                          NaN   \n",
      "6                             Peru                          NaN   \n",
      "7                         Ethiopia                       oromia   \n",
      "8                         Ethiopia                      oromiya   \n",
      "9                         Ethiopia  snnp/kaffa zone,gimbowereda   \n",
      "10                        Ethiopia                       oromia   \n",
      "11                   United States                    antioquia   \n",
      "12                   United States                    antioquia   \n",
      "13          United States (Hawaii)                         kona   \n",
      "14                        Ethiopia                      oromiya   \n",
      "15                   United States                    antioquia   \n",
      "16                       Indonesia                     sulawesi   \n",
      "17                        Ethiopia                  yirgacheffe   \n",
      "\n",
      "                                             producer  aroma  flavor  \\\n",
      "unnamed: 0                                                             \n",
      "2                                                 NaN   8.42    8.50   \n",
      "3               Yidnekachew Dabessa Coffee Plantation   8.17    8.58   \n",
      "5                                                 NaN   8.58    8.42   \n",
      "6                                                 HVC   8.42    8.50   \n",
      "7           Bazen Agricultural & Industrial Dev't Plc   8.25    8.33   \n",
      "8           Bazen Agricultural & Industrial Dev't Plc   8.67    8.67   \n",
      "9                              Diamond Enterprise Plc   8.08    8.58   \n",
      "10                            Fahem Coffee Plantation   8.17    8.67   \n",
      "11                    Alfredo De JesÃºs LÃ³pez PÃ©rez   8.25    8.42   \n",
      "12                              Jorge Walter Restrepo   8.08    8.67   \n",
      "13                       Robert, Sharon, Arianna Wood   8.33    8.42   \n",
      "14          Bazen Agricultural & Industrial Dev't Plc   8.25    8.33   \n",
      "15                               MarÃ­a Leticia Diosa   8.00    8.50   \n",
      "16                                   P.T. Toarco Jaya   8.33    8.25   \n",
      "17            Green Gold Ethiopia | Phone: 0114342032   8.17    8.33   \n",
      "\n",
      "                                         owner  \\\n",
      "unnamed: 0                                       \n",
      "2                     grounds for health admin   \n",
      "3                          yidnekachew dabessa   \n",
      "5                                    ji-ae ahn   \n",
      "6                                hugo valdivia   \n",
      "7                  ethiopia commodity exchange   \n",
      "8                  ethiopia commodity exchange   \n",
      "9                       diamond enterprise plc   \n",
      "10                               mohammed lalo   \n",
      "11          cqi q coffee sample representative   \n",
      "12          cqi q coffee sample representative   \n",
      "13                    grounds for health admin   \n",
      "14                 ethiopia commodity exchange   \n",
      "15          cqi q coffee sample representative   \n",
      "16                    grounds for health admin   \n",
      "17                 ethiopia commodity exchange   \n",
      "\n",
      "                                       owner_1  \n",
      "unnamed: 0                                      \n",
      "2                     Grounds for Health Admin  \n",
      "3                          Yidnekachew Dabessa  \n",
      "5                                    Ji-Ae Ahn  \n",
      "6                                Hugo Valdivia  \n",
      "7                  Ethiopia Commodity Exchange  \n",
      "8                  Ethiopia Commodity Exchange  \n",
      "9                       Diamond Enterprise Plc  \n",
      "10                               Mohammed Lalo  \n",
      "11          CQI Q Coffee Sample Representative  \n",
      "12          CQI Q Coffee Sample Representative  \n",
      "13                    Grounds for Health Admin  \n",
      "14                 Ethiopia Commodity Exchange  \n",
      "15          CQI Q Coffee Sample Representative  \n",
      "16                    Grounds for Health Admin  \n",
      "17                 Ethiopia Commodity Exchange  \n"
     ]
    }
   ],
   "source": [
    "print(diff_owners.head(15))"
   ]
  },
  {
   "cell_type": "code",
   "execution_count": 62,
   "id": "646d9ad6-60bb-40e1-b641-599f152fc40e",
   "metadata": {},
   "outputs": [
    {
     "name": "stdout",
     "output_type": "stream",
     "text": [
      "all 'owner' and 'owner_1' always equal? False\n",
      "                                                \n",
      "Total number of different records in 'owner' and 'owner_1' are 1336 \n"
     ]
    }
   ],
   "source": [
    "same_owners = (coffee_dataset['owner'] == coffee_dataset['owner_1']).all()\n",
    "print(f\"all 'owner' and 'owner_1' always equal? {same_owners}\")\n",
    "print(f\"{'':48}\")\n",
    "count_diff = (coffee_dataset['owner'] != coffee_dataset['owner_1']).sum()\n",
    "print(f\"Total number of different records in 'owner' and 'owner_1' are {count_diff} \")"
   ]
  },
  {
   "cell_type": "markdown",
   "id": "59868d07-49a4-4e6a-a419-32219a8ee2f9",
   "metadata": {},
   "source": [
    "## На пръв поглед разликата в колоните изглежда да е като само големи/малки букви?\n",
    "## Записите и в двете колони изглеждат идентични"
   ]
  },
  {
   "cell_type": "markdown",
   "id": "7a997194-bf0a-4da6-b5dc-3ce21c52b404",
   "metadata": {},
   "source": [
    "## Ще проверим дали хипотезата ни е вярна и наистина разликите са само Case sensitive"
   ]
  },
  {
   "cell_type": "code",
   "execution_count": 63,
   "id": "943337f7-b471-4b6f-8c66-bcd3efb148f5",
   "metadata": {},
   "outputs": [],
   "source": [
    "normalize_differences = (\n",
    "    coffee_dataset['owner'].str.strip().str.lower() != coffee_dataset['owner_1'].str.strip().str.lower()\n",
    ")\n",
    "\n",
    "total_count_case_insesitive = normalize_differences"
   ]
  },
  {
   "cell_type": "code",
   "execution_count": 64,
   "id": "0965e32f-c71f-4689-be8d-4570a9f06a7e",
   "metadata": {},
   "outputs": [
    {
     "name": "stdout",
     "output_type": "stream",
     "text": [
      "Case insensitive difference is: unnamed: 0\n",
      "0       False\n",
      "1       False\n",
      "2       False\n",
      "3       False\n",
      "4       False\n",
      "        ...  \n",
      "1334    False\n",
      "1335    False\n",
      "1336    False\n",
      "1337    False\n",
      "1338    False\n",
      "Length: 1339, dtype: bool\n"
     ]
    }
   ],
   "source": [
    "print(f\"Case insensitive difference is: {total_count_case_insesitive}\")"
   ]
  },
  {
   "cell_type": "markdown",
   "id": "d0347804-2ca6-411f-8c56-ec78a30113a4",
   "metadata": {},
   "source": [
    "## Хипотезата изглежда се потвърди и е вярна. Разликите са само в големите и малки букви с които са \n",
    "##   изписани стойностите в двете колони"
   ]
  },
  {
   "cell_type": "markdown",
   "id": "860a03c8-55b1-472b-ae13-2eef5aefa4b4",
   "metadata": {},
   "source": [
    "## На база на това можем да дропнем 'owner_1' колоната като тя не ни носи никаква допълнителна информация"
   ]
  },
  {
   "cell_type": "code",
   "execution_count": 65,
   "id": "17f33dc6-41dd-4715-b96a-278716cffb27",
   "metadata": {},
   "outputs": [
    {
     "name": "stdout",
     "output_type": "stream",
     "text": [
      "           country_of_origin                  region  \\\n",
      "unnamed: 0                                             \n",
      "219               Costa Rica                 tarrazu   \n",
      "364                 Honduras               comayagua   \n",
      "392                 Colombia                   huila   \n",
      "459                 Honduras               comayagua   \n",
      "602                 Colombia             south huila   \n",
      "734                   Brazil   brazil matas de minas   \n",
      "848                 Honduras               comayagua   \n",
      "882                 Honduras               comayagua   \n",
      "961                   Brazil  matas de minas           \n",
      "975                 Honduras          central region   \n",
      "\n",
      "                              producer                             owner  \\\n",
      "unnamed: 0                                                                 \n",
      "219                   Martin Gutierrez                        ceca, s.a.   \n",
      "364                    Reynerio Zepeda                               NaN   \n",
      "392                                NaN  federacion nacional de cafeteros   \n",
      "459                    Reynerio Zepeda                               NaN   \n",
      "602         Supply Chain ECOM CCA S.A.                               NaN   \n",
      "734                  NAGIPE VIANA KLEM                     klem organics   \n",
      "848           TomÃ¡s Sosa, Juan Damaso                               NaN   \n",
      "882           TomÃ¡s Sosa, Juan Damaso                               NaN   \n",
      "961           NAGIPE VIANA KLEM                            klem organics   \n",
      "975                    Reinerio Zepeda                               NaN   \n",
      "\n",
      "                                      owner_1  \n",
      "unnamed: 0                                     \n",
      "219                                 CECA,S.A.  \n",
      "364                                       NaN  \n",
      "392         FederaciÃ³n Nacional de Cafeteros  \n",
      "459                                       NaN  \n",
      "602                                       NaN  \n",
      "734                              KlemOrganics  \n",
      "848                                       NaN  \n",
      "882                                       NaN  \n",
      "961                              KlemOrganics  \n",
      "975                                       NaN  \n"
     ]
    }
   ],
   "source": [
    "mismatched_normalized = coffee_dataset[normalize_differences][\n",
    "    ['country_of_origin', 'region', 'producer', 'owner', 'owner_1']\n",
    "]\n",
    "\n",
    "print(mismatched_normalized.head(10))"
   ]
  },
  {
   "cell_type": "code",
   "execution_count": 66,
   "id": "49b38761-dc0b-4434-950b-d7e1b2cd2daf",
   "metadata": {},
   "outputs": [
    {
     "name": "stdout",
     "output_type": "stream",
     "text": [
      "                                                \n",
      "\n",
      "['species', 'owner', 'country_of_origin', 'farm_name', 'lot_number']\n",
      "['mill', 'ico_number', 'company', 'altitude', 'region']\n",
      "['producer', 'bag_weight', 'in_country_partner', 'harvest_year', 'grading_date']\n",
      "['variety', 'processing_method', 'color', 'expiration', 'certification_body']\n",
      "['certification_address', 'certification_contact', 'unit_of_measurement', 'harvest_year_original', 'harvest_year_en']\n",
      "['harvest_time_start', 'harvest_time_end', 'harvest_normalized', 'harvest_year_norm', 'harvest_year_clean']\n"
     ]
    }
   ],
   "source": [
    "owner_1_dropped = coffee_dataset.drop(columns=['owner_1'], inplace=True)\n",
    "owner = list(coffee_dataset.select_dtypes(include='object').columns)\n",
    "\n",
    "\n",
    "print(f\"{'':48}\\n\" * 1)\n",
    "for i in range(0, len(owner), 5):\n",
    "    print(owner[i:i+5])"
   ]
  },
  {
   "cell_type": "markdown",
   "id": "30c53923-1b72-4500-af0a-47fdca9f57e9",
   "metadata": {},
   "source": [
    "### Problem 8. Coffee color by country and continent (1 point)\n",
    "Create a table which shows how many coffees of each color are there in every country. Leave the missing values as they are.\n",
    "\n",
    "**Note:** If you ask me, countries should be in rows, I prefer long tables much better than wide ones.\n",
    "\n",
    "Now do the same for continents. You know what continent each country is located in."
   ]
  },
  {
   "cell_type": "markdown",
   "id": "86f79fa7-7a83-4a72-ae3d-fe03e924ea94",
   "metadata": {},
   "source": [
    "## Table bellow shoes the number of coffee per colors per country "
   ]
  },
  {
   "cell_type": "code",
   "execution_count": 67,
   "id": "eec689b6-8b90-43ae-8857-98a015202a00",
   "metadata": {},
   "outputs": [
    {
     "name": "stdout",
     "output_type": "stream",
     "text": [
      "              country_of_origin         color  coffee_count\n",
      "2                        Brazil         Green            92\n",
      "0                        Brazil    Blue-Green            14\n",
      "1                        Brazil  Bluish-Green            12\n",
      "3                       Burundi         Green             1\n",
      "4                         China         Green            16\n",
      "..                          ...           ...           ...\n",
      "72       United States (Hawaii)    Blue-Green             6\n",
      "76  United States (Puerto Rico)         Green             3\n",
      "75  United States (Puerto Rico)  Bluish-Green             1\n",
      "78                      Vietnam         Green             3\n",
      "77                      Vietnam  Bluish-Green             1\n",
      "\n",
      "[79 rows x 3 columns]\n"
     ]
    }
   ],
   "source": [
    "country_color_table = (\n",
    "    coffee_dataset.groupby(['country_of_origin', 'color'])\n",
    "    .size()\n",
    "    .reset_index(name='coffee_count')\n",
    "    .sort_values(by=['country_of_origin', 'coffee_count'], ascending=[True, False])\n",
    ")\n",
    "print(country_color_table)"
   ]
  },
  {
   "cell_type": "markdown",
   "id": "61b7c283-11a6-46dc-9d5e-b1fc813a3bfa",
   "metadata": {},
   "source": [
    "## for the continent tables we have created dictionary -> 'dict_Country_on_Continent' which \n",
    "## maps coffee distributor country to its continent"
   ]
  },
  {
   "cell_type": "code",
   "execution_count": 68,
   "id": "aeb83c76-2c9e-48cb-8d87-d0f7e8b0faab",
   "metadata": {},
   "outputs": [],
   "source": [
    "coffee_dataset['continent'] = coffee_dataset['country_of_origin'].map(country_to_continent)"
   ]
  },
  {
   "cell_type": "markdown",
   "id": "82cca350-2bb4-41e2-af8c-a5568b12320c",
   "metadata": {},
   "source": [
    "## Table bellow shoes the number of coffee per colors per continents "
   ]
  },
  {
   "cell_type": "code",
   "execution_count": 69,
   "id": "f91d9cdb-2e42-468a-8310-31c26d585642",
   "metadata": {},
   "outputs": [
    {
     "name": "stdout",
     "output_type": "stream",
     "text": [
      "        continent         color  coffee_count\n",
      "2          Africa         Green            29\n",
      "1          Africa  Bluish-Green             8\n",
      "0          Africa    Blue-Green             3\n",
      "5            Asia         Green             9\n",
      "3            Asia    Blue-Green             4\n",
      "4            Asia  Bluish-Green             4\n",
      "8   North America         Green           362\n",
      "7   North America  Bluish-Green            16\n",
      "6   North America    Blue-Green            12\n",
      "11  South America         Green           216\n",
      "9   South America    Blue-Green            22\n",
      "10  South America  Bluish-Green            22\n"
     ]
    }
   ],
   "source": [
    "continent_color_table = (\n",
    "    coffee_dataset.groupby(['continent', 'color'])\n",
    "    .size()\n",
    "    .reset_index(name='coffee_count')\n",
    "    .sort_values(by=['continent','coffee_count'], ascending=[True, False])\n",
    ")\n",
    "print(continent_color_table)"
   ]
  },
  {
   "cell_type": "markdown",
   "id": "27095ced-7179-4ee4-94d3-7d94450b4120",
   "metadata": {},
   "source": [
    "### Problem 9. Ratings (1 point)\n",
    "The columns `Aroma`, `Flavor`, etc., up to `Moisture` represent subjective ratings. Explore them. Show the means and range; draw histograms and / or boxplots as needed. You can even try correlations if you want. What's up with all those ratings?"
   ]
  },
  {
   "cell_type": "code",
   "execution_count": 70,
   "id": "d08ee355-dcbb-4657-a814-cdcfbd455c42",
   "metadata": {},
   "outputs": [
    {
     "name": "stdout",
     "output_type": "stream",
     "text": [
      "aroma               float64\n",
      "flavor              float64\n",
      "aftertaste          float64\n",
      "acidity             float64\n",
      "body                float64\n",
      "balance             float64\n",
      "uniformity          float64\n",
      "clean_cup           float64\n",
      "sweetness           float64\n",
      "cupper_points       float64\n",
      "total_cup_points    float64\n",
      "moisture            float64\n",
      "dtype: object\n"
     ]
    }
   ],
   "source": [
    "print(coffee_dataset[rating_columns].dtypes)"
   ]
  },
  {
   "cell_type": "code",
   "execution_count": 72,
   "id": "4e828c78-1989-4b89-9eaa-ed63f3fb2754",
   "metadata": {},
   "outputs": [
    {
     "name": "stdout",
     "output_type": "stream",
     "text": [
      "moisture: 0.12\n"
     ]
    }
   ],
   "source": [
    "for col in rating_columns:\n",
    "    valid_data = coffee_data_expiration_dates[col].dropna().iloc[0] if not coffee_dataset[col].dropna().empty else None\n",
    "\n",
    "print(f\"{col}: {valid_data}\")"
   ]
  },
  {
   "cell_type": "code",
   "execution_count": 73,
   "id": "150e58ac-2583-423e-83f2-2f877ece19eb",
   "metadata": {},
   "outputs": [
    {
     "name": "stdout",
     "output_type": "stream",
     "text": [
      "             aroma       flavor   aftertaste      acidity         body  \\\n",
      "count  1339.000000  1339.000000  1339.000000  1339.000000  1339.000000   \n",
      "mean      7.566706     7.520426     7.401083     7.535706     7.517498   \n",
      "std       0.377560     0.398442     0.404463     0.379827     0.370064   \n",
      "min       0.000000     0.000000     0.000000     0.000000     0.000000   \n",
      "25%       7.420000     7.330000     7.250000     7.330000     7.330000   \n",
      "50%       7.580000     7.580000     7.420000     7.580000     7.500000   \n",
      "75%       7.750000     7.750000     7.580000     7.750000     7.670000   \n",
      "max       8.750000     8.830000     8.670000     8.750000     8.580000   \n",
      "\n",
      "           balance   uniformity    clean_cup    sweetness  cupper_points  \\\n",
      "count  1339.000000  1339.000000  1339.000000  1339.000000    1339.000000   \n",
      "mean      7.518013     9.834877     9.835108     9.856692       7.503376   \n",
      "std       0.408943     0.554591     0.763946     0.616102       0.473464   \n",
      "min       0.000000     0.000000     0.000000     0.000000       0.000000   \n",
      "25%       7.330000    10.000000    10.000000    10.000000       7.250000   \n",
      "50%       7.500000    10.000000    10.000000    10.000000       7.500000   \n",
      "75%       7.750000    10.000000    10.000000    10.000000       7.750000   \n",
      "max       8.750000    10.000000    10.000000    10.000000      10.000000   \n",
      "\n",
      "       total_cup_points     moisture  \n",
      "count       1339.000000  1339.000000  \n",
      "mean          82.089851     0.088379  \n",
      "std            3.500575     0.048287  \n",
      "min            0.000000     0.000000  \n",
      "25%           81.080000     0.090000  \n",
      "50%           82.500000     0.110000  \n",
      "75%           83.670000     0.120000  \n",
      "max           90.580000     0.280000  \n"
     ]
    }
   ],
   "source": [
    "print(coffee_dataset[rating_columns].describe())"
   ]
  },
  {
   "cell_type": "markdown",
   "id": "5affd094-9d6d-42cc-8a66-6641c8ebb984",
   "metadata": {},
   "source": [
    "## В таблицата долу са показани минималните и максималните стойности на всяка от изброените колони"
   ]
  },
  {
   "cell_type": "code",
   "execution_count": 74,
   "id": "2f095310-50ab-4451-814d-92d0600e677a",
   "metadata": {},
   "outputs": [
    {
     "name": "stdout",
     "output_type": "stream",
     "text": [
      "aroma: min=0.0, max=8.75\n",
      "flavor: min=0.0, max=8.83\n",
      "aftertaste: min=0.0, max=8.67\n",
      "acidity: min=0.0, max=8.75\n",
      "body: min=0.0, max=8.58\n",
      "balance: min=0.0, max=8.75\n",
      "uniformity: min=0.0, max=10.0\n",
      "clean_cup: min=0.0, max=10.0\n",
      "sweetness: min=0.0, max=10.0\n",
      "cupper_points: min=0.0, max=10.0\n",
      "total_cup_points: min=0.0, max=90.58\n",
      "moisture: min=0.0, max=0.28\n"
     ]
    }
   ],
   "source": [
    "for col in rating_columns:\n",
    "    print(f\"{col}: min={coffee_dataset[col].min()}, max={coffee_dataset[col].max()}\")"
   ]
  },
  {
   "cell_type": "code",
   "execution_count": 75,
   "id": "8d92ecf9-47c4-4e21-a923-d3c3d920433a",
   "metadata": {},
   "outputs": [
    {
     "data": {
      "image/png": "[encoded data removed]",
      "text/plain": [
       "<Figure size 1000x500 with 1 Axes>"
      ]
     },
     "metadata": {},
     "output_type": "display_data"
    }
   ],
   "source": [
    "score_counts = coffee_dataset['aroma'].dropna().round(1).value_counts().sort_index()\n",
    "\n",
    "plt.figure(figsize=(10, 5))\n",
    "score_counts.plot(kind='bar', color='skyblue')\n",
    "plt.title(\"Frequency of Aroma Scores\")\n",
    "plt.xlabel(\"Aroma Score\")\n",
    "plt.ylabel(\"Number of Coffees\")\n",
    "plt.xticks(rotation=45)\n",
    "plt.grid(axis='y')\n",
    "plt.tight_layout()\n",
    "plt.show()"
   ]
  },
  {
   "cell_type": "code",
   "execution_count": 77,
   "id": "2b751f97-c2f7-44de-a666-4455a58a6083",
   "metadata": {},
   "outputs": [
    {
     "data": {
      "image/png": "[encoded data removed]",
      "text/plain": [
       "<Figure size 1500x700 with 12 Axes>"
      ]
     },
     "metadata": {},
     "output_type": "display_data"
    }
   ],
   "source": [
    "fig, axes = plt.subplots(nrows=3, ncols=4, figsize=(15, 7))\n",
    "axes = axes.flatten()  # Flatten to iterate easily\n",
    "\n",
    "for i, col in enumerate(rating_columns):\n",
    "    axes[i].hist(coffee_dataset[col].dropna(), bins=20, color='skyblue', edgecolor='black')\n",
    "    axes[i].set_title(f\"{col.capitalize()} Distribution\")\n",
    "    axes[i].set_xlabel(col, labelpad=10)\n",
    "    axes[i].set_ylabel(\"Frequency\")\n",
    "    axes[i].grid(True)\n",
    "\n",
    "for j in range(i + 1, len(axes)):\n",
    "    fig.delaxes(axes[j])\n",
    "\n",
    "plt.tight_layout()\n",
    "plt.show()  \n"
   ]
  },
  {
   "cell_type": "code",
   "execution_count": 79,
   "id": "3183d7fb-f521-4b18-9791-dda88fab6b6e",
   "metadata": {},
   "outputs": [
    {
     "name": "stdout",
     "output_type": "stream",
     "text": [
      "                     aroma    flavor  aftertaste   acidity      body  \\\n",
      "aroma             1.000000  0.813259    0.777056  0.723582  0.673006   \n",
      "flavor            0.813259  1.000000    0.895672  0.816688  0.735720   \n",
      "aftertaste        0.777056  0.895672    1.000000  0.792255  0.734306   \n",
      "acidity           0.723582  0.816688    0.792255  1.000000  0.706435   \n",
      "body              0.673006  0.735720    0.734306  0.706435  1.000000   \n",
      "balance           0.708634  0.792290    0.809639  0.733017  0.757597   \n",
      "uniformity        0.366578  0.410923    0.401456  0.375383  0.326879   \n",
      "clean_cup         0.335684  0.396958    0.386665  0.300927  0.276587   \n",
      "sweetness         0.253493  0.291065    0.266409  0.261854  0.268342   \n",
      "cupper_points     0.687288  0.793197    0.785123  0.698151  0.633208   \n",
      "total_cup_points  0.791627  0.874279    0.860656  0.797024  0.757165   \n",
      "moisture         -0.134127 -0.145201   -0.180510 -0.129079 -0.147651   \n",
      "\n",
      "                   balance  uniformity  clean_cup  sweetness  cupper_points  \\\n",
      "aroma             0.708634    0.366578   0.335684   0.253493       0.687288   \n",
      "flavor            0.792290    0.410923   0.396958   0.291065       0.793197   \n",
      "aftertaste        0.809639    0.401456   0.386665   0.266409       0.785123   \n",
      "acidity           0.733017    0.375383   0.300927   0.261854       0.698151   \n",
      "body              0.757597    0.326879   0.276587   0.268342       0.633208   \n",
      "balance           1.000000    0.400915   0.370341   0.283272       0.721132   \n",
      "uniformity        0.400915    1.000000   0.526219   0.451083       0.359620   \n",
      "clean_cup         0.370341    0.526219   1.000000   0.440644       0.356995   \n",
      "sweetness         0.283272    0.451083   0.440644   1.000000       0.216273   \n",
      "cupper_points     0.721132    0.359620   0.356995   0.216273       1.000000   \n",
      "total_cup_points  0.828502    0.656454   0.658859   0.554029       0.790217   \n",
      "moisture         -0.199843    0.013792  -0.014916   0.072699      -0.182050   \n",
      "\n",
      "                  total_cup_points  moisture  \n",
      "aroma                     0.791627 -0.134127  \n",
      "flavor                    0.874279 -0.145201  \n",
      "aftertaste                0.860656 -0.180510  \n",
      "acidity                   0.797024 -0.129079  \n",
      "body                      0.757165 -0.147651  \n",
      "balance                   0.828502 -0.199843  \n",
      "uniformity                0.656454  0.013792  \n",
      "clean_cup                 0.658859 -0.014916  \n",
      "sweetness                 0.554029  0.072699  \n",
      "cupper_points             0.790217 -0.182050  \n",
      "total_cup_points          1.000000 -0.117722  \n",
      "moisture                 -0.117722  1.000000  \n"
     ]
    }
   ],
   "source": [
    "correlation_matrix = coffee_dataset[statistical_columns].corr()\n",
    "print(correlation_matrix)"
   ]
  },
  {
   "cell_type": "code",
   "execution_count": 80,
   "id": "6cfc305b-7ecd-4c5e-8cfa-b35df53c7763",
   "metadata": {},
   "outputs": [
    {
     "data": {
      "image/png": "[encoded data removed]",
      "text/plain": [
       "<Figure size 1200x800 with 2 Axes>"
      ]
     },
     "metadata": {},
     "output_type": "display_data"
    }
   ],
   "source": [
    "plt.figure(figsize=(12, 8))\n",
    "sns.heatmap(correlation_matrix, annot=True, cmap='coolwarm', vmin=1, vmax=1, fmt=\".2f\")\n",
    "plt.title(\"Correlation Between COfee Quality Ratings\")\n",
    "plt.xticks(rotation=45)\n",
    "plt.yticks(rotation=0)\n",
    "plt.tight_layout()\n",
    "plt.show()"
   ]
  },
  {
   "cell_type": "code",
   "execution_count": 81,
   "id": "d5fa6ab5-cf93-4369-9153-c5466e660358",
   "metadata": {},
   "outputs": [
    {
     "name": "stderr",
     "output_type": "stream",
     "text": [
      "C:\\Users\\georgi.petrov\\AppData\\Local\\Temp\\ipykernel_432\\150454723.py:5: FutureWarning: \n",
      "\n",
      "Passing `palette` without assigning `hue` is deprecated and will be removed in v0.14.0. Assign the `x` variable to `hue` and set `legend=False` for the same effect.\n",
      "\n",
      "  sns.boxplot(x='Feature', y='Score', data=melted, palette='Set2')\n"
     ]
    },
    {
     "data": {
      "image/png": "[encoded data removed]",
      "text/plain": [
       "<Figure size 1400x600 with 1 Axes>"
      ]
     },
     "metadata": {},
     "output_type": "display_data"
    }
   ],
   "source": [
    "ratings_clean = coffee_dataset[statistical_columns].dropna()\n",
    "melted = ratings_clean.melt(var_name='Feature', value_name='Score')\n",
    "\n",
    "plt.figure(figsize=(14, 6))\n",
    "sns.boxplot(x='Feature', y='Score', data=melted, palette='Set2')\n",
    "plt.title('Boxplots of Coffee Rating Features')\n",
    "plt.xticks(rotation=45)\n",
    "plt.xlabel('Feature')\n",
    "plt.ylabel('Score')\n",
    "plt.ylim(5, 90)\n",
    "plt.grid(axis='y', linestyle='--', alpha=0.5)\n",
    "plt.tight_layout()\n",
    "plt.show()"
   ]
  },
  {
   "cell_type": "code",
   "execution_count": 83,
   "id": "f7921328-4c0d-4372-9dcd-44514f709d82",
   "metadata": {},
   "outputs": [
    {
     "name": "stderr",
     "output_type": "stream",
     "text": [
      "C:\\Users\\georgi.petrov\\AppData\\Local\\Temp\\ipykernel_432\\3509846437.py:9: FutureWarning: \n",
      "\n",
      "Passing `palette` without assigning `hue` is deprecated and will be removed in v0.14.0. Assign the `x` variable to `hue` and set `legend=False` for the same effect.\n",
      "\n",
      "  sns.boxplot(x='Feature', y='Score', data=melted_scaled, palette='Set3')\n"
     ]
    },
    {
     "data": {
      "image/png": "[encoded data removed]",
      "text/plain": [
       "<Figure size 1400x600 with 1 Axes>"
      ]
     },
     "metadata": {},
     "output_type": "display_data"
    }
   ],
   "source": [
    "scaled_data = coffee_dataset[statistical_columns].copy()\n",
    "\n",
    "scaler = MinMaxScaler(feature_range=(0, 10))\n",
    "scaled_data[rating_columns] = scaler.fit_transform(scaled_data[rating_columns])\n",
    "\n",
    "melted_scaled = scaled_data.melt(var_name='Feature', value_name='Score')\n",
    "\n",
    "plt.figure(figsize=(14, 6))\n",
    "sns.boxplot(x='Feature', y='Score', data=melted_scaled, palette='Set3')\n",
    "plt.title('Boxplots of Coffee Ratings (Normalized)')\n",
    "plt.xticks(rotation=45)\n",
    "plt.ylabel('Normalized Score (0–10)')\n",
    "plt.grid(axis='y', linestyle='--', alpha=0.5)\n",
    "plt.tight_layout()\n",
    "plt.show()\n"
   ]
  },
  {
   "cell_type": "markdown",
   "id": "06a52a1f-87fe-4048-ba77-7cbda3501504",
   "metadata": {},
   "source": [
    "## От няколкото ртазлични графики моцем да направим някои важни за нашия анализ изводи.\n",
    "## От корелационната карта виждаме, че има доста висока зависимост (0.9) между вида кафе и послевкуса-а\n",
    "## flavor <-> aftertaste.\n",
    "## Виждаме и висока корелация между вкус и крайна оценка flavour <-> total_cup_points (0.85)"
   ]
  },
  {
   "cell_type": "markdown",
   "id": "6b720a28-ec8a-45f9-bd6f-de8192146da4",
   "metadata": {},
   "source": [
    "## От boxplots графиката виждаме, че няколко показателя имат по-широки кутийки и ясно видими отклонения, \n",
    "## (Аромат, Вкус, Послевкус, Киселинност, Плътност и Баланс:). Техните медиани са около 8.5 - 9.0 което подсказва за \n",
    "## високи оценки по тези характеристики."
   ]
  },
  {
   "cell_type": "markdown",
   "id": "ff9716d3-1bae-47f8-8011-983e8291f438",
   "metadata": {},
   "source": [
    "## От boxplots графиката също така се виждат и някои характеристики с много ниска променливост. \n",
    "  ##  Техните стойности са почти еднакви или са изключително близки една до друга (clean_cup, sweetnes )"
   ]
  },
  {
   "cell_type": "markdown",
   "id": "92054218-978d-48c6-b7aa-36226837354c",
   "metadata": {},
   "source": [
    "### Problem 10. High-level errors (1 point)\n",
    "Check the countries against region names, altitudes, and companies. Are there any discrepancies (e.g. human errors, like a region not matching the country)? Take a look at the (cleaned) altitudes; there has been a lot of preprocessing done to them. Was it done correctly?"
   ]
  },
  {
   "cell_type": "markdown",
   "id": "fe4ab021-027f-4bfb-a730-6ce78798aadf",
   "metadata": {},
   "source": [
    "## Проверяваме страна срещу регион"
   ]
  },
  {
   "cell_type": "code",
   "execution_count": 84,
   "id": "32888709-b2a7-4c11-a4b9-03cc6cf89ecd",
   "metadata": {},
   "outputs": [
    {
     "name": "stdout",
     "output_type": "stream",
     "text": [
      "Brazil: [nan 'south of minas' 'vale da grama' 'sul de minas - carmo de minas'\n",
      " 'grama valley' 'mountains of minas gerais' 'mmm' 'test' 'cerrado'\n",
      " 'minas gerais, br' 'carmo de minas' 'campos altos - cerrado' 'mogiana'\n",
      " 'chapadÃ£o de ferro (cerrado mineiro)' 'high mogiana' 'sul de minas'\n",
      " 'monte carmelo' 'brazil matas de minas' 'mantiqueira de minas'\n",
      " 'matas de minas        ' 'alta paulista (sao paulo)'\n",
      " 'cerrado - monte carmelo - minas gerais']\n",
      "Burundi: ['kayanza' 'mumirwa']\n",
      "China: ['yunnan' 'dehong prefecture' 'menglian' 'xishuangbanna prefecture']\n",
      "Colombia: ['tolima' 'huila' 'santander' 'pasto' 'cundinamarca' 'cauca' 'pitalito'\n",
      " 'la plata' 'nariÃ±o' 'huila supremo' 'guayata' 'eje cafetero' nan\n",
      " 'antioquia' 'south huila'\n",
      " '52 narino (exact location: mattituy; municipal region: florida code 381'\n",
      " 'pereira']\n",
      "Costa Rica: ['san ramon' 'west and central valley' 'west valley' 'tarrazu'\n",
      " 'costa rica' nan 'tres rios' 'valle central' 'central valley' 'turrialba'\n",
      " 'occidental' 'naranjo' 'brunca' 'san rafael']\n",
      "Cote d?Ivoire: ['cnra station of divo']\n",
      "Ecuador: ['province of manabi, ecuador' 'san juan, playas']\n",
      "El Salvador: ['apaneca' 'ataco, apaneca - ilamatepec mountain range' 'santa ana'\n",
      " 'el balsamo, quezaltepec' 'cacahuatique' nan\n",
      " 'department of ahuachapan, municipality of apanecallamatepec mountain']\n",
      "Ethiopia: ['guji-hambela' 'oromia' 'oromiya' 'snnp/kaffa zone,gimbowereda'\n",
      " 'yirgacheffe' 'gedio' 'sidamo' 'addis ababa'\n",
      " 'kefa zone, gimbo distict, at a place called woka araba, south west ethiopia.'\n",
      " 'aricha' 'limu' 'snnprg; kafa; telo woreda; shada kebele'\n",
      " 'ethiopia, sidamo' 'blida,kercha,guji,oromia' 'kelem welega']\n",
      "Guatemala: [nan 'nuevo oriente' 'acatenango' 'huehuetenango' 'oriente'\n",
      " 'chuva, san marcos' 'jalapa' 'el tumbador, san marcos' 'antigua'\n",
      " 'san marcos' 'solola' 'norte' 'guatemala'\n",
      " 'aldea xeucalvitz, ixil region, quiche department' 'quetzaltenango'\n",
      " 'sacatepequez, guatemala' 'atitlan' 'la reforma, san marcos' 'santa rosa'\n",
      " 'el progreso' 'san lucas toliman, solola' 'orient' 'occidente']\n",
      "Haiti: ['thiotte, haiti' 'dondon, haiti' 'haiti' 'marmelade'\n",
      " \"department d'artibonite , haiti\"]\n",
      "Honduras: ['comayagua' 'marcala' 'central region' 'san marcos' 'comayagua, honduras'\n",
      " nan 'el paraÃ\\xadso' 'guinope el paraÃ\\xadso' 'occidental'\n",
      " 'western region' 'siguatepeque, comayagua' 'ocotepeque' 'intibuca']\n",
      "India: ['chickmangalore' 'chikmagalur karnataka indua' 'chikmagalur'\n",
      " 'chikmagalur karnataka india' 'chikmagalur karnataka' nan]\n",
      "Indonesia: ['sulawesi' 'lintong' 'temanggung, indonesia' 'sumatra brastagi'\n",
      " 'aceh tengah' 'east java' 'bener meriah' 'bondowoso' 'dolok sanggul'\n",
      " 'sapan toraja' 'aceh' 'bali' 'aceh gayo' 'lington nihuta' 'ijen'\n",
      " 'indonesia']\n",
      "Japan: ['ada okinawa japan']\n",
      "Kenya: ['muranga' 'nyeri' 'kiambu' 'kirinyaga' 'central kenya' nan 'kenya'\n",
      " 'blend' 'meru county']\n",
      "Laos: ['paksong,laos' 'lao p.d.r.']\n",
      "Malawi: ['mzuzu' 'kakoma' 'southern- zomba']\n",
      "Mauritius: ['chamarel (south west)']\n",
      "Mexico: ['xalapa' 'veracruz' 'mexico' 'coatepec' 'el remudadero' 'hustusco'\n",
      " 'jaltenango' 'tapachula' 'tuxtla gutierrez' 'san pedro cotzilnam'\n",
      " 'la concordia, chiapas' 'santo domingo cacalotepec' 'xicotepec de juarez'\n",
      " 'la concordia' 'la yerbabuena' 'petatlan' 'huazalingo, hidalgo'\n",
      " 'chiapas, jaltenango' 'chilÃ³n' 'totutla' 'nayarit' 'chiapas'\n",
      " 'sierra madre occidental' 'cuarenteÃ±o' 'fortÃ\\xadn de las flores'\n",
      " 'tlanchinol, hidalgo' 'san bartolo tutotepec' 'san isidro'\n",
      " 'santa catarina juquila' 'atoyac de alvarez' 'la cumbre' 'la yerba' nan\n",
      " 'mahuixtlan' 'oaxaca' 'colima' 'zapotitlan de mendez'\n",
      " 'zihuatanejo de azueta' 'progreso santa rosa teocelo' 'fln mirador'\n",
      " 'jaltocan, hidalgo' 'calnali, hidalgo' 'juquila' 'canoas' 'altotonga'\n",
      " 'coscomatepec' 'chapulhuacan, hidalgo'\n",
      " 'siltepec el triunfo, chiapas, mexico' 'tenango de doria, hidalgo'\n",
      " 'tepictla' 'yajalon' 'sacÃºn palma, municipio de chilÃ³n, chiapas'\n",
      " 'amatenango de la frontera' 'temaxcalapa' 'manzanillo'\n",
      " 'siltepec el triunfo' 'coatepec, coatepec' 'motozintla' 'san fernando'\n",
      " 'santo reyes nopala' 'santa maria sitepec' 'talpa de allende'\n",
      " 'motozintla, chiapas' 'adolfo lopez mateos' 'ixhuatlan del cafe'\n",
      " 'el desmoronado, talpan de allende jalisco' 'zaragoza itundujia'\n",
      " 'pochutla' 'escuitla' 'sierra fraylesca, chiapas' 'san miguel del puerto'\n",
      " 'tepetzingo' 'zentla' 'pluma hidalogo, oaxaca' 'tlacuilotepec'\n",
      " 'iliatenco, guerrero' 'ohuapan, tlaltetela' 'yecuatla'\n",
      " 'cofradia de suchitlan' 'sierra, chiapas' 'villa talea de castro'\n",
      " 'los angeles' 'xochitonalco, huautla        ' 'cordoba' 'ocosingo'\n",
      " 'huautla de jimenez' 'menglian' 'chocaman, veracruz'\n",
      " 'sierra alta mixe y zapoteca' 'tlatlauquitepec'\n",
      " 'sierra norte yajalon, chiapas' 'juchique de ferrer']\n",
      "Myanmar: ['ywar ngan' 'ywar ngan township' 'pyinoolwin' 'pyin oo lwin'\n",
      " 'yauk sauk, shan state' 'doe kwin, pyin oo lwin']\n",
      "Nicaragua: [nan 'jinotega' 'matagalpa' 'jalapa' 'dipilto, nueva segovia'\n",
      " 'nueva segovia']\n",
      "Panama: ['boquete']\n",
      "Papua New Guinea: ['eastern highlands province']\n",
      "Peru: [nan 'cajamarca' 'penachi, cecanor' 'peru' 'puno' 'huanuco' 'san ignacio']\n",
      "Philippines: ['bukidnon, mindanao, philppines' 'asia pacific' 'davao city, region 11'\n",
      " 'corillera administrative' 'benguet, mountain province']\n",
      "Rwanda: ['gicumbi']\n",
      "Taiwan: ['leye, alishan township, chiayi county' 'natou county'\n",
      " 'dongshan dist., tainan city è\\x87ºå\\x8d\\x97å¸\\x82æ\\x9d±å±±å\\x8d\\x80'\n",
      " 'taichung xinshe å\\x8f°ä¸\\xadå¸\\x82æ\\x96°ç¤¾å\\x8d\\x80'\n",
      " 'mountain ali, taiwan' 'å\\x9c\\x8bå§\\x93é\\x84\\x89 guoshing township'\n",
      " 'nanxi dist., tainan city è\\x87ºå\\x8d\\x97å¸\\x82æ¥\\xa0è¥¿å\\x8d\\x80'\n",
      " 'leye, alishan township, chiayi county å\\x98\\x89ç¾©é\\x98¿é\\x87\\x8cå±±æ¨\\x82é\\x87\\x8eæ\\x9d\\x91'\n",
      " 'å\\x8f°ç\\x81£' 'å\\x8f°ä¸\\xadå\\x92\\x8cå¹³å\\x8d\\x80'\n",
      " 'å\\x8f°å\\x8d\\x97å¸\\x82æ\\x9d±å±±å\\x8d\\x80 (dongshan dist., tainan city)'\n",
      " nan 'å\\x8d\\x97æ\\x8a\\x95å\\x9c\\x8bå§\\x93'\n",
      " 'chiayi alishan å\\x98\\x89ç¾©ç¸£é\\x98¿é\\x87\\x8cå±±é\\x84\\x89'\n",
      " 'å\\x98\\x89ç¾©é\\x98¿é\\x87\\x8cå±±' 'å\\x8f°æ\\x9d±å¤ªéº»é\\x87\\x8c'\n",
      " 'å\\x8f°å\\x8d\\x97å¸\\x82æ\\x9d±å±±å\\x8d\\x80( dongshan dist., tainan city)'\n",
      " 'changhua baguashan å½°å\\x8c\\x96å¸\\x82å\\x85«å\\x8d¦å±±' 'nantou'\n",
      " 'yunlin é\\x9b²æ\\x9e\\x97ç¸£ç\\x9f³å£\\x81'\n",
      " 'å\\x8f¤å\\x9d\\x91é\\x84\\x89è\\x8d·å\\x8c\\x85æ\\x9d\\x91å°\\x96å±±å\\x9d\\x9160è\\x99\\x9f'\n",
      " 'è\\x8b\\x97æ\\xa0\\x97ä¸\\x89ç\\x81£'\n",
      " 'dongshan dist., tainan city å\\x8f°å\\x8d\\x97å¸\\x82æ\\x9d±å±±å\\x8d\\x80'\n",
      " 'taiwan' 'å\\x8f°ä¸\\xadæ\\x96°ç¤¾'\n",
      " 'taichung taiping å\\x8f°ä¸\\xadå¸\\x82å¤ªå¹³å\\x8d\\x80'\n",
      " 'new taipei zhonghe æ\\x96°å\\x8c\\x97å¸\\x82ä¸\\xadå\\x92\\x8cå\\x8d\\x80'\n",
      " 'chiayi fanluå\\x98\\x89ç¾©ç¸£ç\\x95ªè·¯é\\x84\\x89'\n",
      " 'è\\x8b\\x97æ\\xa0\\x97æ³°å®\\x89'\n",
      " 'yunlin gukeng he bao é\\x9b²æ\\x9e\\x97ç¸£å\\x8f¤å\\x9d\\x91é\\x84\\x89è\\x8d·è\\x8b\\x9eæ\\x9d\\x91'\n",
      " 'taiwu township , pingtung county å±\\x8fæ\\x9d±ç¸£æ³°æ\\xad¦é\\x84\\x89'\n",
      " 'baihe dist., tainan city è\\x87ºå\\x8d\\x97å¸\\x82ç\\x99½æ²³å\\x8d\\x80']\n",
      "Tanzania, United Republic Of: [nan 'mbeya' 'shizingo village' 'arusha' 'nkure- meru' 'karatu northern'\n",
      " 'moshi' 'mbinga' 'kilimanjaro' 'karatu arusha' 'ikand village'\n",
      " 'arusha meru' 'ruvuma' 'northern' 'ilomba vilage, mbozi' 'ngorogoro'\n",
      " 'meru' 'oldeani , mongola' 'karatu ngorogoro' 'ruvuma, mbinga'\n",
      " 'iwala village, mbeya rural' 'manyara, karatu' 'mkuu rombo']\n",
      "Thailand: ['chiang rai' 'thailand' 'chiang rai thailand' nan 'chiangrai'\n",
      " 'doi chaang village, chiang rai, thialand' 'phahi']\n",
      "Uganda: ['kapchorwa eastern' 'eastern uganda' 'sipi, mt elgon' 'eastern'\n",
      " 'bulambuli eastern region' 'kapchorwa' 'mbale' 'kasese' 'mt. rwenzori'\n",
      " 'west nile' 'kasese, mt. rwenzori' 'mt elgon' 'sheema south western'\n",
      " 'central' 'luwero central region' 'western' 'iganga namadrope eastern'\n",
      " 'south western' 'southern']\n",
      "United States: ['antioquia' 'berastagi' 'central america' 'chikmagalur'\n",
      " 'kwanza norte province, angola']\n",
      "United States (Hawaii): ['kona' nan]\n",
      "United States (Puerto Rico): ['yauco region']\n",
      "Vietnam: ['dala' 'vietnam cau dat' 'don duong' 'vietnam tutra' 'vietnam' nan]\n",
      "Zambia: ['mubuyu estate']\n"
     ]
    }
   ],
   "source": [
    "country_region = coffee_dataset.groupby('country_of_origin')['region'].unique()\n",
    "for country, regions in country_region.items():\n",
    "    print(f\"{country}: {regions}\")"
   ]
  },
  {
   "cell_type": "markdown",
   "id": "7dfa28c2-0545-4210-bbb3-c1e4820bfe76",
   "metadata": {},
   "source": [
    "##  Доста грешки в изписването и асайнването на регионите към дадена държава.\n",
    "##  например имаме 'United States' с регион 'antioquia'. Antioquia е в Colombia\n",
    "##  Имаме - Colombia с регион '52 narino (exact location: mattituy; municipal region: florida code 381'\n",
    "##  което изглежда като грешно, недописано  и т.н.\n",
    "##  Имаме и 'dummy' стойности -> Brazil с регион ['ммм', 'тест']\n",
    "##  и още много . .."
   ]
  },
  {
   "cell_type": "code",
   "execution_count": 86,
   "id": "d4ca5143-105b-4a36-be47-bf8f5ae66902",
   "metadata": {},
   "outputs": [],
   "source": [
    "country_region_map = {\n",
    "    'Brazil': ['test', 'nan', 'cerrado', 'sul de minas - carmo de minas', 'grama valley'],\n",
    "    'United States': ['antioquia', 'berastagi', 'central america', 'chikmagalur'],\n",
    "\n",
    "}\n",
    "\n",
    "coffee_dataset['region'] = coffee_dataset['region'].apply(normalize_text)\n",
    "bad_regions = ['nan', 'test', 'mmm', 'na', 'none']\n",
    "\n",
    "coffee_dataset = coffee_dataset[~coffee_dataset['region'].isin(bad_regions)]"
   ]
  },
  {
   "cell_type": "markdown",
   "id": "c3103cd0-a5f7-4d6e-8a8c-ca97a5217c63",
   "metadata": {},
   "source": [
    "## Ще търсим невалидни altitudes\n",
    "## ще използваме филтър като:\n",
    "## mean < low\n",
    "## mean > high"
   ]
  },
  {
   "cell_type": "code",
   "execution_count": 93,
   "id": "d4f60f43-2a99-4907-b35a-685a290df5e1",
   "metadata": {},
   "outputs": [
    {
     "name": "stdout",
     "output_type": "stream",
     "text": [
      "Empty DataFrame\n",
      "Columns: [country_of_origin, region, altitude_low_meters, altitude_high_meters, altitude_mean_meters]\n",
      "Index: []\n",
      "altitude_low_meters     228\n",
      "altitude_high_meters    228\n",
      "altitude_mean_meters    228\n",
      "dtype: int64\n"
     ]
    }
   ],
   "source": [
    "altitude_check = coffee_dataset[\n",
    "    (coffee_dataset['altitude_mean_meters'] < coffee_dataset['altitude_low_meters']) |\n",
    "    (coffee_dataset['altitude_mean_meters'] > coffee_dataset['altitude_high_meters'])\n",
    "]\n",
    "\n",
    "print(altitude_check[['country_of_origin', 'region', 'altitude_low_meters', 'altitude_high_meters', 'altitude_mean_meters']])\n",
    "print(coffee_dataset[['altitude_low_meters', 'altitude_high_meters', 'altitude_mean_meters']].isnull().sum())"
   ]
  },
  {
   "cell_type": "markdown",
   "id": "9411f4f7-210d-47ec-958f-630cac39941d",
   "metadata": {},
   "source": [
    "### празният дейтасет който имаме катъо аутпут ни подсказва, че 'mean altitudes' са в рамките на мин-макс стойностите \n",
    "### имаме 288 реда в който тези стойности липсват"
   ]
  },
  {
   "cell_type": "markdown",
   "id": "1390671e-f7c9-4657-adf7-12869a6bf494",
   "metadata": {},
   "source": [
    "### да проверим дали не сме допуснали грешка"
   ]
  },
  {
   "cell_type": "code",
   "execution_count": 95,
   "id": "c5bcd73e-83f4-4d96-a561-be32885601d4",
   "metadata": {},
   "outputs": [
    {
     "name": "stdout",
     "output_type": "stream",
     "text": [
      "228\n"
     ]
    }
   ],
   "source": [
    "null_rows = coffee_dataset[\n",
    "    coffee_dataset['altitude_low_meters'].isnull() &\n",
    "    coffee_dataset['altitude_high_meters'].isnull() &\n",
    "    coffee_dataset['altitude_mean_meters'].isnull()\n",
    "]\n",
    "\n",
    "print(len(null_rows))"
   ]
  },
  {
   "cell_type": "markdown",
   "id": "0bd064b3-f682-4b41-9788-f3cea102ac7d",
   "metadata": {},
   "source": [
    "### отново получаваме 228.\n",
    "### Това означава, че данните за надморската височина липсват изцяло за тези 228 реда.\n",
    "### нямаме частична липса, например имаме 'low', но нямаме 'high'. липсват напълно данни"
   ]
  },
  {
   "cell_type": "markdown",
   "id": "2c4db971-7fdb-4b3e-8be8-e686fe9c23b4",
   "metadata": {},
   "source": [
    "### ще потърсим някакви аномалии с екстремно ниски надмосрки височини:"
   ]
  },
  {
   "cell_type": "code",
   "execution_count": 97,
   "id": "c786eca9-7a9c-4d6e-9cf0-ce6eafe60dfd",
   "metadata": {},
   "outputs": [
    {
     "data": {
      "text/html": [
       "<div>\n",
       "<style scoped>\n",
       "    .dataframe tbody tr th:only-of-type {\n",
       "        vertical-align: middle;\n",
       "    }\n",
       "\n",
       "    .dataframe tbody tr th {\n",
       "        vertical-align: top;\n",
       "    }\n",
       "\n",
       "    .dataframe thead th {\n",
       "        text-align: right;\n",
       "    }\n",
       "</style>\n",
       "<table border=\"1\" class=\"dataframe\">\n",
       "  <thead>\n",
       "    <tr style=\"text-align: right;\">\n",
       "      <th></th>\n",
       "      <th>species</th>\n",
       "      <th>owner</th>\n",
       "      <th>country_of_origin</th>\n",
       "      <th>farm_name</th>\n",
       "      <th>lot_number</th>\n",
       "      <th>mill</th>\n",
       "      <th>ico_number</th>\n",
       "      <th>company</th>\n",
       "      <th>altitude</th>\n",
       "      <th>region</th>\n",
       "      <th>...</th>\n",
       "      <th>bag_weight [kg]</th>\n",
       "      <th>harvest_year_original</th>\n",
       "      <th>harvest_year_en</th>\n",
       "      <th>harvest_time_start</th>\n",
       "      <th>harvest_time_end</th>\n",
       "      <th>harvest_normalized</th>\n",
       "      <th>harvest_year_norm</th>\n",
       "      <th>harvest_year_clean</th>\n",
       "      <th>continent</th>\n",
       "      <th>altitude_all_equal</th>\n",
       "    </tr>\n",
       "    <tr>\n",
       "      <th>unnamed: 0</th>\n",
       "      <th></th>\n",
       "      <th></th>\n",
       "      <th></th>\n",
       "      <th></th>\n",
       "      <th></th>\n",
       "      <th></th>\n",
       "      <th></th>\n",
       "      <th></th>\n",
       "      <th></th>\n",
       "      <th></th>\n",
       "      <th></th>\n",
       "      <th></th>\n",
       "      <th></th>\n",
       "      <th></th>\n",
       "      <th></th>\n",
       "      <th></th>\n",
       "      <th></th>\n",
       "      <th></th>\n",
       "      <th></th>\n",
       "      <th></th>\n",
       "      <th></th>\n",
       "    </tr>\n",
       "  </thead>\n",
       "  <tbody>\n",
       "    <tr>\n",
       "      <th>41</th>\n",
       "      <td>Arabica</td>\n",
       "      <td>jacques pereira carneiro</td>\n",
       "      <td>Brazil</td>\n",
       "      <td>pereira estate coffee</td>\n",
       "      <td>NaN</td>\n",
       "      <td>cocarive</td>\n",
       "      <td>002/1352/0045</td>\n",
       "      <td>NaN</td>\n",
       "      <td>1.2</td>\n",
       "      <td>sul de minas - carmo de minas</td>\n",
       "      <td>...</td>\n",
       "      <td>60</td>\n",
       "      <td>2010</td>\n",
       "      <td>2010</td>\n",
       "      <td>NaN</td>\n",
       "      <td>NaN</td>\n",
       "      <td>2010</td>\n",
       "      <td>2010</td>\n",
       "      <td>2010</td>\n",
       "      <td>South America</td>\n",
       "      <td>True</td>\n",
       "    </tr>\n",
       "    <tr>\n",
       "      <th>42</th>\n",
       "      <td>Arabica</td>\n",
       "      <td>jacques pereira carneiro</td>\n",
       "      <td>Brazil</td>\n",
       "      <td>pereira estate coffee</td>\n",
       "      <td>NaN</td>\n",
       "      <td>cocarive</td>\n",
       "      <td>002/1352/0045</td>\n",
       "      <td>NaN</td>\n",
       "      <td>1.2</td>\n",
       "      <td>sul de minas - carmo de minas</td>\n",
       "      <td>...</td>\n",
       "      <td>60</td>\n",
       "      <td>2010</td>\n",
       "      <td>2010</td>\n",
       "      <td>NaN</td>\n",
       "      <td>NaN</td>\n",
       "      <td>2010</td>\n",
       "      <td>2010</td>\n",
       "      <td>2010</td>\n",
       "      <td>South America</td>\n",
       "      <td>True</td>\n",
       "    </tr>\n",
       "    <tr>\n",
       "      <th>100</th>\n",
       "      <td>Arabica</td>\n",
       "      <td>simon mahinda</td>\n",
       "      <td>Kenya</td>\n",
       "      <td>NaN</td>\n",
       "      <td>CN 11462 AA</td>\n",
       "      <td>ckcm</td>\n",
       "      <td>NaN</td>\n",
       "      <td>c dorman ltd</td>\n",
       "      <td>-1</td>\n",
       "      <td>None</td>\n",
       "      <td>...</td>\n",
       "      <td>60</td>\n",
       "      <td>2015</td>\n",
       "      <td>2015</td>\n",
       "      <td>NaN</td>\n",
       "      <td>NaN</td>\n",
       "      <td>2015</td>\n",
       "      <td>2015</td>\n",
       "      <td>2015</td>\n",
       "      <td>Africa</td>\n",
       "      <td>True</td>\n",
       "    </tr>\n",
       "    <tr>\n",
       "      <th>279</th>\n",
       "      <td>Arabica</td>\n",
       "      <td>ipanema coffees</td>\n",
       "      <td>Brazil</td>\n",
       "      <td>rio verde</td>\n",
       "      <td>NaN</td>\n",
       "      <td>ipanema comercial e exportadora sa</td>\n",
       "      <td>002/4177/0150</td>\n",
       "      <td>ipanema coffees</td>\n",
       "      <td>1</td>\n",
       "      <td>south of minas</td>\n",
       "      <td>...</td>\n",
       "      <td>2</td>\n",
       "      <td>2015/2016</td>\n",
       "      <td>2015/2016</td>\n",
       "      <td>NaN</td>\n",
       "      <td>NaN</td>\n",
       "      <td>2015 / 2016</td>\n",
       "      <td>2015/2016</td>\n",
       "      <td>2015/2016</td>\n",
       "      <td>South America</td>\n",
       "      <td>True</td>\n",
       "    </tr>\n",
       "    <tr>\n",
       "      <th>481</th>\n",
       "      <td>Arabica</td>\n",
       "      <td>ipanema coffees</td>\n",
       "      <td>Brazil</td>\n",
       "      <td>rio verde</td>\n",
       "      <td>NaN</td>\n",
       "      <td>ipanema comercial e exportadora sa</td>\n",
       "      <td>002/4177/0164</td>\n",
       "      <td>ipanema coffees</td>\n",
       "      <td>1</td>\n",
       "      <td>south of minas</td>\n",
       "      <td>...</td>\n",
       "      <td>2</td>\n",
       "      <td>2015/2016</td>\n",
       "      <td>2015/2016</td>\n",
       "      <td>NaN</td>\n",
       "      <td>NaN</td>\n",
       "      <td>2015 / 2016</td>\n",
       "      <td>2015/2016</td>\n",
       "      <td>2015/2016</td>\n",
       "      <td>South America</td>\n",
       "      <td>True</td>\n",
       "    </tr>\n",
       "    <tr>\n",
       "      <th>613</th>\n",
       "      <td>Arabica</td>\n",
       "      <td>ipanema coffees</td>\n",
       "      <td>Brazil</td>\n",
       "      <td>rio verde</td>\n",
       "      <td>NaN</td>\n",
       "      <td>ipanema comercial e exportadora sa</td>\n",
       "      <td>002/4177/0150</td>\n",
       "      <td>ipanema coffees</td>\n",
       "      <td>1</td>\n",
       "      <td>south of minas</td>\n",
       "      <td>...</td>\n",
       "      <td>2</td>\n",
       "      <td>2015/2016</td>\n",
       "      <td>2015/2016</td>\n",
       "      <td>NaN</td>\n",
       "      <td>NaN</td>\n",
       "      <td>2015 / 2016</td>\n",
       "      <td>2015/2016</td>\n",
       "      <td>2015/2016</td>\n",
       "      <td>South America</td>\n",
       "      <td>True</td>\n",
       "    </tr>\n",
       "    <tr>\n",
       "      <th>683</th>\n",
       "      <td>Arabica</td>\n",
       "      <td>ipanema coffees</td>\n",
       "      <td>Brazil</td>\n",
       "      <td>rio verde</td>\n",
       "      <td>NaN</td>\n",
       "      <td>ipanema comercial e exportadora sa</td>\n",
       "      <td>002/4177/0150</td>\n",
       "      <td>ipanema coffees</td>\n",
       "      <td>1</td>\n",
       "      <td>south of minas</td>\n",
       "      <td>...</td>\n",
       "      <td>2</td>\n",
       "      <td>2015/2016</td>\n",
       "      <td>2015/2016</td>\n",
       "      <td>NaN</td>\n",
       "      <td>NaN</td>\n",
       "      <td>2015 / 2016</td>\n",
       "      <td>2015/2016</td>\n",
       "      <td>2015/2016</td>\n",
       "      <td>South America</td>\n",
       "      <td>True</td>\n",
       "    </tr>\n",
       "    <tr>\n",
       "      <th>737</th>\n",
       "      <td>Arabica</td>\n",
       "      <td>ipanema coffees</td>\n",
       "      <td>Brazil</td>\n",
       "      <td>rio verde</td>\n",
       "      <td>NaN</td>\n",
       "      <td>ipanema comercial e exportadora sa</td>\n",
       "      <td>002/4177/0150</td>\n",
       "      <td>ipanema coffees</td>\n",
       "      <td>1</td>\n",
       "      <td>south of minas</td>\n",
       "      <td>...</td>\n",
       "      <td>2</td>\n",
       "      <td>2015/2016</td>\n",
       "      <td>2015/2016</td>\n",
       "      <td>NaN</td>\n",
       "      <td>NaN</td>\n",
       "      <td>2015 / 2016</td>\n",
       "      <td>2015/2016</td>\n",
       "      <td>2015/2016</td>\n",
       "      <td>South America</td>\n",
       "      <td>True</td>\n",
       "    </tr>\n",
       "    <tr>\n",
       "      <th>761</th>\n",
       "      <td>Arabica</td>\n",
       "      <td>ipanema coffees</td>\n",
       "      <td>Brazil</td>\n",
       "      <td>rio verde</td>\n",
       "      <td>NaN</td>\n",
       "      <td>ipanema comercial e exportadora sa</td>\n",
       "      <td>002/4177/0164</td>\n",
       "      <td>ipanema coffees</td>\n",
       "      <td>1</td>\n",
       "      <td>south of minas</td>\n",
       "      <td>...</td>\n",
       "      <td>2</td>\n",
       "      <td>2015/2016</td>\n",
       "      <td>2015/2016</td>\n",
       "      <td>NaN</td>\n",
       "      <td>NaN</td>\n",
       "      <td>2015 / 2016</td>\n",
       "      <td>2015/2016</td>\n",
       "      <td>2015/2016</td>\n",
       "      <td>South America</td>\n",
       "      <td>True</td>\n",
       "    </tr>\n",
       "    <tr>\n",
       "      <th>780</th>\n",
       "      <td>Arabica</td>\n",
       "      <td>ipanema coffees</td>\n",
       "      <td>Brazil</td>\n",
       "      <td>rio verde</td>\n",
       "      <td>NaN</td>\n",
       "      <td>ipanema comercial e exportadora sa</td>\n",
       "      <td>002/4177/0150</td>\n",
       "      <td>ipanema coffees</td>\n",
       "      <td>1</td>\n",
       "      <td>south of minas</td>\n",
       "      <td>...</td>\n",
       "      <td>2</td>\n",
       "      <td>2015/2016</td>\n",
       "      <td>2015/2016</td>\n",
       "      <td>NaN</td>\n",
       "      <td>NaN</td>\n",
       "      <td>2015 / 2016</td>\n",
       "      <td>2015/2016</td>\n",
       "      <td>2015/2016</td>\n",
       "      <td>South America</td>\n",
       "      <td>True</td>\n",
       "    </tr>\n",
       "    <tr>\n",
       "      <th>785</th>\n",
       "      <td>Arabica</td>\n",
       "      <td>ceca, s.a.</td>\n",
       "      <td>Costa Rica</td>\n",
       "      <td>cafetalera aquiares</td>\n",
       "      <td>NaN</td>\n",
       "      <td>cafetalera aquiares</td>\n",
       "      <td>5-025-0101</td>\n",
       "      <td>ceca,s.a.</td>\n",
       "      <td>1.3</td>\n",
       "      <td>turrialba</td>\n",
       "      <td>...</td>\n",
       "      <td>69</td>\n",
       "      <td>2013</td>\n",
       "      <td>2013</td>\n",
       "      <td>NaN</td>\n",
       "      <td>NaN</td>\n",
       "      <td>2013</td>\n",
       "      <td>2013</td>\n",
       "      <td>2013</td>\n",
       "      <td>NaN</td>\n",
       "      <td>True</td>\n",
       "    </tr>\n",
       "    <tr>\n",
       "      <th>838</th>\n",
       "      <td>Arabica</td>\n",
       "      <td>ipanema coffees</td>\n",
       "      <td>Brazil</td>\n",
       "      <td>rio verde</td>\n",
       "      <td>NaN</td>\n",
       "      <td>ipanema comercial e exportadora sa</td>\n",
       "      <td>002/4177/0150</td>\n",
       "      <td>ipanema coffees</td>\n",
       "      <td>1</td>\n",
       "      <td>south of minas</td>\n",
       "      <td>...</td>\n",
       "      <td>2</td>\n",
       "      <td>2015/2016</td>\n",
       "      <td>2015/2016</td>\n",
       "      <td>NaN</td>\n",
       "      <td>NaN</td>\n",
       "      <td>2015 / 2016</td>\n",
       "      <td>2015/2016</td>\n",
       "      <td>2015/2016</td>\n",
       "      <td>South America</td>\n",
       "      <td>True</td>\n",
       "    </tr>\n",
       "    <tr>\n",
       "      <th>839</th>\n",
       "      <td>Arabica</td>\n",
       "      <td>ipanema coffees</td>\n",
       "      <td>Brazil</td>\n",
       "      <td>rio verde</td>\n",
       "      <td>NaN</td>\n",
       "      <td>ipanema comercial e exportadora sa</td>\n",
       "      <td>002/4177/0164</td>\n",
       "      <td>ipanema coffees</td>\n",
       "      <td>1</td>\n",
       "      <td>south of minas</td>\n",
       "      <td>...</td>\n",
       "      <td>2</td>\n",
       "      <td>2015/2016</td>\n",
       "      <td>2015/2016</td>\n",
       "      <td>NaN</td>\n",
       "      <td>NaN</td>\n",
       "      <td>2015 / 2016</td>\n",
       "      <td>2015/2016</td>\n",
       "      <td>2015/2016</td>\n",
       "      <td>South America</td>\n",
       "      <td>True</td>\n",
       "    </tr>\n",
       "    <tr>\n",
       "      <th>877</th>\n",
       "      <td>Arabica</td>\n",
       "      <td>ipanema coffees</td>\n",
       "      <td>Brazil</td>\n",
       "      <td>rio verde</td>\n",
       "      <td>NaN</td>\n",
       "      <td>ipanema comercial e exportadora sa</td>\n",
       "      <td>002/4177/0150</td>\n",
       "      <td>ipanema coffees</td>\n",
       "      <td>1</td>\n",
       "      <td>south of minas</td>\n",
       "      <td>...</td>\n",
       "      <td>2</td>\n",
       "      <td>2015/2016</td>\n",
       "      <td>2015/2016</td>\n",
       "      <td>NaN</td>\n",
       "      <td>NaN</td>\n",
       "      <td>2015 / 2016</td>\n",
       "      <td>2015/2016</td>\n",
       "      <td>2015/2016</td>\n",
       "      <td>South America</td>\n",
       "      <td>True</td>\n",
       "    </tr>\n",
       "    <tr>\n",
       "      <th>898</th>\n",
       "      <td>Arabica</td>\n",
       "      <td>ceca, s.a.</td>\n",
       "      <td>Costa Rica</td>\n",
       "      <td>cafetalera aquiares</td>\n",
       "      <td>NaN</td>\n",
       "      <td>cafetalera aquiares</td>\n",
       "      <td>5-025-024/25</td>\n",
       "      <td>ceca,s.a.</td>\n",
       "      <td>1.3</td>\n",
       "      <td>turrialba</td>\n",
       "      <td>...</td>\n",
       "      <td>69</td>\n",
       "      <td>2015</td>\n",
       "      <td>2015</td>\n",
       "      <td>NaN</td>\n",
       "      <td>NaN</td>\n",
       "      <td>2015</td>\n",
       "      <td>2015</td>\n",
       "      <td>2015</td>\n",
       "      <td>NaN</td>\n",
       "      <td>True</td>\n",
       "    </tr>\n",
       "    <tr>\n",
       "      <th>963</th>\n",
       "      <td>Arabica</td>\n",
       "      <td>ipanema coffees</td>\n",
       "      <td>Brazil</td>\n",
       "      <td>rio verde</td>\n",
       "      <td>NaN</td>\n",
       "      <td>ipanema comercial e exportadora sa</td>\n",
       "      <td>002/4177/0164</td>\n",
       "      <td>ipanema coffees</td>\n",
       "      <td>1</td>\n",
       "      <td>south of minas</td>\n",
       "      <td>...</td>\n",
       "      <td>2</td>\n",
       "      <td>2015/2016</td>\n",
       "      <td>2015/2016</td>\n",
       "      <td>NaN</td>\n",
       "      <td>NaN</td>\n",
       "      <td>2015 / 2016</td>\n",
       "      <td>2015/2016</td>\n",
       "      <td>2015/2016</td>\n",
       "      <td>South America</td>\n",
       "      <td>True</td>\n",
       "    </tr>\n",
       "    <tr>\n",
       "      <th>1068</th>\n",
       "      <td>Arabica</td>\n",
       "      <td>cqi taiwan icp cqiå°ç£åä½å¤¥ä¼´</td>\n",
       "      <td>Taiwan</td>\n",
       "      <td>çç§é</td>\n",
       "      <td>1</td>\n",
       "      <td>non</td>\n",
       "      <td>NaN</td>\n",
       "      <td>çç§é</td>\n",
       "      <td>50</td>\n",
       "      <td>taiwan</td>\n",
       "      <td>...</td>\n",
       "      <td>5</td>\n",
       "      <td>2017</td>\n",
       "      <td>2017</td>\n",
       "      <td>NaN</td>\n",
       "      <td>NaN</td>\n",
       "      <td>2017</td>\n",
       "      <td>2017</td>\n",
       "      <td>2017</td>\n",
       "      <td>NaN</td>\n",
       "      <td>True</td>\n",
       "    </tr>\n",
       "    <tr>\n",
       "      <th>1203</th>\n",
       "      <td>Arabica</td>\n",
       "      <td>juan avenamar rodriguez funez</td>\n",
       "      <td>Mexico</td>\n",
       "      <td>pico del oro</td>\n",
       "      <td>NaN</td>\n",
       "      <td>el pacayal, amatenango de la frontera, chiapas</td>\n",
       "      <td>F07016865</td>\n",
       "      <td>cafÃ© pico de loro</td>\n",
       "      <td>12oo</td>\n",
       "      <td>amatenango de la frontera</td>\n",
       "      <td>...</td>\n",
       "      <td>1</td>\n",
       "      <td>2012</td>\n",
       "      <td>2012</td>\n",
       "      <td>NaN</td>\n",
       "      <td>NaN</td>\n",
       "      <td>2012</td>\n",
       "      <td>2012</td>\n",
       "      <td>2012</td>\n",
       "      <td>North America</td>\n",
       "      <td>True</td>\n",
       "    </tr>\n",
       "    <tr>\n",
       "      <th>1335</th>\n",
       "      <td>Robusta</td>\n",
       "      <td>luis robles</td>\n",
       "      <td>Ecuador</td>\n",
       "      <td>robustasa</td>\n",
       "      <td>Lavado 3</td>\n",
       "      <td>own laboratory</td>\n",
       "      <td>NaN</td>\n",
       "      <td>robustasa</td>\n",
       "      <td>40</td>\n",
       "      <td>san juan, playas</td>\n",
       "      <td>...</td>\n",
       "      <td>2</td>\n",
       "      <td>2016</td>\n",
       "      <td>2016</td>\n",
       "      <td>NaN</td>\n",
       "      <td>NaN</td>\n",
       "      <td>2016</td>\n",
       "      <td>2016</td>\n",
       "      <td>2016</td>\n",
       "      <td>NaN</td>\n",
       "      <td>True</td>\n",
       "    </tr>\n",
       "  </tbody>\n",
       "</table>\n",
       "<p>19 rows × 53 columns</p>\n",
       "</div>"
      ],
      "text/plain": [
       "            species                                 owner country_of_origin  \\\n",
       "unnamed: 0                                                                    \n",
       "41          Arabica              jacques pereira carneiro            Brazil   \n",
       "42          Arabica              jacques pereira carneiro            Brazil   \n",
       "100         Arabica                         simon mahinda             Kenya   \n",
       "279         Arabica                       ipanema coffees            Brazil   \n",
       "481         Arabica                       ipanema coffees            Brazil   \n",
       "613         Arabica                       ipanema coffees            Brazil   \n",
       "683         Arabica                       ipanema coffees            Brazil   \n",
       "737         Arabica                       ipanema coffees            Brazil   \n",
       "761         Arabica                       ipanema coffees            Brazil   \n",
       "780         Arabica                       ipanema coffees            Brazil   \n",
       "785         Arabica                            ceca, s.a.        Costa Rica   \n",
       "838         Arabica                       ipanema coffees            Brazil   \n",
       "839         Arabica                       ipanema coffees            Brazil   \n",
       "877         Arabica                       ipanema coffees            Brazil   \n",
       "898         Arabica                            ceca, s.a.        Costa Rica   \n",
       "963         Arabica                       ipanema coffees            Brazil   \n",
       "1068        Arabica  cqi taiwan icp cqiå°ç£åä½å¤¥ä¼´            Taiwan   \n",
       "1203        Arabica         juan avenamar rodriguez funez            Mexico   \n",
       "1335        Robusta                           luis robles           Ecuador   \n",
       "\n",
       "                        farm_name   lot_number  \\\n",
       "unnamed: 0                                       \n",
       "41          pereira estate coffee          NaN   \n",
       "42          pereira estate coffee          NaN   \n",
       "100                           NaN  CN 11462 AA   \n",
       "279                     rio verde          NaN   \n",
       "481                     rio verde          NaN   \n",
       "613                     rio verde          NaN   \n",
       "683                     rio verde          NaN   \n",
       "737                     rio verde          NaN   \n",
       "761                     rio verde          NaN   \n",
       "780                     rio verde          NaN   \n",
       "785           cafetalera aquiares          NaN   \n",
       "838                     rio verde          NaN   \n",
       "839                     rio verde          NaN   \n",
       "877                     rio verde          NaN   \n",
       "898           cafetalera aquiares          NaN   \n",
       "963                     rio verde          NaN   \n",
       "1068                    çç§é            1   \n",
       "1203                 pico del oro          NaN   \n",
       "1335                    robustasa     Lavado 3   \n",
       "\n",
       "                                                      mill     ico_number  \\\n",
       "unnamed: 0                                                                  \n",
       "41                                                cocarive  002/1352/0045   \n",
       "42                                                cocarive  002/1352/0045   \n",
       "100                                                   ckcm            NaN   \n",
       "279                     ipanema comercial e exportadora sa  002/4177/0150   \n",
       "481                     ipanema comercial e exportadora sa  002/4177/0164   \n",
       "613                     ipanema comercial e exportadora sa  002/4177/0150   \n",
       "683                     ipanema comercial e exportadora sa  002/4177/0150   \n",
       "737                     ipanema comercial e exportadora sa  002/4177/0150   \n",
       "761                     ipanema comercial e exportadora sa  002/4177/0164   \n",
       "780                     ipanema comercial e exportadora sa  002/4177/0150   \n",
       "785                                    cafetalera aquiares     5-025-0101   \n",
       "838                     ipanema comercial e exportadora sa  002/4177/0150   \n",
       "839                     ipanema comercial e exportadora sa  002/4177/0164   \n",
       "877                     ipanema comercial e exportadora sa  002/4177/0150   \n",
       "898                                    cafetalera aquiares   5-025-024/25   \n",
       "963                     ipanema comercial e exportadora sa  002/4177/0164   \n",
       "1068                                                   non            NaN   \n",
       "1203        el pacayal, amatenango de la frontera, chiapas      F07016865   \n",
       "1335                                        own laboratory            NaN   \n",
       "\n",
       "                       company altitude                         region  ...  \\\n",
       "unnamed: 0                                                              ...   \n",
       "41                         NaN      1.2  sul de minas - carmo de minas  ...   \n",
       "42                         NaN      1.2  sul de minas - carmo de minas  ...   \n",
       "100               c dorman ltd       -1                           None  ...   \n",
       "279            ipanema coffees        1                 south of minas  ...   \n",
       "481            ipanema coffees        1                 south of minas  ...   \n",
       "613            ipanema coffees        1                 south of minas  ...   \n",
       "683            ipanema coffees        1                 south of minas  ...   \n",
       "737            ipanema coffees        1                 south of minas  ...   \n",
       "761            ipanema coffees        1                 south of minas  ...   \n",
       "780            ipanema coffees        1                 south of minas  ...   \n",
       "785                  ceca,s.a.      1.3                      turrialba  ...   \n",
       "838            ipanema coffees        1                 south of minas  ...   \n",
       "839            ipanema coffees        1                 south of minas  ...   \n",
       "877            ipanema coffees        1                 south of minas  ...   \n",
       "898                  ceca,s.a.      1.3                      turrialba  ...   \n",
       "963            ipanema coffees        1                 south of minas  ...   \n",
       "1068                 çç§é       50                         taiwan  ...   \n",
       "1203        cafÃ© pico de loro     12oo      amatenango de la frontera  ...   \n",
       "1335                 robustasa       40               san juan, playas  ...   \n",
       "\n",
       "           bag_weight [kg]  harvest_year_original harvest_year_en  \\\n",
       "unnamed: 0                                                          \n",
       "41                      60                   2010            2010   \n",
       "42                      60                   2010            2010   \n",
       "100                     60                   2015            2015   \n",
       "279                      2              2015/2016       2015/2016   \n",
       "481                      2              2015/2016       2015/2016   \n",
       "613                      2              2015/2016       2015/2016   \n",
       "683                      2              2015/2016       2015/2016   \n",
       "737                      2              2015/2016       2015/2016   \n",
       "761                      2              2015/2016       2015/2016   \n",
       "780                      2              2015/2016       2015/2016   \n",
       "785                     69                   2013            2013   \n",
       "838                      2              2015/2016       2015/2016   \n",
       "839                      2              2015/2016       2015/2016   \n",
       "877                      2              2015/2016       2015/2016   \n",
       "898                     69                   2015            2015   \n",
       "963                      2              2015/2016       2015/2016   \n",
       "1068                     5                   2017            2017   \n",
       "1203                     1                   2012            2012   \n",
       "1335                     2                   2016            2016   \n",
       "\n",
       "           harvest_time_start harvest_time_end harvest_normalized  \\\n",
       "unnamed: 0                                                          \n",
       "41                        NaN              NaN               2010   \n",
       "42                        NaN              NaN               2010   \n",
       "100                       NaN              NaN               2015   \n",
       "279                       NaN              NaN        2015 / 2016   \n",
       "481                       NaN              NaN        2015 / 2016   \n",
       "613                       NaN              NaN        2015 / 2016   \n",
       "683                       NaN              NaN        2015 / 2016   \n",
       "737                       NaN              NaN        2015 / 2016   \n",
       "761                       NaN              NaN        2015 / 2016   \n",
       "780                       NaN              NaN        2015 / 2016   \n",
       "785                       NaN              NaN               2013   \n",
       "838                       NaN              NaN        2015 / 2016   \n",
       "839                       NaN              NaN        2015 / 2016   \n",
       "877                       NaN              NaN        2015 / 2016   \n",
       "898                       NaN              NaN               2015   \n",
       "963                       NaN              NaN        2015 / 2016   \n",
       "1068                      NaN              NaN               2017   \n",
       "1203                      NaN              NaN               2012   \n",
       "1335                      NaN              NaN               2016   \n",
       "\n",
       "           harvest_year_norm harvest_year_clean      continent  \\\n",
       "unnamed: 0                                                       \n",
       "41                      2010               2010  South America   \n",
       "42                      2010               2010  South America   \n",
       "100                     2015               2015         Africa   \n",
       "279                2015/2016          2015/2016  South America   \n",
       "481                2015/2016          2015/2016  South America   \n",
       "613                2015/2016          2015/2016  South America   \n",
       "683                2015/2016          2015/2016  South America   \n",
       "737                2015/2016          2015/2016  South America   \n",
       "761                2015/2016          2015/2016  South America   \n",
       "780                2015/2016          2015/2016  South America   \n",
       "785                     2013               2013            NaN   \n",
       "838                2015/2016          2015/2016  South America   \n",
       "839                2015/2016          2015/2016  South America   \n",
       "877                2015/2016          2015/2016  South America   \n",
       "898                     2015               2015            NaN   \n",
       "963                2015/2016          2015/2016  South America   \n",
       "1068                    2017               2017            NaN   \n",
       "1203                    2012               2012  North America   \n",
       "1335                    2016               2016            NaN   \n",
       "\n",
       "            altitude_all_equal  \n",
       "unnamed: 0                      \n",
       "41                        True  \n",
       "42                        True  \n",
       "100                       True  \n",
       "279                       True  \n",
       "481                       True  \n",
       "613                       True  \n",
       "683                       True  \n",
       "737                       True  \n",
       "761                       True  \n",
       "780                       True  \n",
       "785                       True  \n",
       "838                       True  \n",
       "839                       True  \n",
       "877                       True  \n",
       "898                       True  \n",
       "963                       True  \n",
       "1068                      True  \n",
       "1203                      True  \n",
       "1335                      True  \n",
       "\n",
       "[19 rows x 53 columns]"
      ]
     },
     "execution_count": 97,
     "metadata": {},
     "output_type": "execute_result"
    }
   ],
   "source": [
    "coffee_dataset[\n",
    "    (coffee_dataset[\"altitude_all_equal\"]) & \n",
    "    (coffee_dataset[\"altitude_mean_meters\"] < 100)\n",
    "]"
   ]
  },
  {
   "cell_type": "markdown",
   "id": "0d80fe67-1c9a-4927-8800-0c5283ce8025",
   "metadata": {},
   "source": [
    "### Имаме странно ниски надмоески височини.. \n",
    "### хипотеза -> стойностите за много ниските надморски вичочини са в километри, като мерни единици.\n",
    "### например, бърз сърч в гугъл за първия запис:\n",
    "### The Pereira Estate, also known as Irmãs Pereira, in Brazil, grows coffee at altitudes between 1075 and 1229 meters above sea level (masl).\n",
    "### това напълно отговаря на стойността която имаме - 1.2\n",
    "\n",
    "### втори пример: Aquiares region is known for its coffee production, with farms typically situated between 1200 and 1500 meters.\n",
    "### което също отговаря на стойността която имаме от 1.3 \n",
    "\n",
    "### можем наистина да предположим, че тези стойности са дадени в километри за някой ферми\n",
    "\n",
    "### Има и примери като Еквадор - със 'altitude' сойност - 40... wtf is this...\n",
    "\n",
    "### Mexico El Pacayal, Amantenango de la Frontera, Chiapas, Mexico is not explicitly stated in the provided search results. However, the general region, the Northern Mountains of Chiapas, has elevations reaching above 12,000 feet (3,650 meters)\n",
    "### => това което имаме като стойност 12оо  е може би feet? "
   ]
  },
  {
   "cell_type": "code",
   "execution_count": 92,
   "id": "4c6dc756-0068-4711-b17e-0cf2b0085fb6",
   "metadata": {},
   "outputs": [
    {
     "name": "stdout",
     "output_type": "stream",
     "text": [
      "country_of_origin  region          altitude_low_meters\n",
      "Guatemala          oriente         1310.64                31\n",
      "Colombia           huila           1750.00                25\n",
      "Guatemala          oriente         1219.20                22\n",
      "                   antigua         1500.00                13\n",
      "Colombia           huila           442.00                 12\n",
      "Brazil             south of minas  1.00                   11\n",
      "                                   890.00                 11\n",
      "Guatemala          san marcos      1700.00                10\n",
      "Thailand           thailand        800.00                 10\n",
      "Colombia           huila           1800.00                 9\n",
      "Name: count, dtype: int64\n"
     ]
    }
   ],
   "source": [
    "same_altitude = coffee_dataset[\n",
    "    (coffee_dataset['altitude_low_meters'] == coffee_dataset['altitude_high_meters']) &\n",
    "    (coffee_dataset['altitude_low_meters'] == coffee_dataset['altitude_mean_meters'])\n",
    "]\n",
    "print(same_altitude[['country_of_origin', 'region', 'altitude_low_meters']].value_counts().head(10))"
   ]
  },
  {
   "cell_type": "markdown",
   "id": "2e5dec95-11c4-4014-9328-e5c4b13d537e",
   "metadata": {},
   "source": [
    "## имаме няколко държави с еднакви 'altitude' стойности\n",
    "## това може да означава, че имаме неточни данни "
   ]
  },
  {
   "cell_type": "markdown",
   "id": "a0b27e6c-471c-476a-9c69-9838772d195a",
   "metadata": {},
   "source": [
    "## Create the 'altitude_all_equal' column"
   ]
  },
  {
   "cell_type": "code",
   "execution_count": 99,
   "id": "9b44cc1b-eaae-4028-8458-35d4914dbc95",
   "metadata": {},
   "outputs": [
    {
     "name": "stdout",
     "output_type": "stream",
     "text": [
      "           country_of_origin                         region  \\\n",
      "unnamed: 0                                                    \n",
      "41                    Brazil  sul de minas - carmo de minas   \n",
      "42                    Brazil  sul de minas - carmo de minas   \n",
      "100                    Kenya                           None   \n",
      "279                   Brazil                 south of minas   \n",
      "481                   Brazil                 south of minas   \n",
      "613                   Brazil                 south of minas   \n",
      "683                   Brazil                 south of minas   \n",
      "737                   Brazil                 south of minas   \n",
      "761                   Brazil                 south of minas   \n",
      "780                   Brazil                 south of minas   \n",
      "785               Costa Rica                      turrialba   \n",
      "838                   Brazil                 south of minas   \n",
      "839                   Brazil                 south of minas   \n",
      "877                   Brazil                 south of minas   \n",
      "898               Costa Rica                      turrialba   \n",
      "963                   Brazil                 south of minas   \n",
      "1068                  Taiwan                         taiwan   \n",
      "1203                  Mexico      amatenango de la frontera   \n",
      "1335                 Ecuador               san juan, playas   \n",
      "\n",
      "            altitude_mean_meters  \n",
      "unnamed: 0                        \n",
      "41                          12.0  \n",
      "42                          12.0  \n",
      "100                          1.0  \n",
      "279                          1.0  \n",
      "481                          1.0  \n",
      "613                          1.0  \n",
      "683                          1.0  \n",
      "737                          1.0  \n",
      "761                          1.0  \n",
      "780                          1.0  \n",
      "785                         13.0  \n",
      "838                          1.0  \n",
      "839                          1.0  \n",
      "877                          1.0  \n",
      "898                         13.0  \n",
      "963                          1.0  \n",
      "1068                        50.0  \n",
      "1203                        12.0  \n",
      "1335                        40.0  \n"
     ]
    }
   ],
   "source": [
    "coffee_dataset['altitude_all_equal'] = (\n",
    "    (coffee_dataset['altitude_low_meters'] == coffee_dataset['altitude_high_meters']) &\n",
    "    (coffee_dataset['altitude_low_meters'] == coffee_dataset['altitude_mean_meters'])\n",
    ")\n",
    "print(implausible_altitudes[['country_of_origin', 'region', 'altitude_mean_meters']])\n"
   ]
  },
  {
   "cell_type": "markdown",
   "id": "3c3b5118-9f8e-45c2-a200-1be89fa4b3bf",
   "metadata": {},
   "source": [
    "### * Problem 11. Clean and explore at will\n",
    "The dataset claimed to be clean, but we were able to discover a lot of things to fix and do better.\n",
    "\n",
    "Play around with the data as much as you wish, and if you find variables to tidy up and clean - by all means, do that!"
   ]
  },
  {
   "cell_type": "code",
   "execution_count": 100,
   "id": "928732cf-7ef4-471a-9818-139dd519eb45",
   "metadata": {},
   "outputs": [
    {
     "name": "stdout",
     "output_type": "stream",
     "text": [
      "Index(['species', 'owner', 'country_of_origin', 'farm_name', 'lot_number',\n",
      "       'mill', 'ico_number', 'company', 'altitude', 'region', 'producer',\n",
      "       'number_of_bags', 'bag_weight', 'in_country_partner', 'harvest_year',\n",
      "       'grading_date', 'variety', 'processing_method', 'aroma', 'flavor',\n",
      "       'aftertaste', 'acidity', 'body', 'balance', 'uniformity', 'clean_cup',\n",
      "       'sweetness', 'cupper_points', 'total_cup_points', 'moisture',\n",
      "       'category_one_defects', 'quakers', 'color', 'category_two_defects',\n",
      "       'expiration', 'certification_body', 'certification_address',\n",
      "       'certification_contact', 'unit_of_measurement', 'altitude_low_meters',\n",
      "       'altitude_high_meters', 'altitude_mean_meters', 'is_missing',\n",
      "       'bag_weight [kg]', 'harvest_year_original', 'harvest_year_en',\n",
      "       'harvest_time_start', 'harvest_time_end', 'harvest_normalized',\n",
      "       'harvest_year_norm', 'harvest_year_clean', 'continent',\n",
      "       'altitude_all_equal'],\n",
      "      dtype='object')\n"
     ]
    }
   ],
   "source": [
    "print(coffee_dataset.columns)"
   ]
  },
  {
   "cell_type": "code",
   "execution_count": null,
   "id": "56ab21d1-0b80-4400-8680-67c52d7a25ab",
   "metadata": {},
   "outputs": [],
   "source": []
  }
 ],
 "metadata": {
  "kernelspec": {
   "display_name": "Python 3 (ipykernel)",
   "language": "python",
   "name": "python3"
  },
  "language_info": {
   "codemirror_mode": {
    "name": "ipython",
    "version": 3
   },
   "file_extension": ".py",
   "mimetype": "text/x-python",
   "name": "python",
   "nbconvert_exporter": "python",
   "pygments_lexer": "ipython3",
   "version": "3.13.5"
  }
 },
 "nbformat": 4,
 "nbformat_minor": 5
}
