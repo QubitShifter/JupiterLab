{
 "cells": [
  {
   "cell_type": "code",
   "execution_count": 1,
   "id": "031227b3-51f8-4011-8a79-aef37fc94623",
   "metadata": {},
   "outputs": [],
   "source": [
    "import os\n",
    "import sys\n",
    "import numpy as np\n",
    "import pandas as pd\n",
    "import seaborn as sns\n",
    "import plotly.express as px\n",
    "import matplotlib.pyplot as plt\n",
    "\n",
    "from sklearn.linear_model import LinearRegression\n",
    "from utils.functions.func_plot_graphs import plot_graphs\n",
    "from utils.functions.func_fix_date_format import fix_dates \n",
    "from utils.functions.func_fix_column_names import snake_case\n",
    "from utils.functions.func_helper_print_colors import color_print\n",
    "from utils.functions.func_helper_query_dataset import query_dataframe\n",
    "from utils.functions.func_helper_duplicate_rows import print_duplicate_rows\n",
    "from utils.functions.func_helper_convert_date_format import convert_date_format"
   ]
  },
  {
   "cell_type": "code",
   "execution_count": 2,
   "id": "f3e42a35-69ff-4c59-85e0-cdac9e1ea3fb",
   "metadata": {},
   "outputs": [],
   "source": [
    "# Loading dataset config CSV\n",
    "base_path = os.getcwd()\n",
    "config_path = os.path.join(base_path, \"utils\", \"configs\", \"datasets_config.csv\")\n",
    "datasets_df = pd.read_csv(config_path)\n",
    "\n",
    "# Convert CSV config into dictionary with full paths\n",
    "dataset_paths = {\n",
    "    row['name']: os.path.normpath(os.path.join(base_path, row['path']))\n",
    "    for _, row in datasets_df.iterrows()\n",
    "}\n",
    "\n",
    "sunSpotsDaily_path = dataset_paths.get('sunSpotsDaily')\n",
    "sunSpotsDaily = pd.read_csv(sunSpotsDaily_path, encoding='ISO-8859-1')"
   ]
  },
  {
   "cell_type": "code",
   "execution_count": 3,
   "id": "ef7103f7-473f-4d37-a490-66007fb9850b",
   "metadata": {},
   "outputs": [
    {
     "name": "stdout",
     "output_type": "stream",
     "text": [
      "       Encoding check:\n",
      "                                                \n",
      "        Filepath: C:\\Users\\georgi.petrov\\DataScience\\00.ExamProject\\data\\EISN_current.csv\n",
      "        Encoding: ISO-8859-1\n",
      "        Total lines in file (including header): 15\n",
      "        Rows loaded in DataFrame: 14\n",
      "                                                \n",
      "                                                \n",
      "\n",
      "   Dataset Summary:\n",
      "   DataFrame dimensions: (14, 9)\n",
      "                                                \n",
      "                                                \n",
      "                                                \n",
      "\n",
      "   Missing values per column:\n",
      "                                                \n",
      "Unnamed: 8    14\n",
      "dtype: int64\n",
      "                                                \n",
      "                                                \n",
      "                                                \n",
      "\n",
      "   Duplicate rows: 0\n",
      "                                                \n",
      "                                                \n",
      "                                                \n",
      "\n",
      "   \n",
      "    Columns and data types:\n",
      "      - 2025: int64\n",
      "      -  08: int64\n",
      "      -  01: int64\n",
      "      -  2025.582: float64\n",
      "      -  140: int64\n",
      "      -   13.9: float64\n",
      "      -   32: int64\n",
      "      -   35: int64\n",
      "      - Unnamed: 8: float64\n",
      "                                                \n",
      "                                                \n",
      "\n",
      "   Column names (grouped) for easy reading:\n",
      "      ['2025', ' 08', ' 01', ' 2025.582', ' 140']\n",
      "      ['  13.9', '  32', '  35', 'Unnamed: 8']\n",
      "                                                \n",
      "                                                \n",
      "\n",
      "   First 5 rows:\n",
      "   2025   08   01   2025.582   140    13.9    32    35  Unnamed: 8\n",
      "0  2025    8    2   2025.585   138    14.7    29    33         NaN\n",
      "1  2025    8    3   2025.588   130    14.0    34    39         NaN\n",
      "2  2025    8    4   2025.590   110    12.2    30    34         NaN\n",
      "3  2025    8    5   2025.593   120    17.5    35    38         NaN\n",
      "4  2025    8    6   2025.596   146    13.8    34    39         NaN\n",
      "                                                \n",
      "\n",
      "   Last 5 rows:\n",
      "    2025   08   01   2025.582   140    13.9    32    35  Unnamed: 8\n",
      "9   2025    8   11   2025.610   180    11.7    36    42         NaN\n",
      "10  2025    8   12   2025.612   171    12.2    33    37         NaN\n",
      "11  2025    8   13   2025.615   184    12.7    31    36         NaN\n",
      "12  2025    8   14   2025.618   170    13.5    24    29         NaN\n",
      "13  2025    8   15   2025.621   176     0.0     1     2         NaN\n"
     ]
    }
   ],
   "source": [
    "query_dataframe(sunSpotsDaily, filepath=sunSpotsDaily_path , encoding='ISO-8859-1')"
   ]
  },
  {
   "cell_type": "code",
   "execution_count": null,
   "id": "c78536c6-9cfe-4ff0-8f89-159a12a30e4b",
   "metadata": {},
   "outputs": [],
   "source": []
  }
 ],
 "metadata": {
  "kernelspec": {
   "display_name": "Python [conda env:base] *",
   "language": "python",
   "name": "conda-base-py"
  },
  "language_info": {
   "codemirror_mode": {
    "name": "ipython",
    "version": 3
   },
   "file_extension": ".py",
   "mimetype": "text/x-python",
   "name": "python",
   "nbconvert_exporter": "python",
   "pygments_lexer": "ipython3",
   "version": "3.13.5"
  }
 },
 "nbformat": 4,
 "nbformat_minor": 5
}
