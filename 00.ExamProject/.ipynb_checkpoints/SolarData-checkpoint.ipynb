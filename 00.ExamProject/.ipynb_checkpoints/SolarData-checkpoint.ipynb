{
 "cells": [
  {
   "cell_type": "code",
   "execution_count": 1,
   "id": "0373a47c-a219-4229-9ce4-893713440a16",
   "metadata": {},
   "outputs": [],
   "source": [
    "import os\n",
    "import sys\n",
    "import pandas as pd\n",
    "\n",
    "from utils.functions.func_fix_date_format import fix_dates \n",
    "\n",
    "from utils.functions.func_fix_column_names import snake_case\n",
    "from utils.functions.func_helper_print_colors import color_print\n",
    "from utils.functions.func_helper_query_dataset import query_dataframe\n",
    "from utils.functions.func_helper_duplicate_rows import print_duplicate_rows\n",
    "from utils.functions.func_helper_convert_date_format import convert_date_format\n",
    "from utils.functions.func_plot_graphs import plot_graphs"
   ]
  },
  {
   "cell_type": "code",
   "execution_count": 2,
   "id": "53d7fc50-1f7b-4177-a78e-f5e7df612104",
   "metadata": {},
   "outputs": [],
   "source": [
    "# Loading dataset config CSV\n",
    "base_path = os.getcwd()\n",
    "config_path = os.path.join(base_path, \"utils\", \"configs\", \"datasets_config.csv\")\n",
    "datasets_df = pd.read_csv(config_path)\n",
    "\n",
    "# Convert CSV config into dictionary with full paths\n",
    "dataset_paths = {\n",
    "    row['name']: os.path.normpath(os.path.join(base_path, row['path']))\n",
    "    for _, row in datasets_df.iterrows()\n",
    "}\n",
    "\n",
    "solarData_path = dataset_paths.get('solarData')\n",
    "solarData = pd.read_csv(solarData_path, encoding='ISO-8859-1')"
   ]
  },
  {
   "cell_type": "code",
   "execution_count": 3,
   "id": "879d0354-e276-4469-83ef-5431d17f11b3",
   "metadata": {},
   "outputs": [
    {
     "name": "stdout",
     "output_type": "stream",
     "text": [
      "       Encoding check:\n",
      "                                                \n",
      "        Filepath: C:\\Users\\georgi.petrov\\DataScience\\00.ExamProject\\data\\Teague_Table.csv\n",
      "        Encoding: ISO-8859-1\n",
      "        Total lines in file (including header): 6902\n",
      "        Rows loaded in DataFrame: 3450\n",
      "        Warning: Some rows may not have been read.\n",
      "                                                \n",
      "                                                \n",
      "\n",
      "   Dataset Summary:\n",
      "   DataFrame dimensions: (3450, 8)\n",
      "                                                \n",
      "                                                \n",
      "                                                \n",
      "\n",
      "   Missing values per column:\n",
      "                                                \n",
      "Date                                                              89\n",
      "No.                                                              473\n",
      "N / S                                                            473\n",
      "C / Rn                                                          2031\n",
      "C / Rs                                                          1816\n",
      "C / R                                                           2211\n",
      "Wolf                                                            2211\n",
      "                                                       Notes    2854\n",
      "dtype: int64\n",
      "                                                \n",
      "                                                \n",
      "                                                \n",
      "\n",
      "   Duplicate rows: 2\n",
      "   Duplicate entries preview:\n",
      "    Date  No. N / S C / Rn C / Rs C / R  Wolf  \\\n",
      "534  NaN  NaN   NaN    NaN    NaN   NaN   NaN   \n",
      "558  NaN  NaN   NaN    NaN    NaN   NaN   NaN   \n",
      "\n",
      "                                                           Notes  \n",
      "534                             Rn = 0, Rs = 0, R = 0.            \n",
      "558                             Rn = 0, Rs = 0, R = 0.            \n",
      "                                                \n",
      "                                                \n",
      "                                                \n",
      "\n",
      "   \n",
      "    Columns and data types:\n",
      "      - Date: object\n",
      "      - No.: object\n",
      "      - N / S: object\n",
      "      - C / Rn: object\n",
      "      - C / Rs: object\n",
      "      - C / R: object\n",
      "      - Wolf: float64\n",
      "      -                                                        Notes: object\n",
      "                                                \n",
      "                                                \n",
      "\n",
      "   Column names (grouped) for easy reading:\n",
      "      ['Date', 'No.', 'N / S', 'C / Rn', 'C / Rs']\n",
      "      ['C / R', 'Wolf', '                                                       Notes']\n",
      "                                                \n",
      "                                                \n",
      "\n",
      "   First 5 rows:\n",
      "          Date No. N / S C / Rn C / Rs C / R  Wolf  \\\n",
      "0   9 Nov 1853   1     N     11    NaN    11  22.0   \n",
      "1  17 Nov 1853   1     N     11    NaN   NaN   NaN   \n",
      "2  17 Nov 1853   2     N     11    NaN    22  28.0   \n",
      "3  21 Nov 1853   2     N     14    NaN    14  20.0   \n",
      "4  23 Nov 1853   3     S    NaN     12    12  38.0   \n",
      "\n",
      "                                                         Notes  \n",
      "0                                                NaN            \n",
      "1                                                NaN            \n",
      "2                                                NaN            \n",
      "3                                                NaN            \n",
      "4                                                NaN            \n",
      "                                                \n",
      "\n",
      "   Last 5 rows:\n",
      "             Date  No. N / S C / Rn C / Rs C / R   Wolf  \\\n",
      "3445  24 Mar 1861  951     N     35    NaN   NaN    NaN   \n",
      "3446  24 Mar 1861  952     S    NaN     11   NaN    NaN   \n",
      "3447  24 Mar 1861  953     N     14    NaN   NaN    NaN   \n",
      "3448  24 Mar 1861  954     N     12    NaN    83  105.0   \n",
      "3449          NaN  NaN   NaN    NaN    NaN   NaN    NaN   \n",
      "\n",
      "                                                            Notes  \n",
      "3445                                 See earlier notes.            \n",
      "3446                                                NaN            \n",
      "3447                                                NaN            \n",
      "3448  No sequence. Close to limb. One measure, but r...            \n",
      "3449                   Rn = 50.4, Rs = 57.9, R = 108.3.            \n"
     ]
    }
   ],
   "source": [
    "query_dataframe(solarData, filepath=solarData_path, encoding='ISO-8859-1')"
   ]
  },
  {
   "cell_type": "code",
   "execution_count": null,
   "id": "e4141323-24a0-49a8-8826-a6ad8976a414",
   "metadata": {},
   "outputs": [],
   "source": []
  },
  {
   "cell_type": "code",
   "execution_count": 4,
   "id": "91aa1378-979f-4b71-b653-0d8837a74573",
   "metadata": {},
   "outputs": [
    {
     "data": {
      "text/plain": [
       "0        9 Nov 1853\n",
       "1       17 Nov 1853\n",
       "2       17 Nov 1853\n",
       "3       21 Nov 1853\n",
       "4       23 Nov 1853\n",
       "           ...     \n",
       "3445    24 Mar 1861\n",
       "3446    24 Mar 1861\n",
       "3447    24 Mar 1861\n",
       "3448    24 Mar 1861\n",
       "3449            NaN\n",
       "Name: Date, Length: 3450, dtype: object"
      ]
     },
     "execution_count": 4,
     "metadata": {},
     "output_type": "execute_result"
    }
   ],
   "source": [
    "solarData['Date']"
   ]
  },
  {
   "cell_type": "markdown",
   "id": "e3f95843-5471-4999-add7-3633a9c335ee",
   "metadata": {},
   "source": [
    "# Датите са във формат който няма да ни е много удобен, най-вероятно\n",
    "# ще използваме къстъм функция 'fix_dates' с която ще ги обърнем в '%Y-%m-%d'\n",
    "# като първо за всеки случай ще си копираме стария формат в нова колона -> за целта 'Date_original'"
   ]
  },
  {
   "cell_type": "code",
   "execution_count": 5,
   "id": "57789983-87ff-4b3b-b707-f42622b54723",
   "metadata": {},
   "outputs": [],
   "source": [
    "solarData['Date_original'] = solarData['Date']"
   ]
  },
  {
   "cell_type": "code",
   "execution_count": 6,
   "id": "c4991a62-262f-4ef7-9b82-deb44f8070a4",
   "metadata": {},
   "outputs": [
    {
     "data": {
      "text/plain": [
       "0        9 Nov 1853\n",
       "1       17 Nov 1853\n",
       "2       17 Nov 1853\n",
       "3       21 Nov 1853\n",
       "4       23 Nov 1853\n",
       "           ...     \n",
       "3445    24 Mar 1861\n",
       "3446    24 Mar 1861\n",
       "3447    24 Mar 1861\n",
       "3448    24 Mar 1861\n",
       "3449            NaN\n",
       "Name: Date_original, Length: 3450, dtype: object"
      ]
     },
     "execution_count": 6,
     "metadata": {},
     "output_type": "execute_result"
    }
   ],
   "source": [
    "solarData['Date_original']"
   ]
  },
  {
   "cell_type": "code",
   "execution_count": 7,
   "id": "ca82a640-f7c7-41b0-b1a2-daba9f7b5fae",
   "metadata": {},
   "outputs": [],
   "source": [
    "solarData = fix_dates(solarData, 'Date')"
   ]
  },
  {
   "cell_type": "code",
   "execution_count": 8,
   "id": "ea14e140-0d9c-4129-8ce3-8945bf96e063",
   "metadata": {},
   "outputs": [
    {
     "data": {
      "text/plain": [
       "0       1853-11-09\n",
       "1       1853-11-17\n",
       "2       1853-11-17\n",
       "3       1853-11-21\n",
       "4       1853-11-23\n",
       "           ...    \n",
       "3445    1861-03-24\n",
       "3446    1861-03-24\n",
       "3447    1861-03-24\n",
       "3448    1861-03-24\n",
       "3449           NaN\n",
       "Name: Date, Length: 3450, dtype: object"
      ]
     },
     "execution_count": 8,
     "metadata": {},
     "output_type": "execute_result"
    }
   ],
   "source": [
    "solarData['Date']"
   ]
  },
  {
   "cell_type": "markdown",
   "id": "d84a3e22-4b72-4859-805e-fe146df8c224",
   "metadata": {},
   "source": [
    "# Другото нещо което избожда очи са имената на колоните."
   ]
  },
  {
   "cell_type": "code",
   "execution_count": 9,
   "id": "a9460937-8019-4d7f-8c7a-16f7ff14923e",
   "metadata": {},
   "outputs": [
    {
     "data": {
      "text/plain": [
       "Index(['Date', 'No.', 'N / S', 'C / Rn', 'C / Rs', 'C / R', 'Wolf',\n",
       "       '                                                       Notes',\n",
       "       'Date_original', 'invalid_date'],\n",
       "      dtype='object')"
      ]
     },
     "execution_count": 9,
     "metadata": {},
     "output_type": "execute_result"
    }
   ],
   "source": [
    "solarData.columns"
   ]
  },
  {
   "cell_type": "markdown",
   "id": "de555041-b3c8-466c-8054-4d7423be4fde",
   "metadata": {},
   "source": [
    "# ще ги направим питонически -> snake_case\n",
    "# викаме 'snake_case'\n",
    "# отново за всеки случай първо ще копираме старите им имена, не, че нямаме дейтасета на няколко места по диска :)\n",
    "# но да бъдем последователни и систематични"
   ]
  },
  {
   "cell_type": "code",
   "execution_count": 10,
   "id": "5be58996-11e6-478d-8bc0-5457ee18c1b3",
   "metadata": {},
   "outputs": [],
   "source": [
    "solarData_original_column_names = solarData.columns.copy()"
   ]
  },
  {
   "cell_type": "code",
   "execution_count": 11,
   "id": "379c3ecc-5d5a-47e7-abf2-70f0ccd3c193",
   "metadata": {},
   "outputs": [
    {
     "data": {
      "text/plain": [
       "Index(['Date', 'No.', 'N / S', 'C / Rn', 'C / Rs', 'C / R', 'Wolf',\n",
       "       '                                                       Notes',\n",
       "       'Date_original', 'invalid_date'],\n",
       "      dtype='object')"
      ]
     },
     "execution_count": 11,
     "metadata": {},
     "output_type": "execute_result"
    }
   ],
   "source": [
    "solarData_original_column_names"
   ]
  },
  {
   "cell_type": "code",
   "execution_count": 12,
   "id": "358884ab-9d4d-43aa-942c-a2961cdb509d",
   "metadata": {},
   "outputs": [],
   "source": [
    "solarData.columns = solarData.columns.map(snake_case)"
   ]
  },
  {
   "cell_type": "code",
   "execution_count": 13,
   "id": "8521a5da-7ef6-4c99-a215-fe8355bbf9ad",
   "metadata": {},
   "outputs": [
    {
     "data": {
      "text/plain": [
       "Index(['date', 'no', 'n_s', 'c_rn', 'c_rs', 'c_r', 'wolf', 'notes',\n",
       "       'date_original', 'invalid_date'],\n",
       "      dtype='object')"
      ]
     },
     "execution_count": 13,
     "metadata": {},
     "output_type": "execute_result"
    }
   ],
   "source": [
    "solarData.columns"
   ]
  },
  {
   "cell_type": "markdown",
   "id": "1771f4d0-b719-439a-848a-32e9fef69b3d",
   "metadata": {},
   "source": [
    "# whaat? this is very snakie :)"
   ]
  },
  {
   "cell_type": "markdown",
   "id": "6e6cb587-6e4b-48ae-845c-d2bc099718cc",
   "metadata": {},
   "source": [
    "# втори опит на същата сисочина\n",
    "# ще си върнем старите имена и ще пробваме пак."
   ]
  },
  {
   "cell_type": "code",
   "execution_count": 14,
   "id": "c9a017cc-ef91-47f2-b0cf-dd01250bcc65",
   "metadata": {},
   "outputs": [],
   "source": [
    "solarData.columns = solarData_original_column_names.copy()"
   ]
  },
  {
   "cell_type": "code",
   "execution_count": 15,
   "id": "e1df144a-7908-4d4c-997f-ae5ec988a193",
   "metadata": {},
   "outputs": [
    {
     "data": {
      "text/plain": [
       "Index(['Date', 'No.', 'N / S', 'C / Rn', 'C / Rs', 'C / R', 'Wolf',\n",
       "       '                                                       Notes',\n",
       "       'Date_original', 'invalid_date'],\n",
       "      dtype='object')"
      ]
     },
     "execution_count": 15,
     "metadata": {},
     "output_type": "execute_result"
    }
   ],
   "source": [
    "solarData.columns"
   ]
  },
  {
   "cell_type": "code",
   "execution_count": 16,
   "id": "2a88d7c3-cdb2-486e-b104-62a7508ae936",
   "metadata": {},
   "outputs": [],
   "source": [
    "solarData.columns = solarData.columns.map(snake_case)"
   ]
  },
  {
   "cell_type": "code",
   "execution_count": 17,
   "id": "4c7642c5-12a7-4e49-a683-efdf1c470857",
   "metadata": {},
   "outputs": [],
   "source": [
    "solarData.columns = solarData_original_column_names.copy()"
   ]
  },
  {
   "cell_type": "code",
   "execution_count": 18,
   "id": "a8ada6a1-82b4-4752-947f-24b77dc68eca",
   "metadata": {},
   "outputs": [],
   "source": [
    "solarData.columns = solarData.columns.map(snake_case)"
   ]
  },
  {
   "cell_type": "code",
   "execution_count": 19,
   "id": "b8a0ab8d-76ad-4134-8f00-26521703d611",
   "metadata": {},
   "outputs": [
    {
     "data": {
      "text/plain": [
       "Index(['date', 'no', 'n_s', 'c_rn', 'c_rs', 'c_r', 'wolf', 'notes',\n",
       "       'date_original', 'invalid_date'],\n",
       "      dtype='object')"
      ]
     },
     "execution_count": 19,
     "metadata": {},
     "output_type": "execute_result"
    }
   ],
   "source": [
    "solarData.columns"
   ]
  },
  {
   "cell_type": "code",
   "execution_count": 20,
   "id": "d73a1b09-e5d8-4d32-85cd-75f7f517f221",
   "metadata": {},
   "outputs": [
    {
     "name": "stdout",
     "output_type": "stream",
     "text": [
      "['notes', 'no', 'n_s', 'c_rn']\n"
     ]
    }
   ],
   "source": [
    "cols = [\n",
    "    '                                                       Notes',\n",
    "    'No.',\n",
    "    'N / S',\n",
    "    'C / Rn'\n",
    "]\n",
    "print([snake_case(c) for c in cols])"
   ]
  },
  {
   "cell_type": "code",
   "execution_count": 21,
   "id": "86f85ec9-1dca-4b8d-8f6c-2106536e6db4",
   "metadata": {},
   "outputs": [],
   "source": [
    "solarData.columns = solarData.columns.map(snake_case)"
   ]
  },
  {
   "cell_type": "code",
   "execution_count": 22,
   "id": "dd874c55-797a-4d00-946e-5647fe6986c3",
   "metadata": {},
   "outputs": [
    {
     "data": {
      "text/plain": [
       "Index(['date', 'no', 'n_s', 'c_rn', 'c_rs', 'c_r', 'wolf', 'notes',\n",
       "       'date_original', 'invalid_date'],\n",
       "      dtype='object')"
      ]
     },
     "execution_count": 22,
     "metadata": {},
     "output_type": "execute_result"
    }
   ],
   "source": [
    "solarData.columns"
   ]
  },
  {
   "cell_type": "code",
   "execution_count": 23,
   "id": "c0297131-5562-467d-9be5-b7c1cccdf323",
   "metadata": {},
   "outputs": [
    {
     "data": {
      "text/plain": [
       "date              object\n",
       "no                object\n",
       "n_s               object\n",
       "c_rn              object\n",
       "c_rs              object\n",
       "c_r               object\n",
       "wolf             float64\n",
       "notes             object\n",
       "date_original     object\n",
       "invalid_date        bool\n",
       "dtype: object"
      ]
     },
     "execution_count": 23,
     "metadata": {},
     "output_type": "execute_result"
    }
   ],
   "source": [
    "solarData.dtypes"
   ]
  },
  {
   "cell_type": "code",
   "execution_count": 24,
   "id": "454079fb-67b2-4c01-91d0-d5be4b6ece38",
   "metadata": {},
   "outputs": [
    {
     "name": "stdout",
     "output_type": "stream",
     "text": [
      "['date', 'no', 'n_s', 'c_rn', 'c_rs']\n",
      "['c_r', 'wolf', 'notes', 'date_original', 'invalid_date']\n"
     ]
    }
   ],
   "source": [
    "cols = list(solarData.columns)\n",
    "for i in range(0, len(cols), 5):\n",
    "    print(cols[i:i+5])"
   ]
  },
  {
   "cell_type": "code",
   "execution_count": 25,
   "id": "958602e0-ebb8-4f4f-bd20-6dbb73d955c1",
   "metadata": {},
   "outputs": [
    {
     "data": {
      "text/html": [
       "<div>\n",
       "<style scoped>\n",
       "    .dataframe tbody tr th:only-of-type {\n",
       "        vertical-align: middle;\n",
       "    }\n",
       "\n",
       "    .dataframe tbody tr th {\n",
       "        vertical-align: top;\n",
       "    }\n",
       "\n",
       "    .dataframe thead th {\n",
       "        text-align: right;\n",
       "    }\n",
       "</style>\n",
       "<table border=\"1\" class=\"dataframe\">\n",
       "  <thead>\n",
       "    <tr style=\"text-align: right;\">\n",
       "      <th></th>\n",
       "      <th>date</th>\n",
       "      <th>no</th>\n",
       "      <th>n_s</th>\n",
       "      <th>c_rn</th>\n",
       "      <th>c_rs</th>\n",
       "      <th>c_r</th>\n",
       "      <th>wolf</th>\n",
       "      <th>notes</th>\n",
       "      <th>date_original</th>\n",
       "      <th>invalid_date</th>\n",
       "    </tr>\n",
       "  </thead>\n",
       "  <tbody>\n",
       "    <tr>\n",
       "      <th>0</th>\n",
       "      <td>1853-11-09</td>\n",
       "      <td>1</td>\n",
       "      <td>N</td>\n",
       "      <td>11</td>\n",
       "      <td>NaN</td>\n",
       "      <td>11</td>\n",
       "      <td>22.0</td>\n",
       "      <td>NaN</td>\n",
       "      <td>9 Nov 1853</td>\n",
       "      <td>False</td>\n",
       "    </tr>\n",
       "    <tr>\n",
       "      <th>1</th>\n",
       "      <td>1853-11-17</td>\n",
       "      <td>1</td>\n",
       "      <td>N</td>\n",
       "      <td>11</td>\n",
       "      <td>NaN</td>\n",
       "      <td>NaN</td>\n",
       "      <td>NaN</td>\n",
       "      <td>NaN</td>\n",
       "      <td>17 Nov 1853</td>\n",
       "      <td>False</td>\n",
       "    </tr>\n",
       "    <tr>\n",
       "      <th>2</th>\n",
       "      <td>1853-11-17</td>\n",
       "      <td>2</td>\n",
       "      <td>N</td>\n",
       "      <td>11</td>\n",
       "      <td>NaN</td>\n",
       "      <td>22</td>\n",
       "      <td>28.0</td>\n",
       "      <td>NaN</td>\n",
       "      <td>17 Nov 1853</td>\n",
       "      <td>False</td>\n",
       "    </tr>\n",
       "    <tr>\n",
       "      <th>3</th>\n",
       "      <td>1853-11-21</td>\n",
       "      <td>2</td>\n",
       "      <td>N</td>\n",
       "      <td>14</td>\n",
       "      <td>NaN</td>\n",
       "      <td>14</td>\n",
       "      <td>20.0</td>\n",
       "      <td>NaN</td>\n",
       "      <td>21 Nov 1853</td>\n",
       "      <td>False</td>\n",
       "    </tr>\n",
       "    <tr>\n",
       "      <th>4</th>\n",
       "      <td>1853-11-23</td>\n",
       "      <td>3</td>\n",
       "      <td>S</td>\n",
       "      <td>NaN</td>\n",
       "      <td>12</td>\n",
       "      <td>12</td>\n",
       "      <td>38.0</td>\n",
       "      <td>NaN</td>\n",
       "      <td>23 Nov 1853</td>\n",
       "      <td>False</td>\n",
       "    </tr>\n",
       "  </tbody>\n",
       "</table>\n",
       "</div>"
      ],
      "text/plain": [
       "         date no n_s c_rn c_rs  c_r  wolf notes date_original  invalid_date\n",
       "0  1853-11-09  1   N   11  NaN   11  22.0   NaN    9 Nov 1853         False\n",
       "1  1853-11-17  1   N   11  NaN  NaN   NaN   NaN   17 Nov 1853         False\n",
       "2  1853-11-17  2   N   11  NaN   22  28.0   NaN   17 Nov 1853         False\n",
       "3  1853-11-21  2   N   14  NaN   14  20.0   NaN   21 Nov 1853         False\n",
       "4  1853-11-23  3   S  NaN   12   12  38.0   NaN   23 Nov 1853         False"
      ]
     },
     "execution_count": 25,
     "metadata": {},
     "output_type": "execute_result"
    }
   ],
   "source": [
    "solarData.head()"
   ]
  },
  {
   "cell_type": "markdown",
   "id": "97fdb21a-16d1-451f-a7f1-94e0087753b6",
   "metadata": {},
   "source": [
    "# колоната 'n_s' изглежда да показва за кое полукълбо са данните северно или южно\n",
    "# за момента е оbject, можем да я направим категорийна"
   ]
  },
  {
   "cell_type": "code",
   "execution_count": 26,
   "id": "edfa81ba-aec6-496b-86b2-fe3cf119e76f",
   "metadata": {},
   "outputs": [],
   "source": [
    "solarData['n_s'] = solarData['n_s'].astype('category')"
   ]
  },
  {
   "cell_type": "code",
   "execution_count": 27,
   "id": "d74076c6-799e-4d81-9c6a-12f7d68b350f",
   "metadata": {},
   "outputs": [
    {
     "data": {
      "text/plain": [
       "date               object\n",
       "no                 object\n",
       "n_s              category\n",
       "c_rn               object\n",
       "c_rs               object\n",
       "c_r                object\n",
       "wolf              float64\n",
       "notes              object\n",
       "date_original      object\n",
       "invalid_date         bool\n",
       "dtype: object"
      ]
     },
     "execution_count": 27,
     "metadata": {},
     "output_type": "execute_result"
    }
   ],
   "source": [
    "solarData.dtypes"
   ]
  },
  {
   "cell_type": "code",
   "execution_count": 28,
   "id": "1890c792-b4a6-41b8-868b-40cca1fd5139",
   "metadata": {},
   "outputs": [
    {
     "data": {
      "text/html": [
       "<div>\n",
       "<style scoped>\n",
       "    .dataframe tbody tr th:only-of-type {\n",
       "        vertical-align: middle;\n",
       "    }\n",
       "\n",
       "    .dataframe tbody tr th {\n",
       "        vertical-align: top;\n",
       "    }\n",
       "\n",
       "    .dataframe thead th {\n",
       "        text-align: right;\n",
       "    }\n",
       "</style>\n",
       "<table border=\"1\" class=\"dataframe\">\n",
       "  <thead>\n",
       "    <tr style=\"text-align: right;\">\n",
       "      <th></th>\n",
       "      <th>date</th>\n",
       "      <th>no</th>\n",
       "      <th>n_s</th>\n",
       "      <th>c_rn</th>\n",
       "      <th>c_rs</th>\n",
       "      <th>c_r</th>\n",
       "      <th>wolf</th>\n",
       "      <th>notes</th>\n",
       "      <th>date_original</th>\n",
       "      <th>invalid_date</th>\n",
       "    </tr>\n",
       "  </thead>\n",
       "  <tbody>\n",
       "    <tr>\n",
       "      <th>0</th>\n",
       "      <td>1853-11-09</td>\n",
       "      <td>1</td>\n",
       "      <td>N</td>\n",
       "      <td>11</td>\n",
       "      <td>NaN</td>\n",
       "      <td>11</td>\n",
       "      <td>22.0</td>\n",
       "      <td>NaN</td>\n",
       "      <td>9 Nov 1853</td>\n",
       "      <td>False</td>\n",
       "    </tr>\n",
       "    <tr>\n",
       "      <th>1</th>\n",
       "      <td>1853-11-17</td>\n",
       "      <td>1</td>\n",
       "      <td>N</td>\n",
       "      <td>11</td>\n",
       "      <td>NaN</td>\n",
       "      <td>NaN</td>\n",
       "      <td>NaN</td>\n",
       "      <td>NaN</td>\n",
       "      <td>17 Nov 1853</td>\n",
       "      <td>False</td>\n",
       "    </tr>\n",
       "    <tr>\n",
       "      <th>2</th>\n",
       "      <td>1853-11-17</td>\n",
       "      <td>2</td>\n",
       "      <td>N</td>\n",
       "      <td>11</td>\n",
       "      <td>NaN</td>\n",
       "      <td>22</td>\n",
       "      <td>28.0</td>\n",
       "      <td>NaN</td>\n",
       "      <td>17 Nov 1853</td>\n",
       "      <td>False</td>\n",
       "    </tr>\n",
       "    <tr>\n",
       "      <th>3</th>\n",
       "      <td>1853-11-21</td>\n",
       "      <td>2</td>\n",
       "      <td>N</td>\n",
       "      <td>14</td>\n",
       "      <td>NaN</td>\n",
       "      <td>14</td>\n",
       "      <td>20.0</td>\n",
       "      <td>NaN</td>\n",
       "      <td>21 Nov 1853</td>\n",
       "      <td>False</td>\n",
       "    </tr>\n",
       "    <tr>\n",
       "      <th>4</th>\n",
       "      <td>1853-11-23</td>\n",
       "      <td>3</td>\n",
       "      <td>S</td>\n",
       "      <td>NaN</td>\n",
       "      <td>12</td>\n",
       "      <td>12</td>\n",
       "      <td>38.0</td>\n",
       "      <td>NaN</td>\n",
       "      <td>23 Nov 1853</td>\n",
       "      <td>False</td>\n",
       "    </tr>\n",
       "  </tbody>\n",
       "</table>\n",
       "</div>"
      ],
      "text/plain": [
       "         date no n_s c_rn c_rs  c_r  wolf notes date_original  invalid_date\n",
       "0  1853-11-09  1   N   11  NaN   11  22.0   NaN    9 Nov 1853         False\n",
       "1  1853-11-17  1   N   11  NaN  NaN   NaN   NaN   17 Nov 1853         False\n",
       "2  1853-11-17  2   N   11  NaN   22  28.0   NaN   17 Nov 1853         False\n",
       "3  1853-11-21  2   N   14  NaN   14  20.0   NaN   21 Nov 1853         False\n",
       "4  1853-11-23  3   S  NaN   12   12  38.0   NaN   23 Nov 1853         False"
      ]
     },
     "execution_count": 28,
     "metadata": {},
     "output_type": "execute_result"
    }
   ],
   "source": [
    "solarData.head()"
   ]
  },
  {
   "cell_type": "markdown",
   "id": "693d7e62-b8db-4453-b2d0-559743099e71",
   "metadata": {},
   "source": [
    "# ще трябва да се справим с всички NaN's които имаме \n",
    "# ако дропнем редовете с NaN's това значи, че ще изтрием и други стойности.\n",
    "# за този вид данни (слънчева активност) може би NaN значи, че просто няма записана стойност\n",
    "# в този случай може ни заместванет на NaN с 0 е добър избор, по този начин ще запазим 'notes' и други описателни колони и данни"
   ]
  },
  {
   "cell_type": "markdown",
   "id": "3dec14dd-acc1-4d40-9d97-1fe763e7dc92",
   "metadata": {},
   "source": [
    "# тук ще направи провверка преди замяната на NaN's след като сме ги заменили.. mind bending time circle ...."
   ]
  },
  {
   "cell_type": "code",
   "execution_count": 29,
   "id": "77622399-fb00-4aa2-bc86-1d1319ba0cf0",
   "metadata": {},
   "outputs": [],
   "source": [
    "numeric_columns = [\n",
    "    'no',\n",
    "    'c_rn',\n",
    "    'c_rs',\n",
    "    'c_r',\n",
    "    'wolf'\n",
    "]\n",
    "\n",
    "solarData[numeric_columns] = solarData[numeric_columns].fillna(0)\n",
    "    "
   ]
  },
  {
   "cell_type": "code",
   "execution_count": 30,
   "id": "f5241435-477d-4230-b653-70cb114d43ee",
   "metadata": {},
   "outputs": [
    {
     "name": "stdout",
     "output_type": "stream",
     "text": [
      "NaNs before replacement:\n",
      " no      0\n",
      "c_rn    0\n",
      "c_rs    0\n",
      "c_r     0\n",
      "wolf    0\n",
      "dtype: int64\n",
      "Zeros before replacement:\n",
      " no       473\n",
      "c_rn    2031\n",
      "c_rs    1816\n",
      "c_r     2211\n",
      "wolf    2590\n",
      "dtype: int64\n"
     ]
    }
   ],
   "source": [
    "\n",
    "nan_counts_before = solarData[numeric_columns].isna().sum()\n",
    "zero_counts_before = (solarData[numeric_columns] == 0).sum()\n",
    "\n",
    "print(\"NaNs before replacement:\\n\", nan_counts_before)\n",
    "print(\"Zeros before replacement:\\n\", zero_counts_before)"
   ]
  },
  {
   "cell_type": "code",
   "execution_count": 31,
   "id": "c4313852-da78-41e0-90db-56c87984e5ae",
   "metadata": {},
   "outputs": [],
   "source": [
    "numeric_columns = [\n",
    "    'no',\n",
    "    'c_rn',\n",
    "    'c_rs',\n",
    "    'c_r',\n",
    "    'wolf'\n",
    "]\n",
    "\n",
    "solarData[numeric_columns] = solarData[numeric_columns].fillna(0)"
   ]
  },
  {
   "cell_type": "markdown",
   "id": "89e15882-955c-4142-9790-11b638360451",
   "metadata": {},
   "source": [
    "# проверяваме дали има някакви NaN  останали в колоните от листа 'numeric_columns' "
   ]
  },
  {
   "cell_type": "code",
   "execution_count": 32,
   "id": "c7b4c72a-783a-4fcf-ae11-8984abca7976",
   "metadata": {},
   "outputs": [
    {
     "name": "stdout",
     "output_type": "stream",
     "text": [
      "no      0\n",
      "c_rn    0\n",
      "c_rs    0\n",
      "c_r     0\n",
      "wolf    0\n",
      "dtype: int64\n"
     ]
    }
   ],
   "source": [
    "check_NaNs = solarData[numeric_columns].isna().sum()\n",
    "print(check_NaNs)"
   ]
  },
  {
   "cell_type": "markdown",
   "id": "7aa1d601-c9fa-42e5-9c39-993aeece505b",
   "metadata": {},
   "source": [
    "# можем да проверим дали взичките замествания са ссега нули"
   ]
  },
  {
   "cell_type": "code",
   "execution_count": 33,
   "id": "1febf4d2-8f51-48b6-9856-e1cb64c8849f",
   "metadata": {},
   "outputs": [
    {
     "name": "stdout",
     "output_type": "stream",
     "text": [
      "no       473\n",
      "c_rn    2031\n",
      "c_rs    1816\n",
      "c_r     2211\n",
      "wolf    2590\n",
      "dtype: int64\n"
     ]
    }
   ],
   "source": [
    "zero_check = (solarData[numeric_columns] == 0).sum()\n",
    "print(zero_check)"
   ]
  },
  {
   "cell_type": "markdown",
   "id": "bc8d35aa-f9c0-458c-b640-2c8daedf3648",
   "metadata": {},
   "source": [
    "# имаме предварителна проверка за липсващи стойности, викайни  функцията 'query_dataframe(solarData, filepath=solarData_path, encoding='ISO-8859-1')'\n",
    "# където имаме резултат \n",
    "Missing values per column:\n",
    "                                                \n",
    "Date               89\n",
    "No.                473\n",
    "N / S              473\n",
    "C / Rn             2031\n",
    "C / Rs             1816\n",
    "C / R              2211\n",
    "Wolf               2211\n",
    "Notes              2854\n",
    "\n",
    "\n",
    "# виждаме, че повечето ни стойности (от заместените) съвпадат с изкючение на 'wolf' която след заместването има малко повече 0,\n",
    "# това може да означава, че преди това също е имало 0 като стойности.\n",
    "# можем да проверим като се върнем преди да заместим NaN's с 0 и да направим няколко проверки"
   ]
  },
  {
   "cell_type": "markdown",
   "id": "38cdd379-50a5-4bf2-a6a9-12d99323071e",
   "metadata": {},
   "source": [
    "# от клетка 58 виждаме, че преди да заменим NaN's с 0 в колоната 'wolf' е имало \n",
    "'wolf    379'\n",
    "# толкова 0 освевн NaN's.. 2211+379 = 2590\n",
    "# значи сметката ни излиза и цифрите които получаваме след като заместихме NaN's с 0 са верни"
   ]
  },
  {
   "cell_type": "code",
   "execution_count": 34,
   "id": "1bac8656-f61e-47d9-bcee-bdb3635a6abc",
   "metadata": {},
   "outputs": [
    {
     "name": "stdout",
     "output_type": "stream",
     "text": [
      "date               object\n",
      "no                 object\n",
      "n_s              category\n",
      "c_rn               object\n",
      "c_rs               object\n",
      "c_r                object\n",
      "wolf              float64\n",
      "notes              object\n",
      "date_original      object\n",
      "invalid_date         bool\n",
      "dtype: object\n"
     ]
    }
   ],
   "source": [
    "print(solarData.dtypes)"
   ]
  },
  {
   "cell_type": "code",
   "execution_count": 35,
   "id": "19d3ac57-e74c-48d2-a1c7-8acb4983bc0a",
   "metadata": {},
   "outputs": [
    {
     "name": "stdout",
     "output_type": "stream",
     "text": [
      "date               99\n",
      "no                  0\n",
      "n_s               473\n",
      "c_rn                0\n",
      "c_rs                0\n",
      "c_r                 0\n",
      "wolf                0\n",
      "notes            2854\n",
      "date_original      89\n",
      "invalid_date        0\n",
      "dtype: int64\n"
     ]
    }
   ],
   "source": [
    "print(solarData.isnull().sum())"
   ]
  },
  {
   "cell_type": "code",
   "execution_count": 36,
   "id": "07fbd841-0c73-4db4-8981-c92b0d16b6f4",
   "metadata": {},
   "outputs": [
    {
     "name": "stdout",
     "output_type": "stream",
     "text": [
      "              date      no   n_s    c_rn    c_rs     c_r         wolf  \\\n",
      "count         3351  3450.0  2977  3450.0  3450.0  3450.0  3450.000000   \n",
      "unique        1236   948.0     2    41.0    51.0   152.0          NaN   \n",
      "top     1860-07-22     0.0     S     0.0     0.0     0.0          NaN   \n",
      "freq            12   473.0  1596  2031.0  1816.0  2211.0          NaN   \n",
      "mean           NaN     NaN   NaN     NaN     NaN     NaN    12.472464   \n",
      "std            NaN     NaN   NaN     NaN     NaN     NaN    28.547559   \n",
      "min            NaN     NaN   NaN     NaN     NaN     NaN     0.000000   \n",
      "25%            NaN     NaN   NaN     NaN     NaN     NaN     0.000000   \n",
      "50%            NaN     NaN   NaN     NaN     NaN     NaN     0.000000   \n",
      "75%            NaN     NaN   NaN     NaN     NaN     NaN     0.000000   \n",
      "max            NaN     NaN   NaN     NaN     NaN     NaN   184.000000   \n",
      "\n",
      "                    notes date_original invalid_date  \n",
      "count                 596          3361         3450  \n",
      "unique                455          1239            2  \n",
      "top     Two groups today.    2 Dec 1860        False  \n",
      "freq                   15            12         3351  \n",
      "mean                  NaN           NaN          NaN  \n",
      "std                   NaN           NaN          NaN  \n",
      "min                   NaN           NaN          NaN  \n",
      "25%                   NaN           NaN          NaN  \n",
      "50%                   NaN           NaN          NaN  \n",
      "75%                   NaN           NaN          NaN  \n",
      "max                   NaN           NaN          NaN  \n"
     ]
    }
   ],
   "source": [
    "print(solarData.describe(include='all'))"
   ]
  },
  {
   "cell_type": "code",
   "execution_count": 37,
   "id": "40707ee8-2008-4cec-875a-5142c858cfde",
   "metadata": {},
   "outputs": [
    {
     "data": {
      "text/html": [
       "<div>\n",
       "<style scoped>\n",
       "    .dataframe tbody tr th:only-of-type {\n",
       "        vertical-align: middle;\n",
       "    }\n",
       "\n",
       "    .dataframe tbody tr th {\n",
       "        vertical-align: top;\n",
       "    }\n",
       "\n",
       "    .dataframe thead th {\n",
       "        text-align: right;\n",
       "    }\n",
       "</style>\n",
       "<table border=\"1\" class=\"dataframe\">\n",
       "  <thead>\n",
       "    <tr style=\"text-align: right;\">\n",
       "      <th></th>\n",
       "      <th>date</th>\n",
       "      <th>no</th>\n",
       "      <th>n_s</th>\n",
       "      <th>c_rn</th>\n",
       "      <th>c_rs</th>\n",
       "      <th>c_r</th>\n",
       "      <th>wolf</th>\n",
       "      <th>notes</th>\n",
       "      <th>date_original</th>\n",
       "      <th>invalid_date</th>\n",
       "    </tr>\n",
       "  </thead>\n",
       "  <tbody>\n",
       "    <tr>\n",
       "      <th>0</th>\n",
       "      <td>1853-11-09</td>\n",
       "      <td>1</td>\n",
       "      <td>N</td>\n",
       "      <td>11</td>\n",
       "      <td>0</td>\n",
       "      <td>11</td>\n",
       "      <td>22.0</td>\n",
       "      <td>NaN</td>\n",
       "      <td>9 Nov 1853</td>\n",
       "      <td>False</td>\n",
       "    </tr>\n",
       "    <tr>\n",
       "      <th>1</th>\n",
       "      <td>1853-11-17</td>\n",
       "      <td>1</td>\n",
       "      <td>N</td>\n",
       "      <td>11</td>\n",
       "      <td>0</td>\n",
       "      <td>0</td>\n",
       "      <td>0.0</td>\n",
       "      <td>NaN</td>\n",
       "      <td>17 Nov 1853</td>\n",
       "      <td>False</td>\n",
       "    </tr>\n",
       "    <tr>\n",
       "      <th>2</th>\n",
       "      <td>1853-11-17</td>\n",
       "      <td>2</td>\n",
       "      <td>N</td>\n",
       "      <td>11</td>\n",
       "      <td>0</td>\n",
       "      <td>22</td>\n",
       "      <td>28.0</td>\n",
       "      <td>NaN</td>\n",
       "      <td>17 Nov 1853</td>\n",
       "      <td>False</td>\n",
       "    </tr>\n",
       "    <tr>\n",
       "      <th>3</th>\n",
       "      <td>1853-11-21</td>\n",
       "      <td>2</td>\n",
       "      <td>N</td>\n",
       "      <td>14</td>\n",
       "      <td>0</td>\n",
       "      <td>14</td>\n",
       "      <td>20.0</td>\n",
       "      <td>NaN</td>\n",
       "      <td>21 Nov 1853</td>\n",
       "      <td>False</td>\n",
       "    </tr>\n",
       "    <tr>\n",
       "      <th>4</th>\n",
       "      <td>1853-11-23</td>\n",
       "      <td>3</td>\n",
       "      <td>S</td>\n",
       "      <td>0</td>\n",
       "      <td>12</td>\n",
       "      <td>12</td>\n",
       "      <td>38.0</td>\n",
       "      <td>NaN</td>\n",
       "      <td>23 Nov 1853</td>\n",
       "      <td>False</td>\n",
       "    </tr>\n",
       "  </tbody>\n",
       "</table>\n",
       "</div>"
      ],
      "text/plain": [
       "         date no n_s c_rn c_rs c_r  wolf notes date_original  invalid_date\n",
       "0  1853-11-09  1   N   11    0  11  22.0   NaN    9 Nov 1853         False\n",
       "1  1853-11-17  1   N   11    0   0   0.0   NaN   17 Nov 1853         False\n",
       "2  1853-11-17  2   N   11    0  22  28.0   NaN   17 Nov 1853         False\n",
       "3  1853-11-21  2   N   14    0  14  20.0   NaN   21 Nov 1853         False\n",
       "4  1853-11-23  3   S    0   12  12  38.0   NaN   23 Nov 1853         False"
      ]
     },
     "execution_count": 37,
     "metadata": {},
     "output_type": "execute_result"
    }
   ],
   "source": [
    "solarData.head()"
   ]
  },
  {
   "cell_type": "code",
   "execution_count": 38,
   "id": "a454dfca-0e9b-4f51-9a75-564d54cb53df",
   "metadata": {},
   "outputs": [
    {
     "name": "stdout",
     "output_type": "stream",
     "text": [
      "date               object\n",
      "no                 object\n",
      "n_s              category\n",
      "c_rn               object\n",
      "c_rs               object\n",
      "c_r                object\n",
      "wolf              float64\n",
      "notes              object\n",
      "date_original      object\n",
      "invalid_date         bool\n",
      "dtype: object\n"
     ]
    }
   ],
   "source": [
    "print(solarData.dtypes)"
   ]
  },
  {
   "cell_type": "markdown",
   "id": "a17733f2-b1e4-4fa0-97ce-b0bcc1a22b2b",
   "metadata": {},
   "source": [
    "# вижда се, че имаме колони съдържащи числа, но са от тип 'object', което си пролича и при '.describe()'\n",
    "# която не преизчисли някои от редовете правилно защото колоните са от тип 'object'\n",
    "# дори и да имаме 0 в колона, ако тя е тип 'object', .decribe() я третира като категорийна и показва NaN"
   ]
  },
  {
   "cell_type": "markdown",
   "id": "6742382e-0730-44b7-a407-9a2561f9d584",
   "metadata": {},
   "source": [
    "# ще сменим типа на тези колони на нумерик"
   ]
  },
  {
   "cell_type": "code",
   "execution_count": 39,
   "id": "ee504469-d73c-4009-baf5-a48bb33d2cf7",
   "metadata": {},
   "outputs": [],
   "source": [
    "numeric_int_cols = ['no', 'c_rn', 'c_rs', 'c_r']\n",
    "for col in numeric_int_cols:\n",
    "    solarData[col] = pd.to_numeric(solarData[col], errors='coerce').astype('Int64')"
   ]
  },
  {
   "cell_type": "code",
   "execution_count": 40,
   "id": "f1db59a9-d3ad-4ee9-b0e1-3ff217e46201",
   "metadata": {},
   "outputs": [
    {
     "name": "stdout",
     "output_type": "stream",
     "text": [
      "date               object\n",
      "no                  Int64\n",
      "n_s              category\n",
      "c_rn                Int64\n",
      "c_rs                Int64\n",
      "c_r                 Int64\n",
      "wolf              float64\n",
      "notes              object\n",
      "date_original      object\n",
      "invalid_date         bool\n",
      "dtype: object\n"
     ]
    }
   ],
   "source": [
    "print(solarData.dtypes)"
   ]
  },
  {
   "cell_type": "markdown",
   "id": "f2f64245-42d9-4d67-aaaa-36f8196d77e8",
   "metadata": {},
   "source": [
    "# сега вече поне привидно колоните изглеждат добре и са готови за някакви агрегации"
   ]
  },
  {
   "cell_type": "markdown",
   "id": "d419ca2c-2a9b-4381-a557-f065c544ecb7",
   "metadata": {},
   "source": [
    "# и сега ако пробваме пак .describeO, на теория би трябввало тези колони да са преизчислени коректно"
   ]
  },
  {
   "cell_type": "code",
   "execution_count": 41,
   "id": "86e038d4-3879-47a2-846a-b9a6c761f184",
   "metadata": {},
   "outputs": [
    {
     "name": "stdout",
     "output_type": "stream",
     "text": [
      "              date          no   n_s      c_rn      c_rs        c_r  \\\n",
      "count         3351      3393.0  2977    3441.0    3447.0     3449.0   \n",
      "unique        1236        <NA>     2      <NA>      <NA>       <NA>   \n",
      "top     1860-07-22        <NA>     S      <NA>      <NA>       <NA>   \n",
      "freq            12        <NA>  1596      <NA>      <NA>       <NA>   \n",
      "mean           NaN  431.480106   NaN  6.176983  7.291268  13.463613   \n",
      "std            NaN  322.855426   NaN  8.561053  9.345027  31.598113   \n",
      "min            NaN         0.0   NaN       0.0       0.0        0.0   \n",
      "25%            NaN       130.0   NaN       0.0       0.0        0.0   \n",
      "50%            NaN       414.0   NaN       0.0       0.0        0.0   \n",
      "75%            NaN       745.0   NaN      12.0      12.0        0.0   \n",
      "max            NaN       954.0   NaN      59.0      67.0      192.0   \n",
      "\n",
      "               wolf              notes date_original invalid_date  \n",
      "count   3450.000000                596          3361         3450  \n",
      "unique          NaN                455          1239            2  \n",
      "top             NaN  Two groups today.    2 Dec 1860        False  \n",
      "freq            NaN                 15            12         3351  \n",
      "mean      12.472464                NaN           NaN          NaN  \n",
      "std       28.547559                NaN           NaN          NaN  \n",
      "min        0.000000                NaN           NaN          NaN  \n",
      "25%        0.000000                NaN           NaN          NaN  \n",
      "50%        0.000000                NaN           NaN          NaN  \n",
      "75%        0.000000                NaN           NaN          NaN  \n",
      "max      184.000000                NaN           NaN          NaN  \n"
     ]
    }
   ],
   "source": [
    "print(solarData.describe(include='all'))"
   ]
  },
  {
   "cell_type": "markdown",
   "id": "3d7b85e5-eff5-4495-a03e-543111ce2a15",
   "metadata": {},
   "source": [
    "# виждаме, че 'numeric' колоните вече се преизчисляват както трябва"
   ]
  },
  {
   "cell_type": "code",
   "execution_count": 42,
   "id": "1050ce60-e53d-49da-8c6e-e76ccf000d55",
   "metadata": {},
   "outputs": [
    {
     "data": {
      "text/plain": [
       "Index(['date', 'no', 'n_s', 'c_rn', 'c_rs', 'c_r', 'wolf', 'notes',\n",
       "       'date_original', 'invalid_date'],\n",
       "      dtype='object')"
      ]
     },
     "execution_count": 42,
     "metadata": {},
     "output_type": "execute_result"
    }
   ],
   "source": [
    "solarData.columns"
   ]
  },
  {
   "cell_type": "code",
   "execution_count": 43,
   "id": "2e6de2d2-e68f-422b-a6b3-936a4d41beac",
   "metadata": {},
   "outputs": [
    {
     "data": {
      "text/plain": [
       "date               object\n",
       "no                  Int64\n",
       "n_s              category\n",
       "c_rn                Int64\n",
       "c_rs                Int64\n",
       "c_r                 Int64\n",
       "wolf              float64\n",
       "notes              object\n",
       "date_original      object\n",
       "invalid_date         bool\n",
       "dtype: object"
      ]
     },
     "execution_count": 43,
     "metadata": {},
     "output_type": "execute_result"
    }
   ],
   "source": [
    "solarData.dtypes"
   ]
  },
  {
   "cell_type": "code",
   "execution_count": 44,
   "id": "8a8cd326-46aa-4b7f-a9df-501cb63a2f9f",
   "metadata": {},
   "outputs": [
    {
     "data": {
      "text/html": [
       "<div>\n",
       "<style scoped>\n",
       "    .dataframe tbody tr th:only-of-type {\n",
       "        vertical-align: middle;\n",
       "    }\n",
       "\n",
       "    .dataframe tbody tr th {\n",
       "        vertical-align: top;\n",
       "    }\n",
       "\n",
       "    .dataframe thead th {\n",
       "        text-align: right;\n",
       "    }\n",
       "</style>\n",
       "<table border=\"1\" class=\"dataframe\">\n",
       "  <thead>\n",
       "    <tr style=\"text-align: right;\">\n",
       "      <th></th>\n",
       "      <th>date</th>\n",
       "      <th>no</th>\n",
       "      <th>n_s</th>\n",
       "      <th>c_rn</th>\n",
       "      <th>c_rs</th>\n",
       "      <th>c_r</th>\n",
       "      <th>wolf</th>\n",
       "      <th>notes</th>\n",
       "      <th>date_original</th>\n",
       "      <th>invalid_date</th>\n",
       "    </tr>\n",
       "  </thead>\n",
       "  <tbody>\n",
       "    <tr>\n",
       "      <th>0</th>\n",
       "      <td>1853-11-09</td>\n",
       "      <td>1</td>\n",
       "      <td>N</td>\n",
       "      <td>11</td>\n",
       "      <td>0</td>\n",
       "      <td>11</td>\n",
       "      <td>22.0</td>\n",
       "      <td>NaN</td>\n",
       "      <td>9 Nov 1853</td>\n",
       "      <td>False</td>\n",
       "    </tr>\n",
       "    <tr>\n",
       "      <th>1</th>\n",
       "      <td>1853-11-17</td>\n",
       "      <td>1</td>\n",
       "      <td>N</td>\n",
       "      <td>11</td>\n",
       "      <td>0</td>\n",
       "      <td>0</td>\n",
       "      <td>0.0</td>\n",
       "      <td>NaN</td>\n",
       "      <td>17 Nov 1853</td>\n",
       "      <td>False</td>\n",
       "    </tr>\n",
       "    <tr>\n",
       "      <th>2</th>\n",
       "      <td>1853-11-17</td>\n",
       "      <td>2</td>\n",
       "      <td>N</td>\n",
       "      <td>11</td>\n",
       "      <td>0</td>\n",
       "      <td>22</td>\n",
       "      <td>28.0</td>\n",
       "      <td>NaN</td>\n",
       "      <td>17 Nov 1853</td>\n",
       "      <td>False</td>\n",
       "    </tr>\n",
       "    <tr>\n",
       "      <th>3</th>\n",
       "      <td>1853-11-21</td>\n",
       "      <td>2</td>\n",
       "      <td>N</td>\n",
       "      <td>14</td>\n",
       "      <td>0</td>\n",
       "      <td>14</td>\n",
       "      <td>20.0</td>\n",
       "      <td>NaN</td>\n",
       "      <td>21 Nov 1853</td>\n",
       "      <td>False</td>\n",
       "    </tr>\n",
       "    <tr>\n",
       "      <th>4</th>\n",
       "      <td>1853-11-23</td>\n",
       "      <td>3</td>\n",
       "      <td>S</td>\n",
       "      <td>0</td>\n",
       "      <td>12</td>\n",
       "      <td>12</td>\n",
       "      <td>38.0</td>\n",
       "      <td>NaN</td>\n",
       "      <td>23 Nov 1853</td>\n",
       "      <td>False</td>\n",
       "    </tr>\n",
       "    <tr>\n",
       "      <th>5</th>\n",
       "      <td>1853-11-25</td>\n",
       "      <td>3</td>\n",
       "      <td>S</td>\n",
       "      <td>0</td>\n",
       "      <td>11</td>\n",
       "      <td>0</td>\n",
       "      <td>0.0</td>\n",
       "      <td>NaN</td>\n",
       "      <td>25 Nov 1853</td>\n",
       "      <td>False</td>\n",
       "    </tr>\n",
       "    <tr>\n",
       "      <th>6</th>\n",
       "      <td>1853-11-25</td>\n",
       "      <td>4</td>\n",
       "      <td>N</td>\n",
       "      <td>11</td>\n",
       "      <td>0</td>\n",
       "      <td>22</td>\n",
       "      <td>36.0</td>\n",
       "      <td>NaN</td>\n",
       "      <td>25 Nov 1853</td>\n",
       "      <td>False</td>\n",
       "    </tr>\n",
       "    <tr>\n",
       "      <th>7</th>\n",
       "      <td>NaN</td>\n",
       "      <td>0</td>\n",
       "      <td>NaN</td>\n",
       "      <td>0</td>\n",
       "      <td>0</td>\n",
       "      <td>0</td>\n",
       "      <td>0.0</td>\n",
       "      <td>Rn = 11.6, Rs = 4.6, R = 16.2.</td>\n",
       "      <td>NaN</td>\n",
       "      <td>True</td>\n",
       "    </tr>\n",
       "    <tr>\n",
       "      <th>8</th>\n",
       "      <td>1853-12-01</td>\n",
       "      <td>5</td>\n",
       "      <td>S</td>\n",
       "      <td>0</td>\n",
       "      <td>13</td>\n",
       "      <td>13</td>\n",
       "      <td>14.0</td>\n",
       "      <td>NaN</td>\n",
       "      <td>1 Dec 1853</td>\n",
       "      <td>False</td>\n",
       "    </tr>\n",
       "    <tr>\n",
       "      <th>9</th>\n",
       "      <td>1853-12-02</td>\n",
       "      <td>5</td>\n",
       "      <td>S</td>\n",
       "      <td>0</td>\n",
       "      <td>12</td>\n",
       "      <td>0</td>\n",
       "      <td>0.0</td>\n",
       "      <td>NaN</td>\n",
       "      <td>2 Dec 1853</td>\n",
       "      <td>False</td>\n",
       "    </tr>\n",
       "  </tbody>\n",
       "</table>\n",
       "</div>"
      ],
      "text/plain": [
       "         date  no  n_s  c_rn  c_rs  c_r  wolf                           notes  \\\n",
       "0  1853-11-09   1    N    11     0   11  22.0                             NaN   \n",
       "1  1853-11-17   1    N    11     0    0   0.0                             NaN   \n",
       "2  1853-11-17   2    N    11     0   22  28.0                             NaN   \n",
       "3  1853-11-21   2    N    14     0   14  20.0                             NaN   \n",
       "4  1853-11-23   3    S     0    12   12  38.0                             NaN   \n",
       "5  1853-11-25   3    S     0    11    0   0.0                             NaN   \n",
       "6  1853-11-25   4    N    11     0   22  36.0                             NaN   \n",
       "7         NaN   0  NaN     0     0    0   0.0  Rn = 11.6, Rs = 4.6, R = 16.2.   \n",
       "8  1853-12-01   5    S     0    13   13  14.0                             NaN   \n",
       "9  1853-12-02   5    S     0    12    0   0.0                             NaN   \n",
       "\n",
       "  date_original  invalid_date  \n",
       "0    9 Nov 1853         False  \n",
       "1   17 Nov 1853         False  \n",
       "2   17 Nov 1853         False  \n",
       "3   21 Nov 1853         False  \n",
       "4   23 Nov 1853         False  \n",
       "5   25 Nov 1853         False  \n",
       "6   25 Nov 1853         False  \n",
       "7           NaN          True  \n",
       "8    1 Dec 1853         False  \n",
       "9    2 Dec 1853         False  "
      ]
     },
     "execution_count": 44,
     "metadata": {},
     "output_type": "execute_result"
    }
   ],
   "source": [
    "solarData.head(10)"
   ]
  },
  {
   "cell_type": "code",
   "execution_count": 45,
   "id": "2c785c4c-efe7-46b1-9596-f87cb54a4f11",
   "metadata": {},
   "outputs": [
    {
     "data": {
      "text/plain": [
       "0       1853-11-09\n",
       "1       1853-11-17\n",
       "2       1853-11-17\n",
       "3       1853-11-21\n",
       "4       1853-11-23\n",
       "           ...    \n",
       "3445    1861-03-24\n",
       "3446    1861-03-24\n",
       "3447    1861-03-24\n",
       "3448    1861-03-24\n",
       "3449           NaN\n",
       "Name: date, Length: 3450, dtype: object"
      ]
     },
     "execution_count": 45,
     "metadata": {},
     "output_type": "execute_result"
    }
   ],
   "source": [
    "solarData['date']"
   ]
  },
  {
   "cell_type": "code",
   "execution_count": 46,
   "id": "ac450a45-80c6-4632-8bca-38c68a6534b2",
   "metadata": {},
   "outputs": [],
   "source": [
    "solarData_dateColumn_fixed_dates = solarData = fix_dates(solarData, 'date')"
   ]
  },
  {
   "cell_type": "code",
   "execution_count": 47,
   "id": "9bc3bb26-2831-452e-92c5-b87f23d6349e",
   "metadata": {},
   "outputs": [],
   "source": [
    "solarData_dateColumn_original_dates = solarData.columns.copy()"
   ]
  },
  {
   "cell_type": "code",
   "execution_count": 48,
   "id": "4ae2f44f-b21a-4c77-b1ec-ee6fd5239799",
   "metadata": {},
   "outputs": [
    {
     "data": {
      "text/html": [
       "<div>\n",
       "<style scoped>\n",
       "    .dataframe tbody tr th:only-of-type {\n",
       "        vertical-align: middle;\n",
       "    }\n",
       "\n",
       "    .dataframe tbody tr th {\n",
       "        vertical-align: top;\n",
       "    }\n",
       "\n",
       "    .dataframe thead th {\n",
       "        text-align: right;\n",
       "    }\n",
       "</style>\n",
       "<table border=\"1\" class=\"dataframe\">\n",
       "  <thead>\n",
       "    <tr style=\"text-align: right;\">\n",
       "      <th></th>\n",
       "      <th>date</th>\n",
       "      <th>no</th>\n",
       "      <th>n_s</th>\n",
       "      <th>c_rn</th>\n",
       "      <th>c_rs</th>\n",
       "      <th>c_r</th>\n",
       "      <th>wolf</th>\n",
       "      <th>notes</th>\n",
       "      <th>date_original</th>\n",
       "      <th>invalid_date</th>\n",
       "    </tr>\n",
       "  </thead>\n",
       "  <tbody>\n",
       "    <tr>\n",
       "      <th>0</th>\n",
       "      <td>1853-11-09</td>\n",
       "      <td>1</td>\n",
       "      <td>N</td>\n",
       "      <td>11</td>\n",
       "      <td>0</td>\n",
       "      <td>11</td>\n",
       "      <td>22.0</td>\n",
       "      <td>NaN</td>\n",
       "      <td>9 Nov 1853</td>\n",
       "      <td>False</td>\n",
       "    </tr>\n",
       "    <tr>\n",
       "      <th>1</th>\n",
       "      <td>1853-11-17</td>\n",
       "      <td>1</td>\n",
       "      <td>N</td>\n",
       "      <td>11</td>\n",
       "      <td>0</td>\n",
       "      <td>0</td>\n",
       "      <td>0.0</td>\n",
       "      <td>NaN</td>\n",
       "      <td>17 Nov 1853</td>\n",
       "      <td>False</td>\n",
       "    </tr>\n",
       "    <tr>\n",
       "      <th>2</th>\n",
       "      <td>1853-11-17</td>\n",
       "      <td>2</td>\n",
       "      <td>N</td>\n",
       "      <td>11</td>\n",
       "      <td>0</td>\n",
       "      <td>22</td>\n",
       "      <td>28.0</td>\n",
       "      <td>NaN</td>\n",
       "      <td>17 Nov 1853</td>\n",
       "      <td>False</td>\n",
       "    </tr>\n",
       "    <tr>\n",
       "      <th>3</th>\n",
       "      <td>1853-11-21</td>\n",
       "      <td>2</td>\n",
       "      <td>N</td>\n",
       "      <td>14</td>\n",
       "      <td>0</td>\n",
       "      <td>14</td>\n",
       "      <td>20.0</td>\n",
       "      <td>NaN</td>\n",
       "      <td>21 Nov 1853</td>\n",
       "      <td>False</td>\n",
       "    </tr>\n",
       "    <tr>\n",
       "      <th>4</th>\n",
       "      <td>1853-11-23</td>\n",
       "      <td>3</td>\n",
       "      <td>S</td>\n",
       "      <td>0</td>\n",
       "      <td>12</td>\n",
       "      <td>12</td>\n",
       "      <td>38.0</td>\n",
       "      <td>NaN</td>\n",
       "      <td>23 Nov 1853</td>\n",
       "      <td>False</td>\n",
       "    </tr>\n",
       "  </tbody>\n",
       "</table>\n",
       "</div>"
      ],
      "text/plain": [
       "         date  no n_s  c_rn  c_rs  c_r  wolf notes date_original  invalid_date\n",
       "0  1853-11-09   1   N    11     0   11  22.0   NaN    9 Nov 1853         False\n",
       "1  1853-11-17   1   N    11     0    0   0.0   NaN   17 Nov 1853         False\n",
       "2  1853-11-17   2   N    11     0   22  28.0   NaN   17 Nov 1853         False\n",
       "3  1853-11-21   2   N    14     0   14  20.0   NaN   21 Nov 1853         False\n",
       "4  1853-11-23   3   S     0    12   12  38.0   NaN   23 Nov 1853         False"
      ]
     },
     "execution_count": 48,
     "metadata": {},
     "output_type": "execute_result"
    }
   ],
   "source": [
    "solarData.head()"
   ]
  },
  {
   "cell_type": "markdown",
   "id": "2c2157fe-3fee-4fe2-9d79-91a19cb9d8c1",
   "metadata": {},
   "source": [
    "# сега след като сме пооправили колоните и данните, можем да тестваме дали можем да покажем някакви статистики"
   ]
  },
  {
   "cell_type": "markdown",
   "id": "f9104010-c764-4d7a-9953-9c006d9df10a",
   "metadata": {},
   "source": [
    "# като начало можем да си направим една матрица с колоните които ще използваме за статистика "
   ]
  },
  {
   "cell_type": "code",
   "execution_count": 75,
   "id": "43dc0b4d-8d61-4aa9-af16-080561f4b8d7",
   "metadata": {},
   "outputs": [],
   "source": [
    "numerical_columns = ['no', 'c_rn', 'c_rs', 'c_r', 'wolf']"
   ]
  },
  {
   "cell_type": "markdown",
   "id": "a1a31bf2-4171-4bcb-a634-2dd894cb37b5",
   "metadata": {},
   "source": [
    "# тук е може би добре да споменем коя колона какво значи\n",
    "# данните са свалени под формата на csv от https://sidc.be/SILSO/home и съдържат измервания в промяната на наблюдаемите\n",
    "# слънчеви петна\n",
    "no    →   номер на наблюдението (последователност на наблюденията за дадена дата).\n",
    "n_s   →   слънчево полукълбо, N или S (Северно или Южно полукълбо).\n",
    "c_rn  →   брой слънчеви групи в Северното полукълбо.\n",
    "c_rs  →   брой слънчеви групи в Южното полукълбо.\n",
    "c_r   →   общо число на слънчевите групи (вероятно сбор от c_rn и c_rs).\n",
    "wolf  →   число на Вулф за слънчеви петна .\n",
    "notes →   бележки във свободен текст за всяко наблюдение.\n",
    "date  →   дата на наблюдението."
   ]
  },
  {
   "cell_type": "code",
   "execution_count": 76,
   "id": "31cd93cc-8efb-424c-9cc6-3813e3d81801",
   "metadata": {},
   "outputs": [
    {
     "ename": "KeyError",
     "evalue": "\"['wolf'] not in index\"",
     "output_type": "error",
     "traceback": [
      "\u001b[1;31m---------------------------------------------------------------------------\u001b[0m",
      "\u001b[1;31mKeyError\u001b[0m                                  Traceback (most recent call last)",
      "Cell \u001b[1;32mIn[76], line 1\u001b[0m\n\u001b[1;32m----> 1\u001b[0m correlation_matrix \u001b[38;5;241m=\u001b[39m solarData[numeric_columns]\u001b[38;5;241m.\u001b[39mcorr()\n\u001b[0;32m      2\u001b[0m \u001b[38;5;28mprint\u001b[39m(correlation_matrix)\n",
      "File \u001b[1;32mD:\\ProgramData\\Anaconda\\Lib\\site-packages\\pandas\\core\\frame.py:4108\u001b[0m, in \u001b[0;36mDataFrame.__getitem__\u001b[1;34m(self, key)\u001b[0m\n\u001b[0;32m   4106\u001b[0m     \u001b[38;5;28;01mif\u001b[39;00m is_iterator(key):\n\u001b[0;32m   4107\u001b[0m         key \u001b[38;5;241m=\u001b[39m \u001b[38;5;28mlist\u001b[39m(key)\n\u001b[1;32m-> 4108\u001b[0m     indexer \u001b[38;5;241m=\u001b[39m \u001b[38;5;28mself\u001b[39m\u001b[38;5;241m.\u001b[39mcolumns\u001b[38;5;241m.\u001b[39m_get_indexer_strict(key, \u001b[38;5;124m\"\u001b[39m\u001b[38;5;124mcolumns\u001b[39m\u001b[38;5;124m\"\u001b[39m)[\u001b[38;5;241m1\u001b[39m]\n\u001b[0;32m   4110\u001b[0m \u001b[38;5;66;03m# take() does not accept boolean indexers\u001b[39;00m\n\u001b[0;32m   4111\u001b[0m \u001b[38;5;28;01mif\u001b[39;00m \u001b[38;5;28mgetattr\u001b[39m(indexer, \u001b[38;5;124m\"\u001b[39m\u001b[38;5;124mdtype\u001b[39m\u001b[38;5;124m\"\u001b[39m, \u001b[38;5;28;01mNone\u001b[39;00m) \u001b[38;5;241m==\u001b[39m \u001b[38;5;28mbool\u001b[39m:\n",
      "File \u001b[1;32mD:\\ProgramData\\Anaconda\\Lib\\site-packages\\pandas\\core\\indexes\\base.py:6200\u001b[0m, in \u001b[0;36mIndex._get_indexer_strict\u001b[1;34m(self, key, axis_name)\u001b[0m\n\u001b[0;32m   6197\u001b[0m \u001b[38;5;28;01melse\u001b[39;00m:\n\u001b[0;32m   6198\u001b[0m     keyarr, indexer, new_indexer \u001b[38;5;241m=\u001b[39m \u001b[38;5;28mself\u001b[39m\u001b[38;5;241m.\u001b[39m_reindex_non_unique(keyarr)\n\u001b[1;32m-> 6200\u001b[0m \u001b[38;5;28mself\u001b[39m\u001b[38;5;241m.\u001b[39m_raise_if_missing(keyarr, indexer, axis_name)\n\u001b[0;32m   6202\u001b[0m keyarr \u001b[38;5;241m=\u001b[39m \u001b[38;5;28mself\u001b[39m\u001b[38;5;241m.\u001b[39mtake(indexer)\n\u001b[0;32m   6203\u001b[0m \u001b[38;5;28;01mif\u001b[39;00m \u001b[38;5;28misinstance\u001b[39m(key, Index):\n\u001b[0;32m   6204\u001b[0m     \u001b[38;5;66;03m# GH 42790 - Preserve name from an Index\u001b[39;00m\n",
      "File \u001b[1;32mD:\\ProgramData\\Anaconda\\Lib\\site-packages\\pandas\\core\\indexes\\base.py:6252\u001b[0m, in \u001b[0;36mIndex._raise_if_missing\u001b[1;34m(self, key, indexer, axis_name)\u001b[0m\n\u001b[0;32m   6249\u001b[0m     \u001b[38;5;28;01mraise\u001b[39;00m \u001b[38;5;167;01mKeyError\u001b[39;00m(\u001b[38;5;124mf\u001b[39m\u001b[38;5;124m\"\u001b[39m\u001b[38;5;124mNone of [\u001b[39m\u001b[38;5;132;01m{\u001b[39;00mkey\u001b[38;5;132;01m}\u001b[39;00m\u001b[38;5;124m] are in the [\u001b[39m\u001b[38;5;132;01m{\u001b[39;00maxis_name\u001b[38;5;132;01m}\u001b[39;00m\u001b[38;5;124m]\u001b[39m\u001b[38;5;124m\"\u001b[39m)\n\u001b[0;32m   6251\u001b[0m not_found \u001b[38;5;241m=\u001b[39m \u001b[38;5;28mlist\u001b[39m(ensure_index(key)[missing_mask\u001b[38;5;241m.\u001b[39mnonzero()[\u001b[38;5;241m0\u001b[39m]]\u001b[38;5;241m.\u001b[39munique())\n\u001b[1;32m-> 6252\u001b[0m \u001b[38;5;28;01mraise\u001b[39;00m \u001b[38;5;167;01mKeyError\u001b[39;00m(\u001b[38;5;124mf\u001b[39m\u001b[38;5;124m\"\u001b[39m\u001b[38;5;132;01m{\u001b[39;00mnot_found\u001b[38;5;132;01m}\u001b[39;00m\u001b[38;5;124m not in index\u001b[39m\u001b[38;5;124m\"\u001b[39m)\n",
      "\u001b[1;31mKeyError\u001b[0m: \"['wolf'] not in index\""
     ]
    }
   ],
   "source": [
    "correlation_matrix = solarData[numeric_columns].corr()\n",
    "print(correlation_matrix)"
   ]
  },
  {
   "cell_type": "markdown",
   "id": "7611f1c5-5d94-4872-a1dd-75109f107ea0",
   "metadata": {},
   "source": [
    "# виждаме матрица на корелациите\n",
    "c_r и wolf → 0.96 корелация\n",
    "Изключително висока и очаквана — числото на Wolf се изчислява частично на базата на броя на групите слънчеви петна (и отделните петна), така че c_r и wolf се движат почти еднакво.\n",
    "\n",
    "c_rn и c_rs → -0.56 корелация\n",
    "Умерено силна отрицателна корелация — когато има повече групи в Северното полукълбо, обикновено има по-малко в Южното, и обратно. Това вероятно се дължи на фазови измествания в активността между полукълбата на Слънцето.\n",
    "\n",
    "no спрямо другите (0.08–0.22)\n",
    "Много слаби корелации — no е просто пореден номер на наблюдението за дадена дата, така че няма силна връзка със самите нива на слънчева активност.\n",
    "\n",
    "Останалите стойности са близо до 0\n",
    "Това означава, че има малка или никаква линейна зависимост между съответните двойки променливи. "
   ]
  },
  {
   "cell_type": "markdown",
   "id": "0c92fe2d-e4d8-4a04-9fc1-9a4c2ab8f434",
   "metadata": {},
   "source": [
    "# да начертаем хийтмап"
   ]
  },
  {
   "cell_type": "code",
   "execution_count": 74,
   "id": "c03714db-4534-4705-b0e7-4ce5c8680683",
   "metadata": {},
   "outputs": [
    {
     "ename": "KeyError",
     "evalue": "\"['wolf'] not in index\"",
     "output_type": "error",
     "traceback": [
      "\u001b[1;31m---------------------------------------------------------------------------\u001b[0m",
      "\u001b[1;31mKeyError\u001b[0m                                  Traceback (most recent call last)",
      "Cell \u001b[1;32mIn[74], line 2\u001b[0m\n\u001b[0;32m      1\u001b[0m numeric_columns \u001b[38;5;241m=\u001b[39m [\u001b[38;5;124m'\u001b[39m\u001b[38;5;124mc_rn\u001b[39m\u001b[38;5;124m'\u001b[39m, \u001b[38;5;124m'\u001b[39m\u001b[38;5;124mc_rs\u001b[39m\u001b[38;5;124m'\u001b[39m, \u001b[38;5;124m'\u001b[39m\u001b[38;5;124mc_r\u001b[39m\u001b[38;5;124m'\u001b[39m, \u001b[38;5;124m'\u001b[39m\u001b[38;5;124mwolf\u001b[39m\u001b[38;5;124m'\u001b[39m]\n\u001b[1;32m----> 2\u001b[0m correlation_matrix \u001b[38;5;241m=\u001b[39m solarData[numeric_columns]\u001b[38;5;241m.\u001b[39mcorr()\n\u001b[0;32m      4\u001b[0m plt\u001b[38;5;241m.\u001b[39mfigure(figsize\u001b[38;5;241m=\u001b[39m(\u001b[38;5;241m6\u001b[39m, \u001b[38;5;241m5\u001b[39m))\n\u001b[0;32m      5\u001b[0m sns\u001b[38;5;241m.\u001b[39mheatmap(correlation_matrix, annot\u001b[38;5;241m=\u001b[39m\u001b[38;5;28;01mTrue\u001b[39;00m, fmt\u001b[38;5;241m=\u001b[39m\u001b[38;5;124m\"\u001b[39m\u001b[38;5;124m.2f\u001b[39m\u001b[38;5;124m\"\u001b[39m, cmap\u001b[38;5;241m=\u001b[39m\u001b[38;5;124m\"\u001b[39m\u001b[38;5;124mcoolwarm\u001b[39m\u001b[38;5;124m\"\u001b[39m, square\u001b[38;5;241m=\u001b[39m\u001b[38;5;28;01mTrue\u001b[39;00m)\n",
      "File \u001b[1;32mD:\\ProgramData\\Anaconda\\Lib\\site-packages\\pandas\\core\\frame.py:4108\u001b[0m, in \u001b[0;36mDataFrame.__getitem__\u001b[1;34m(self, key)\u001b[0m\n\u001b[0;32m   4106\u001b[0m     \u001b[38;5;28;01mif\u001b[39;00m is_iterator(key):\n\u001b[0;32m   4107\u001b[0m         key \u001b[38;5;241m=\u001b[39m \u001b[38;5;28mlist\u001b[39m(key)\n\u001b[1;32m-> 4108\u001b[0m     indexer \u001b[38;5;241m=\u001b[39m \u001b[38;5;28mself\u001b[39m\u001b[38;5;241m.\u001b[39mcolumns\u001b[38;5;241m.\u001b[39m_get_indexer_strict(key, \u001b[38;5;124m\"\u001b[39m\u001b[38;5;124mcolumns\u001b[39m\u001b[38;5;124m\"\u001b[39m)[\u001b[38;5;241m1\u001b[39m]\n\u001b[0;32m   4110\u001b[0m \u001b[38;5;66;03m# take() does not accept boolean indexers\u001b[39;00m\n\u001b[0;32m   4111\u001b[0m \u001b[38;5;28;01mif\u001b[39;00m \u001b[38;5;28mgetattr\u001b[39m(indexer, \u001b[38;5;124m\"\u001b[39m\u001b[38;5;124mdtype\u001b[39m\u001b[38;5;124m\"\u001b[39m, \u001b[38;5;28;01mNone\u001b[39;00m) \u001b[38;5;241m==\u001b[39m \u001b[38;5;28mbool\u001b[39m:\n",
      "File \u001b[1;32mD:\\ProgramData\\Anaconda\\Lib\\site-packages\\pandas\\core\\indexes\\base.py:6200\u001b[0m, in \u001b[0;36mIndex._get_indexer_strict\u001b[1;34m(self, key, axis_name)\u001b[0m\n\u001b[0;32m   6197\u001b[0m \u001b[38;5;28;01melse\u001b[39;00m:\n\u001b[0;32m   6198\u001b[0m     keyarr, indexer, new_indexer \u001b[38;5;241m=\u001b[39m \u001b[38;5;28mself\u001b[39m\u001b[38;5;241m.\u001b[39m_reindex_non_unique(keyarr)\n\u001b[1;32m-> 6200\u001b[0m \u001b[38;5;28mself\u001b[39m\u001b[38;5;241m.\u001b[39m_raise_if_missing(keyarr, indexer, axis_name)\n\u001b[0;32m   6202\u001b[0m keyarr \u001b[38;5;241m=\u001b[39m \u001b[38;5;28mself\u001b[39m\u001b[38;5;241m.\u001b[39mtake(indexer)\n\u001b[0;32m   6203\u001b[0m \u001b[38;5;28;01mif\u001b[39;00m \u001b[38;5;28misinstance\u001b[39m(key, Index):\n\u001b[0;32m   6204\u001b[0m     \u001b[38;5;66;03m# GH 42790 - Preserve name from an Index\u001b[39;00m\n",
      "File \u001b[1;32mD:\\ProgramData\\Anaconda\\Lib\\site-packages\\pandas\\core\\indexes\\base.py:6252\u001b[0m, in \u001b[0;36mIndex._raise_if_missing\u001b[1;34m(self, key, indexer, axis_name)\u001b[0m\n\u001b[0;32m   6249\u001b[0m     \u001b[38;5;28;01mraise\u001b[39;00m \u001b[38;5;167;01mKeyError\u001b[39;00m(\u001b[38;5;124mf\u001b[39m\u001b[38;5;124m\"\u001b[39m\u001b[38;5;124mNone of [\u001b[39m\u001b[38;5;132;01m{\u001b[39;00mkey\u001b[38;5;132;01m}\u001b[39;00m\u001b[38;5;124m] are in the [\u001b[39m\u001b[38;5;132;01m{\u001b[39;00maxis_name\u001b[38;5;132;01m}\u001b[39;00m\u001b[38;5;124m]\u001b[39m\u001b[38;5;124m\"\u001b[39m)\n\u001b[0;32m   6251\u001b[0m not_found \u001b[38;5;241m=\u001b[39m \u001b[38;5;28mlist\u001b[39m(ensure_index(key)[missing_mask\u001b[38;5;241m.\u001b[39mnonzero()[\u001b[38;5;241m0\u001b[39m]]\u001b[38;5;241m.\u001b[39munique())\n\u001b[1;32m-> 6252\u001b[0m \u001b[38;5;28;01mraise\u001b[39;00m \u001b[38;5;167;01mKeyError\u001b[39;00m(\u001b[38;5;124mf\u001b[39m\u001b[38;5;124m\"\u001b[39m\u001b[38;5;132;01m{\u001b[39;00mnot_found\u001b[38;5;132;01m}\u001b[39;00m\u001b[38;5;124m not in index\u001b[39m\u001b[38;5;124m\"\u001b[39m)\n",
      "\u001b[1;31mKeyError\u001b[0m: \"['wolf'] not in index\""
     ]
    }
   ],
   "source": [
    "numeric_columns = ['c_rn', 'c_rs', 'c_r', 'wolf']\n",
    "correlation_matrix = solarData[numeric_columns].corr()\n",
    "\n",
    "plt.figure(figsize=(6, 5))\n",
    "sns.heatmap(correlation_matrix, annot=True, fmt=\".2f\", cmap=\"coolwarm\", square=True)\n",
    "plt.title(\"Correlation Heatmap (Without Observation Number)\", fontsize=14)\n",
    "plt.show()"
   ]
  },
  {
   "cell_type": "markdown",
   "id": "984dd296-3b61-4c80-8637-83caa113486e",
   "metadata": {},
   "source": [
    "# можем да се опитаме да покажем общото разпределение на слънчевите групи"
   ]
  },
  {
   "cell_type": "code",
   "execution_count": 51,
   "id": "fe1f107f-5b04-4e7d-81b3-97655e446e07",
   "metadata": {},
   "outputs": [
    {
     "data": {
      "text/html": [
       "<div>\n",
       "<style scoped>\n",
       "    .dataframe tbody tr th:only-of-type {\n",
       "        vertical-align: middle;\n",
       "    }\n",
       "\n",
       "    .dataframe tbody tr th {\n",
       "        vertical-align: top;\n",
       "    }\n",
       "\n",
       "    .dataframe thead th {\n",
       "        text-align: right;\n",
       "    }\n",
       "</style>\n",
       "<table border=\"1\" class=\"dataframe\">\n",
       "  <thead>\n",
       "    <tr style=\"text-align: right;\">\n",
       "      <th></th>\n",
       "      <th>c_rn</th>\n",
       "      <th>c_rs</th>\n",
       "      <th>c_r</th>\n",
       "    </tr>\n",
       "  </thead>\n",
       "  <tbody>\n",
       "    <tr>\n",
       "      <th>count</th>\n",
       "      <td>3441.0</td>\n",
       "      <td>3447.0</td>\n",
       "      <td>3449.0</td>\n",
       "    </tr>\n",
       "    <tr>\n",
       "      <th>mean</th>\n",
       "      <td>6.176983</td>\n",
       "      <td>7.291268</td>\n",
       "      <td>13.463613</td>\n",
       "    </tr>\n",
       "    <tr>\n",
       "      <th>std</th>\n",
       "      <td>8.561053</td>\n",
       "      <td>9.345027</td>\n",
       "      <td>31.598113</td>\n",
       "    </tr>\n",
       "    <tr>\n",
       "      <th>min</th>\n",
       "      <td>0.0</td>\n",
       "      <td>0.0</td>\n",
       "      <td>0.0</td>\n",
       "    </tr>\n",
       "    <tr>\n",
       "      <th>25%</th>\n",
       "      <td>0.0</td>\n",
       "      <td>0.0</td>\n",
       "      <td>0.0</td>\n",
       "    </tr>\n",
       "    <tr>\n",
       "      <th>50%</th>\n",
       "      <td>0.0</td>\n",
       "      <td>0.0</td>\n",
       "      <td>0.0</td>\n",
       "    </tr>\n",
       "    <tr>\n",
       "      <th>75%</th>\n",
       "      <td>12.0</td>\n",
       "      <td>12.0</td>\n",
       "      <td>0.0</td>\n",
       "    </tr>\n",
       "    <tr>\n",
       "      <th>max</th>\n",
       "      <td>59.0</td>\n",
       "      <td>67.0</td>\n",
       "      <td>192.0</td>\n",
       "    </tr>\n",
       "  </tbody>\n",
       "</table>\n",
       "</div>"
      ],
      "text/plain": [
       "           c_rn      c_rs        c_r\n",
       "count    3441.0    3447.0     3449.0\n",
       "mean   6.176983  7.291268  13.463613\n",
       "std    8.561053  9.345027  31.598113\n",
       "min         0.0       0.0        0.0\n",
       "25%         0.0       0.0        0.0\n",
       "50%         0.0       0.0        0.0\n",
       "75%        12.0      12.0        0.0\n",
       "max        59.0      67.0      192.0"
      ]
     },
     "execution_count": 51,
     "metadata": {},
     "output_type": "execute_result"
    }
   ],
   "source": [
    "solarData[['c_rn', 'c_rs', 'c_r']].describe()"
   ]
  },
  {
   "cell_type": "markdown",
   "id": "8a1e5ea0-3f71-4c13-ba34-eac58be5a35b",
   "metadata": {},
   "source": [
    "# средната активност на слънцето, какву са вариацията между северното и южното полукълбо, максимални и минимални стойности."
   ]
  },
  {
   "cell_type": "markdown",
   "id": "e2d12377-9a76-45c7-8b51-0239ce27e4ad",
   "metadata": {},
   "source": [
    "# как можем да изтълкуваме това което виждаме\n",
    "\n",
    "средна стойност (mean):\n",
    "c_rn (северно полукълбо): 6.18\n",
    "c_rs (южно полукълбо): 7.29\n",
    "c_r  (общо групи): 13.46\n",
    "→ Средно повече групи се наблюдават в южното полукълбо.\n",
    "\n",
    "стандартно отклонение (std):\n",
    "c_r е много голямо (31.6), което може да означава, че има големи вариации между наблюденията – някои дни са с много групи, други с почти нула.\n",
    "\n",
    "минимум и 25% медиана:\n",
    "мого наблюдения са 0 (за 25% и за 50% медианата е 0 за c_rn и c_rs).\n",
    "това може да значи, че има много дни без наблюдавани слънчеви групи.\n",
    "\n",
    "максимум и 75% квантил:\n",
    "наблюдават семного високи максимуми (59 и 67), което показва силни слънчеви активности в отделни дни.\n",
    "интересно е, че за c_r 75% квантил е 0. Това показва, че голяма част от дните имат ниска активност."
   ]
  },
  {
   "cell_type": "markdown",
   "id": "26271675-1fcf-4e62-a66e-953c9c9fab87",
   "metadata": {},
   "source": [
    "# понеже това са просто числа, можем да се опитаме да покажем процентно \n",
    "# броя на дните в които няма наблюдавани слънчеви групи"
   ]
  },
  {
   "cell_type": "code",
   "execution_count": 52,
   "id": "0e7e86b8-a995-4656-9f4d-eaa2eb6e327d",
   "metadata": {},
   "outputs": [
    {
     "name": "stdout",
     "output_type": "stream",
     "text": [
      "2069\n"
     ]
    }
   ],
   "source": [
    "NortSun_zero_groups = (solarData['c_rn'] == 0).sum()\n",
    "print(NortSun_zero_groups)"
   ]
  },
  {
   "cell_type": "code",
   "execution_count": 53,
   "id": "75ce51f2-770d-4eb7-bd5c-f3441cc72ea9",
   "metadata": {},
   "outputs": [
    {
     "name": "stdout",
     "output_type": "stream",
     "text": [
      "1856\n"
     ]
    }
   ],
   "source": [
    "SouthSun_zero_groups = (solarData['c_rs'] == 0).sum()\n",
    "print(SouthSun_zero_groups)"
   ]
  },
  {
   "cell_type": "code",
   "execution_count": 54,
   "id": "d73b8755-2f3c-4d75-9b19-f484a7476ad2",
   "metadata": {},
   "outputs": [
    {
     "name": "stdout",
     "output_type": "stream",
     "text": [
      "2595\n"
     ]
    }
   ],
   "source": [
    "TotalDays_zero_groups = (solarData['c_r'] == 0).sum()\n",
    "print(TotalDays_zero_groups)"
   ]
  },
  {
   "cell_type": "code",
   "execution_count": 55,
   "id": "9087de43-a4ab-4e91-b08d-b10d6b259861",
   "metadata": {},
   "outputs": [
    {
     "name": "stdout",
     "output_type": "stream",
     "text": [
      "Процент дни без групи в северното полукълбо: 59.97%\n",
      "Процент дни без групи в южното полукълбо: 53.80%\n",
      "Процент дни без групи общо: 75.22%\n"
     ]
    }
   ],
   "source": [
    "total_days = len(solarData)\n",
    "percent_north = NortSun_zero_groups / total_days * 100\n",
    "percent_south = SouthSun_zero_groups / total_days * 100\n",
    "percent_total = TotalDays_zero_groups / total_days * 100\n",
    "\n",
    "print(f\"Процент дни без групи в северното полукълбо: {percent_north:.2f}%\")\n",
    "print(f\"Процент дни без групи в южното полукълбо: {percent_south:.2f}%\")\n",
    "print(f\"Процент дни без групи общо: {percent_total:.2f}%\")"
   ]
  },
  {
   "cell_type": "code",
   "execution_count": 73,
   "id": "31db327d-1dc3-4c56-a35a-60ee15caf831",
   "metadata": {},
   "outputs": [
    {
     "data": {
      "text/plain": [
       "Index(['year', 'c_rn', 'c_rs', 'c_r'], dtype='object')"
      ]
     },
     "execution_count": 73,
     "metadata": {},
     "output_type": "execute_result"
    }
   ],
   "source": [
    "solarData.columns"
   ]
  },
  {
   "cell_type": "code",
   "execution_count": 71,
   "id": "62ce3fcb-2dd8-411c-8d7d-7241fa35985c",
   "metadata": {},
   "outputs": [
    {
     "ename": "KeyError",
     "evalue": "\"['wolf'] not in index\"",
     "output_type": "error",
     "traceback": [
      "\u001b[1;31m---------------------------------------------------------------------------\u001b[0m",
      "\u001b[1;31mKeyError\u001b[0m                                  Traceback (most recent call last)",
      "Cell \u001b[1;32mIn[71], line 1\u001b[0m\n\u001b[1;32m----> 1\u001b[0m solarData[[\u001b[38;5;124m'\u001b[39m\u001b[38;5;124mc_rn\u001b[39m\u001b[38;5;124m'\u001b[39m, \u001b[38;5;124m'\u001b[39m\u001b[38;5;124mc_rs\u001b[39m\u001b[38;5;124m'\u001b[39m, \u001b[38;5;124m'\u001b[39m\u001b[38;5;124mc_r\u001b[39m\u001b[38;5;124m'\u001b[39m, \u001b[38;5;124m'\u001b[39m\u001b[38;5;124mwolf\u001b[39m\u001b[38;5;124m'\u001b[39m]]\u001b[38;5;241m.\u001b[39mcorr()\n",
      "File \u001b[1;32mD:\\ProgramData\\Anaconda\\Lib\\site-packages\\pandas\\core\\frame.py:4108\u001b[0m, in \u001b[0;36mDataFrame.__getitem__\u001b[1;34m(self, key)\u001b[0m\n\u001b[0;32m   4106\u001b[0m     \u001b[38;5;28;01mif\u001b[39;00m is_iterator(key):\n\u001b[0;32m   4107\u001b[0m         key \u001b[38;5;241m=\u001b[39m \u001b[38;5;28mlist\u001b[39m(key)\n\u001b[1;32m-> 4108\u001b[0m     indexer \u001b[38;5;241m=\u001b[39m \u001b[38;5;28mself\u001b[39m\u001b[38;5;241m.\u001b[39mcolumns\u001b[38;5;241m.\u001b[39m_get_indexer_strict(key, \u001b[38;5;124m\"\u001b[39m\u001b[38;5;124mcolumns\u001b[39m\u001b[38;5;124m\"\u001b[39m)[\u001b[38;5;241m1\u001b[39m]\n\u001b[0;32m   4110\u001b[0m \u001b[38;5;66;03m# take() does not accept boolean indexers\u001b[39;00m\n\u001b[0;32m   4111\u001b[0m \u001b[38;5;28;01mif\u001b[39;00m \u001b[38;5;28mgetattr\u001b[39m(indexer, \u001b[38;5;124m\"\u001b[39m\u001b[38;5;124mdtype\u001b[39m\u001b[38;5;124m\"\u001b[39m, \u001b[38;5;28;01mNone\u001b[39;00m) \u001b[38;5;241m==\u001b[39m \u001b[38;5;28mbool\u001b[39m:\n",
      "File \u001b[1;32mD:\\ProgramData\\Anaconda\\Lib\\site-packages\\pandas\\core\\indexes\\base.py:6200\u001b[0m, in \u001b[0;36mIndex._get_indexer_strict\u001b[1;34m(self, key, axis_name)\u001b[0m\n\u001b[0;32m   6197\u001b[0m \u001b[38;5;28;01melse\u001b[39;00m:\n\u001b[0;32m   6198\u001b[0m     keyarr, indexer, new_indexer \u001b[38;5;241m=\u001b[39m \u001b[38;5;28mself\u001b[39m\u001b[38;5;241m.\u001b[39m_reindex_non_unique(keyarr)\n\u001b[1;32m-> 6200\u001b[0m \u001b[38;5;28mself\u001b[39m\u001b[38;5;241m.\u001b[39m_raise_if_missing(keyarr, indexer, axis_name)\n\u001b[0;32m   6202\u001b[0m keyarr \u001b[38;5;241m=\u001b[39m \u001b[38;5;28mself\u001b[39m\u001b[38;5;241m.\u001b[39mtake(indexer)\n\u001b[0;32m   6203\u001b[0m \u001b[38;5;28;01mif\u001b[39;00m \u001b[38;5;28misinstance\u001b[39m(key, Index):\n\u001b[0;32m   6204\u001b[0m     \u001b[38;5;66;03m# GH 42790 - Preserve name from an Index\u001b[39;00m\n",
      "File \u001b[1;32mD:\\ProgramData\\Anaconda\\Lib\\site-packages\\pandas\\core\\indexes\\base.py:6252\u001b[0m, in \u001b[0;36mIndex._raise_if_missing\u001b[1;34m(self, key, indexer, axis_name)\u001b[0m\n\u001b[0;32m   6249\u001b[0m     \u001b[38;5;28;01mraise\u001b[39;00m \u001b[38;5;167;01mKeyError\u001b[39;00m(\u001b[38;5;124mf\u001b[39m\u001b[38;5;124m\"\u001b[39m\u001b[38;5;124mNone of [\u001b[39m\u001b[38;5;132;01m{\u001b[39;00mkey\u001b[38;5;132;01m}\u001b[39;00m\u001b[38;5;124m] are in the [\u001b[39m\u001b[38;5;132;01m{\u001b[39;00maxis_name\u001b[38;5;132;01m}\u001b[39;00m\u001b[38;5;124m]\u001b[39m\u001b[38;5;124m\"\u001b[39m)\n\u001b[0;32m   6251\u001b[0m not_found \u001b[38;5;241m=\u001b[39m \u001b[38;5;28mlist\u001b[39m(ensure_index(key)[missing_mask\u001b[38;5;241m.\u001b[39mnonzero()[\u001b[38;5;241m0\u001b[39m]]\u001b[38;5;241m.\u001b[39munique())\n\u001b[1;32m-> 6252\u001b[0m \u001b[38;5;28;01mraise\u001b[39;00m \u001b[38;5;167;01mKeyError\u001b[39;00m(\u001b[38;5;124mf\u001b[39m\u001b[38;5;124m\"\u001b[39m\u001b[38;5;132;01m{\u001b[39;00mnot_found\u001b[38;5;132;01m}\u001b[39;00m\u001b[38;5;124m not in index\u001b[39m\u001b[38;5;124m\"\u001b[39m)\n",
      "\u001b[1;31mKeyError\u001b[0m: \"['wolf'] not in index\""
     ]
    }
   ],
   "source": [
    "solarData[['c_rn', 'c_rs', 'c_r', 'wolf']].corr()"
   ]
  },
  {
   "cell_type": "code",
   "execution_count": 72,
   "id": "4ec7fafa-5652-446d-83d8-f33da0060f7d",
   "metadata": {},
   "outputs": [
    {
     "ename": "KeyError",
     "evalue": "'wolf'",
     "output_type": "error",
     "traceback": [
      "\u001b[1;31m---------------------------------------------------------------------------\u001b[0m",
      "\u001b[1;31mKeyError\u001b[0m                                  Traceback (most recent call last)",
      "File \u001b[1;32mD:\\ProgramData\\Anaconda\\Lib\\site-packages\\pandas\\core\\indexes\\base.py:3805\u001b[0m, in \u001b[0;36mIndex.get_loc\u001b[1;34m(self, key)\u001b[0m\n\u001b[0;32m   3804\u001b[0m \u001b[38;5;28;01mtry\u001b[39;00m:\n\u001b[1;32m-> 3805\u001b[0m     \u001b[38;5;28;01mreturn\u001b[39;00m \u001b[38;5;28mself\u001b[39m\u001b[38;5;241m.\u001b[39m_engine\u001b[38;5;241m.\u001b[39mget_loc(casted_key)\n\u001b[0;32m   3806\u001b[0m \u001b[38;5;28;01mexcept\u001b[39;00m \u001b[38;5;167;01mKeyError\u001b[39;00m \u001b[38;5;28;01mas\u001b[39;00m err:\n",
      "File \u001b[1;32mindex.pyx:167\u001b[0m, in \u001b[0;36mpandas._libs.index.IndexEngine.get_loc\u001b[1;34m()\u001b[0m\n",
      "File \u001b[1;32mindex.pyx:196\u001b[0m, in \u001b[0;36mpandas._libs.index.IndexEngine.get_loc\u001b[1;34m()\u001b[0m\n",
      "File \u001b[1;32mpandas\\\\_libs\\\\hashtable_class_helper.pxi:7081\u001b[0m, in \u001b[0;36mpandas._libs.hashtable.PyObjectHashTable.get_item\u001b[1;34m()\u001b[0m\n",
      "File \u001b[1;32mpandas\\\\_libs\\\\hashtable_class_helper.pxi:7089\u001b[0m, in \u001b[0;36mpandas._libs.hashtable.PyObjectHashTable.get_item\u001b[1;34m()\u001b[0m\n",
      "\u001b[1;31mKeyError\u001b[0m: 'wolf'",
      "\nThe above exception was the direct cause of the following exception:\n",
      "\u001b[1;31mKeyError\u001b[0m                                  Traceback (most recent call last)",
      "Cell \u001b[1;32mIn[72], line 1\u001b[0m\n\u001b[1;32m----> 1\u001b[0m solarData[\u001b[38;5;124m'\u001b[39m\u001b[38;5;124mwolf\u001b[39m\u001b[38;5;124m'\u001b[39m]\u001b[38;5;241m.\u001b[39mdescribe()\n\u001b[0;32m      2\u001b[0m solarData[\u001b[38;5;124m'\u001b[39m\u001b[38;5;124mwolf\u001b[39m\u001b[38;5;124m'\u001b[39m]\u001b[38;5;241m.\u001b[39mhist(bins\u001b[38;5;241m=\u001b[39m\u001b[38;5;241m30\u001b[39m)\n",
      "File \u001b[1;32mD:\\ProgramData\\Anaconda\\Lib\\site-packages\\pandas\\core\\frame.py:4102\u001b[0m, in \u001b[0;36mDataFrame.__getitem__\u001b[1;34m(self, key)\u001b[0m\n\u001b[0;32m   4100\u001b[0m \u001b[38;5;28;01mif\u001b[39;00m \u001b[38;5;28mself\u001b[39m\u001b[38;5;241m.\u001b[39mcolumns\u001b[38;5;241m.\u001b[39mnlevels \u001b[38;5;241m>\u001b[39m \u001b[38;5;241m1\u001b[39m:\n\u001b[0;32m   4101\u001b[0m     \u001b[38;5;28;01mreturn\u001b[39;00m \u001b[38;5;28mself\u001b[39m\u001b[38;5;241m.\u001b[39m_getitem_multilevel(key)\n\u001b[1;32m-> 4102\u001b[0m indexer \u001b[38;5;241m=\u001b[39m \u001b[38;5;28mself\u001b[39m\u001b[38;5;241m.\u001b[39mcolumns\u001b[38;5;241m.\u001b[39mget_loc(key)\n\u001b[0;32m   4103\u001b[0m \u001b[38;5;28;01mif\u001b[39;00m is_integer(indexer):\n\u001b[0;32m   4104\u001b[0m     indexer \u001b[38;5;241m=\u001b[39m [indexer]\n",
      "File \u001b[1;32mD:\\ProgramData\\Anaconda\\Lib\\site-packages\\pandas\\core\\indexes\\base.py:3812\u001b[0m, in \u001b[0;36mIndex.get_loc\u001b[1;34m(self, key)\u001b[0m\n\u001b[0;32m   3807\u001b[0m     \u001b[38;5;28;01mif\u001b[39;00m \u001b[38;5;28misinstance\u001b[39m(casted_key, \u001b[38;5;28mslice\u001b[39m) \u001b[38;5;129;01mor\u001b[39;00m (\n\u001b[0;32m   3808\u001b[0m         \u001b[38;5;28misinstance\u001b[39m(casted_key, abc\u001b[38;5;241m.\u001b[39mIterable)\n\u001b[0;32m   3809\u001b[0m         \u001b[38;5;129;01mand\u001b[39;00m \u001b[38;5;28many\u001b[39m(\u001b[38;5;28misinstance\u001b[39m(x, \u001b[38;5;28mslice\u001b[39m) \u001b[38;5;28;01mfor\u001b[39;00m x \u001b[38;5;129;01min\u001b[39;00m casted_key)\n\u001b[0;32m   3810\u001b[0m     ):\n\u001b[0;32m   3811\u001b[0m         \u001b[38;5;28;01mraise\u001b[39;00m InvalidIndexError(key)\n\u001b[1;32m-> 3812\u001b[0m     \u001b[38;5;28;01mraise\u001b[39;00m \u001b[38;5;167;01mKeyError\u001b[39;00m(key) \u001b[38;5;28;01mfrom\u001b[39;00m\u001b[38;5;250m \u001b[39m\u001b[38;5;21;01merr\u001b[39;00m\n\u001b[0;32m   3813\u001b[0m \u001b[38;5;28;01mexcept\u001b[39;00m \u001b[38;5;167;01mTypeError\u001b[39;00m:\n\u001b[0;32m   3814\u001b[0m     \u001b[38;5;66;03m# If we have a listlike key, _check_indexing_error will raise\u001b[39;00m\n\u001b[0;32m   3815\u001b[0m     \u001b[38;5;66;03m#  InvalidIndexError. Otherwise we fall through and re-raise\u001b[39;00m\n\u001b[0;32m   3816\u001b[0m     \u001b[38;5;66;03m#  the TypeError.\u001b[39;00m\n\u001b[0;32m   3817\u001b[0m     \u001b[38;5;28mself\u001b[39m\u001b[38;5;241m.\u001b[39m_check_indexing_error(key)\n",
      "\u001b[1;31mKeyError\u001b[0m: 'wolf'"
     ]
    }
   ],
   "source": [
    "solarData['wolf'].describe()\n",
    "solarData['wolf'].hist(bins=30)"
   ]
  },
  {
   "cell_type": "markdown",
   "id": "8337a6da-01d2-4d88-abbb-a2e250f023cd",
   "metadata": {},
   "source": [
    "# ще се опитаме да плотнем някаква графика, като първо ще ни трябва да групираме по години"
   ]
  },
  {
   "cell_type": "code",
   "execution_count": 61,
   "id": "6328a562-472f-4490-ab30-249ef109ffb2",
   "metadata": {},
   "outputs": [],
   "source": [
    "solarData['date'] = pd.to_datetime(solarData['date'], errors='coerce')"
   ]
  },
  {
   "cell_type": "markdown",
   "id": "da67031f-09d6-4eaf-b064-6ffb1612add3",
   "metadata": {},
   "source": [
    "# ще създадем нова колона в която ше съхраняваме годините на измерването"
   ]
  },
  {
   "cell_type": "code",
   "execution_count": 62,
   "id": "48425d2b-842e-4c4d-89c8-3c63f7b045e0",
   "metadata": {},
   "outputs": [],
   "source": [
    "solarData['year'] = solarData['date'].dt.year"
   ]
  },
  {
   "cell_type": "code",
   "execution_count": 63,
   "id": "2ec16987-6a78-4fd9-9ed8-963a2f5e25cb",
   "metadata": {},
   "outputs": [
    {
     "data": {
      "text/plain": [
       "Index(['date', 'no', 'n_s', 'c_rn', 'c_rs', 'c_r', 'wolf', 'notes',\n",
       "       'date_original', 'invalid_date', 'year'],\n",
       "      dtype='object')"
      ]
     },
     "execution_count": 63,
     "metadata": {},
     "output_type": "execute_result"
    }
   ],
   "source": [
    "solarData.columns"
   ]
  },
  {
   "cell_type": "code",
   "execution_count": 64,
   "id": "c085b680-6078-4ca2-8a2d-bbc101515286",
   "metadata": {},
   "outputs": [],
   "source": [
    "sunSpot_groups = solarData.groupby('year')[['c_rn', 'c_rs', 'c_r']].sum().reset_index()"
   ]
  },
  {
   "cell_type": "code",
   "execution_count": 65,
   "id": "1659f01c-6882-43ec-acdb-5be18f751ada",
   "metadata": {},
   "outputs": [
    {
     "name": "stdout",
     "output_type": "stream",
     "text": [
      "     year  c_rn  c_rs    c_r\n",
      "0  1853.0   218   164    382\n",
      "1  1854.0  1572  1008   2692\n",
      "2  1855.0   682   553   1235\n",
      "3  1856.0   327   663    990\n",
      "4  1857.0  1896  2359   4255\n",
      "5  1858.0  2246  5842   8088\n",
      "6  1859.0  3262  3630   6828\n",
      "7  1860.0  9147  9051  18198\n",
      "8  1861.0  1783  1822   3605\n"
     ]
    }
   ],
   "source": [
    "print(sunSpot_groups)"
   ]
  },
  {
   "cell_type": "code",
   "execution_count": 66,
   "id": "4bc4ca52-b6f8-4202-a379-ea4e1b36f7e9",
   "metadata": {},
   "outputs": [
    {
     "data": {
      "text/plain": [
       "Index(['date', 'no', 'n_s', 'c_rn', 'c_rs', 'c_r', 'wolf', 'notes',\n",
       "       'date_original', 'invalid_date', 'year'],\n",
       "      dtype='object')"
      ]
     },
     "execution_count": 66,
     "metadata": {},
     "output_type": "execute_result"
    }
   ],
   "source": [
    "solarData.columns"
   ]
  },
  {
   "cell_type": "code",
   "execution_count": 67,
   "id": "ca7babfd-d87f-4f11-a64a-a88b139eb6bd",
   "metadata": {},
   "outputs": [
    {
     "data": {
      "text/html": [
       "<div>\n",
       "<style scoped>\n",
       "    .dataframe tbody tr th:only-of-type {\n",
       "        vertical-align: middle;\n",
       "    }\n",
       "\n",
       "    .dataframe tbody tr th {\n",
       "        vertical-align: top;\n",
       "    }\n",
       "\n",
       "    .dataframe thead th {\n",
       "        text-align: right;\n",
       "    }\n",
       "</style>\n",
       "<table border=\"1\" class=\"dataframe\">\n",
       "  <thead>\n",
       "    <tr style=\"text-align: right;\">\n",
       "      <th></th>\n",
       "      <th>date</th>\n",
       "      <th>no</th>\n",
       "      <th>n_s</th>\n",
       "      <th>c_rn</th>\n",
       "      <th>c_rs</th>\n",
       "      <th>c_r</th>\n",
       "      <th>wolf</th>\n",
       "      <th>notes</th>\n",
       "      <th>date_original</th>\n",
       "      <th>invalid_date</th>\n",
       "      <th>year</th>\n",
       "    </tr>\n",
       "  </thead>\n",
       "  <tbody>\n",
       "    <tr>\n",
       "      <th>0</th>\n",
       "      <td>1853-11-09</td>\n",
       "      <td>1</td>\n",
       "      <td>N</td>\n",
       "      <td>11</td>\n",
       "      <td>0</td>\n",
       "      <td>11</td>\n",
       "      <td>22.0</td>\n",
       "      <td>NaN</td>\n",
       "      <td>9 Nov 1853</td>\n",
       "      <td>False</td>\n",
       "      <td>1853.0</td>\n",
       "    </tr>\n",
       "    <tr>\n",
       "      <th>1</th>\n",
       "      <td>1853-11-17</td>\n",
       "      <td>1</td>\n",
       "      <td>N</td>\n",
       "      <td>11</td>\n",
       "      <td>0</td>\n",
       "      <td>0</td>\n",
       "      <td>0.0</td>\n",
       "      <td>NaN</td>\n",
       "      <td>17 Nov 1853</td>\n",
       "      <td>False</td>\n",
       "      <td>1853.0</td>\n",
       "    </tr>\n",
       "    <tr>\n",
       "      <th>2</th>\n",
       "      <td>1853-11-17</td>\n",
       "      <td>2</td>\n",
       "      <td>N</td>\n",
       "      <td>11</td>\n",
       "      <td>0</td>\n",
       "      <td>22</td>\n",
       "      <td>28.0</td>\n",
       "      <td>NaN</td>\n",
       "      <td>17 Nov 1853</td>\n",
       "      <td>False</td>\n",
       "      <td>1853.0</td>\n",
       "    </tr>\n",
       "    <tr>\n",
       "      <th>3</th>\n",
       "      <td>1853-11-21</td>\n",
       "      <td>2</td>\n",
       "      <td>N</td>\n",
       "      <td>14</td>\n",
       "      <td>0</td>\n",
       "      <td>14</td>\n",
       "      <td>20.0</td>\n",
       "      <td>NaN</td>\n",
       "      <td>21 Nov 1853</td>\n",
       "      <td>False</td>\n",
       "      <td>1853.0</td>\n",
       "    </tr>\n",
       "    <tr>\n",
       "      <th>4</th>\n",
       "      <td>1853-11-23</td>\n",
       "      <td>3</td>\n",
       "      <td>S</td>\n",
       "      <td>0</td>\n",
       "      <td>12</td>\n",
       "      <td>12</td>\n",
       "      <td>38.0</td>\n",
       "      <td>NaN</td>\n",
       "      <td>23 Nov 1853</td>\n",
       "      <td>False</td>\n",
       "      <td>1853.0</td>\n",
       "    </tr>\n",
       "  </tbody>\n",
       "</table>\n",
       "</div>"
      ],
      "text/plain": [
       "        date  no n_s  c_rn  c_rs  c_r  wolf notes date_original  invalid_date  \\\n",
       "0 1853-11-09   1   N    11     0   11  22.0   NaN    9 Nov 1853         False   \n",
       "1 1853-11-17   1   N    11     0    0   0.0   NaN   17 Nov 1853         False   \n",
       "2 1853-11-17   2   N    11     0   22  28.0   NaN   17 Nov 1853         False   \n",
       "3 1853-11-21   2   N    14     0   14  20.0   NaN   21 Nov 1853         False   \n",
       "4 1853-11-23   3   S     0    12   12  38.0   NaN   23 Nov 1853         False   \n",
       "\n",
       "     year  \n",
       "0  1853.0  \n",
       "1  1853.0  \n",
       "2  1853.0  \n",
       "3  1853.0  \n",
       "4  1853.0  "
      ]
     },
     "execution_count": 67,
     "metadata": {},
     "output_type": "execute_result"
    }
   ],
   "source": [
    "solarData.head(5)"
   ]
  },
  {
   "cell_type": "code",
   "execution_count": 68,
   "id": "009c3da1-eb3b-4176-a515-8c4d6123eff4",
   "metadata": {},
   "outputs": [
    {
     "data": {
      "image/png": "[encoded data removed]",
      "text/plain": [
       "<Figure size 1000x600 with 1 Axes>"
      ]
     },
     "metadata": {},
     "output_type": "display_data"
    }
   ],
   "source": [
    "plot_graphs(\n",
    "    df=solarData,\n",
    "    plot_type='scatter',\n",
    "    x_col='c_rn',\n",
    "    y_col='c_rs',\n",
    "    regression=True,\n",
    "    title='Correlation of Sunspot Groups: North vs South',\n",
    "    xlabel='Northern Hemisphere Groups',\n",
    "    ylabel='Southern Hemisphere Groups',\n",
    "    show_corr=True\n",
    ")"
   ]
  },
  {
   "cell_type": "markdown",
   "id": "173a8ffa-31d9-4587-a92c-5a13c8cbf53e",
   "metadata": {},
   "source": [
    "# Scatter показващ броя на групите на слънчевите петна в северното полукълбо (c_rn) по оста X и броя на групите в южното полукълбо (c_rs) по оста Y, и \n",
    "# линия показваща регресията\n",
    "\n",
    "Наблюдаваме отрицателна корелация (Пирсън r = -0.56)\n",
    "Коефициентът на корелация на Пирсън -0.56 показва умерена отрицателна връзка между броя на групите слънчеви петна в северното и южното полукълбо.\n",
    "\n",
    "С други думи — когато броят на групите на север се увеличава, броят на групите на юг има тенденция да намалява, и обратно.\n",
    "\n",
    "Разпределение на точките\n",
    "Повечето точки са струпани близо до x = 0 (малък брой групи на север) или y = 0 (малък брой групи на юг).\n",
    "Това предполага, че много от наблюденията имат активност, концентрирана в едно от полукълбата в даден момент.\n",
    "\n",
    "Линия на регресията\n",
    "Регресионната линия има отрицателен наклон, в съответствие с отрицателната корелация.\n",
    "Наклонът ѝ показва колко средно намалява броят на групите в южното полукълбо при увеличаване на броя в северното.\n",
    "\n",
    "Възможна причина:\n",
    "Активността на слънчевите петна често премества доминацията между полукълбата през слънчевите цикли — \n",
    "понякога северът е по-активен, понякога югът."
   ]
  },
  {
   "cell_type": "code",
   "execution_count": 69,
   "id": "954a7a09-92dd-46c4-8ac8-112b02f8182c",
   "metadata": {},
   "outputs": [
    {
     "data": {
      "image/png": "[encoded data removed]",
      "text/plain": [
       "<Figure size 1000x600 with 1 Axes>"
      ]
     },
     "metadata": {},
     "output_type": "display_data"
    }
   ],
   "source": [
    "plot_graphs(\n",
    "    df=solarData,\n",
    "    plot_type='line',\n",
    "    x_col='year',\n",
    "    y_col='c_r',\n",
    "    title='Total Sunspot Groups per Year',\n",
    "    xlabel='Year',\n",
    "    ylabel='Total Groups'\n",
    ")"
   ]
  },
  {
   "cell_type": "code",
   "execution_count": 70,
   "id": "79a504bf-6024-4232-bda6-09a8d3ae4770",
   "metadata": {},
   "outputs": [
    {
     "name": "stdout",
     "output_type": "stream",
     "text": [
      "     year  c_rn  c_rs    c_r\n",
      "0  1853.0   218   164    382\n",
      "1  1854.0  1572  1008   2692\n",
      "2  1855.0   682   553   1235\n",
      "3  1856.0   327   663    990\n",
      "4  1857.0  1896  2359   4255\n",
      "5  1858.0  2246  5842   8088\n",
      "6  1859.0  3262  3630   6828\n",
      "7  1860.0  9147  9051  18198\n",
      "8  1861.0  1783  1822   3605\n"
     ]
    }
   ],
   "source": [
    "solarData = solarData.groupby('year')[['c_rn','c_rs','c_r']].sum().reset_index()\n",
    "print(solarData)"
   ]
  },
  {
   "cell_type": "code",
   "execution_count": null,
   "id": "197cfdb2-83dd-4aa6-8093-4533569593c4",
   "metadata": {},
   "outputs": [],
   "source": []
  }
 ],
 "metadata": {
  "kernelspec": {
   "display_name": "Python [conda env:base] *",
   "language": "python",
   "name": "conda-base-py"
  },
  "language_info": {
   "codemirror_mode": {
    "name": "ipython",
    "version": 3
   },
   "file_extension": ".py",
   "mimetype": "text/x-python",
   "name": "python",
   "nbconvert_exporter": "python",
   "pygments_lexer": "ipython3",
   "version": "3.13.5"
  }
 },
 "nbformat": 4,
 "nbformat_minor": 5
}
